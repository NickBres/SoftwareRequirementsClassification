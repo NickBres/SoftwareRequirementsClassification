{
 "cells": [
  {
   "cell_type": "markdown",
   "source": [
    "# Software Requirements Classification\n",
    "## Decision Tree Classifier"
   ],
   "metadata": {
    "collapsed": false
   },
   "id": "b2ac3f72c68faa84"
  },
  {
   "cell_type": "code",
   "execution_count": 103,
   "id": "initial_id",
   "metadata": {
    "collapsed": true,
    "ExecuteTime": {
     "end_time": "2024-03-13T17:15:51.903952Z",
     "start_time": "2024-03-13T17:15:51.896416Z"
    }
   },
   "outputs": [],
   "source": [
    "import pandas as pd\n",
    "\n",
    "df = pd.read_csv('software_requirements_extended.csv')\n",
    "df['Type'] = df['Type'].apply(lambda x: 1 if x == 'FR' or x == 'F' else 0)"
   ]
  },
  {
   "cell_type": "code",
   "outputs": [
    {
     "name": "stderr",
     "output_type": "stream",
     "text": [
      "[nltk_data] Downloading package wordnet to\n",
      "[nltk_data]     /Users/nickbres/nltk_data...\n",
      "[nltk_data]   Package wordnet is already up-to-date!\n",
      "[nltk_data] Downloading package omw-1.4 to\n",
      "[nltk_data]     /Users/nickbres/nltk_data...\n",
      "[nltk_data]   Package omw-1.4 is already up-to-date!\n"
     ]
    }
   ],
   "source": [
    "\n",
    "import nltk\n",
    "from nltk.corpus import stopwords\n",
    "from nltk.stem import WordNetLemmatizer\n",
    "from nltk.stem.porter import *\n",
    "nltk.download('wordnet')\n",
    "nltk.download('omw-1.4')\n",
    "from nltk.stem.porter import *"
   ],
   "metadata": {
    "collapsed": false,
    "ExecuteTime": {
     "end_time": "2024-03-13T17:15:52.003683Z",
     "start_time": "2024-03-13T17:15:52.001469Z"
    }
   },
   "id": "f6a783aab34913d9",
   "execution_count": 104
  },
  {
   "cell_type": "code",
   "outputs": [],
   "source": [
    "# Pre-load stopwords to improve efficiency\n",
    "STOPWORDS = set(stopwords.words(\"english\"))\n",
    "\n",
    "# Expanded pattern to potentially keep useful punctuation or additional cleaning\n",
    "pattern_without_numbers = re.compile(r\"[^a-zA-Z]\")\n",
    "pattern_with_numbers = re.compile(r\"[^\\w\\d]\")\n",
    "\n",
    "def req_to_words(req, delete_stopwords, with_numbers, normalize_numbers,lemmatize = False,stemming = False,):\n",
    "    \"\"\"Convert requirement text into a sequence of 'clean' words\"\"\"\n",
    "    # Convert to lower case\n",
    "    text = req.lower()\n",
    "\n",
    "    if with_numbers:\n",
    "        pattern = pattern_with_numbers\n",
    "    else:\n",
    "        pattern = pattern_without_numbers\n",
    "\n",
    "    if with_numbers and normalize_numbers:\n",
    "        text = re.sub(r'\\b\\d+\\b', 'num', text)\n",
    "\n",
    "    # Remove unwanted characters\n",
    "    text = re.sub(pattern, \" \", text)\n",
    "\n",
    "    # Tokenize\n",
    "    words = text.split()\n",
    "\n",
    "    # Remove stopwords\n",
    "    if delete_stopwords:\n",
    "        words = [w for w in words if w not in STOPWORDS]\n",
    "\n",
    "    # Apply lemmatization or stemming\n",
    "    if lemmatize:\n",
    "        words = [ WordNetLemmatizer().lemmatize(w) for w in words]\n",
    "    elif stemming: # Stemming\n",
    "        words = [PorterStemmer().stem(w) for w in words]\n",
    "\n",
    "    # join the words back into one string\n",
    "    clean_req = \" \".join(words)\n",
    "\n",
    "    return clean_req"
   ],
   "metadata": {
    "collapsed": false,
    "ExecuteTime": {
     "end_time": "2024-03-13T17:15:52.010243Z",
     "start_time": "2024-03-13T17:15:52.006670Z"
    }
   },
   "id": "7c08d6245870e8a4",
   "execution_count": 105
  },
  {
   "cell_type": "markdown",
   "source": [
    "### Vectorization"
   ],
   "metadata": {
    "collapsed": false
   },
   "id": "753a7341b81ac781"
  },
  {
   "cell_type": "markdown",
   "source": [
    "## Model"
   ],
   "metadata": {
    "collapsed": false
   },
   "id": "3a7e6a50714964d6"
  },
  {
   "cell_type": "code",
   "outputs": [],
   "source": [
    "from sklearn.model_selection import GridSearchCV\n",
    "from sklearn.tree import DecisionTreeClassifier\n",
    "\n",
    "def find_best_hyperparameters(X,y):\n",
    "    param_grid = {\n",
    "        'max_depth': [None, 10, 20, 30, 40, 50],  # None means unlimited depth\n",
    "        'min_samples_split': [2, 5, 10, 20],  # The minimum number of samples required to split\n",
    "        'min_samples_leaf': [1, 2, 5, 10],  # The minimum number of samples required at a leaf node\n",
    "        'criterion': ['gini', 'entropy']  # The function to measure the quality of a split\n",
    "    }\n",
    "    \n",
    "    grid_search = GridSearchCV(DecisionTreeClassifier(), param_grid, cv=5, n_jobs=-1, scoring='accuracy', verbose=2)\n",
    "    \n",
    "    grid_search.fit(X, y)\n",
    "    \n",
    "    print(\"Best parameters:\", grid_search.best_params_)\n",
    "    print(\"Best cross-validated score:\", grid_search.best_score_)\n",
    "    return grid_search.best_params_, grid_search.best_score_"
   ],
   "metadata": {
    "collapsed": false,
    "ExecuteTime": {
     "end_time": "2024-03-13T17:15:52.043765Z",
     "start_time": "2024-03-13T17:15:52.040419Z"
    }
   },
   "id": "baaca9df4220b93e",
   "execution_count": 106
  },
  {
   "cell_type": "code",
   "outputs": [],
   "source": [
    "import pandas as pd\n",
    "\n",
    "def draw_important_features_for_tree(model, vectorizer):\n",
    "    # Get the feature importances from the model\n",
    "    feature_importances = model.feature_importances_\n",
    "\n",
    "    # Get the feature names from the vectorizer\n",
    "    feature_names = vectorizer.get_feature_names_out()\n",
    "\n",
    "    # Zip feature importances with names and create a DataFrame\n",
    "    importance_df = pd.DataFrame(list(zip(feature_names, feature_importances)), columns=['Feature', 'Importance'])\n",
    "\n",
    "    # Sort the DataFrame by the Importance column in descending order\n",
    "    importance_df = importance_df.sort_values(by='Importance', ascending=False)\n",
    "\n",
    "    # Plot the top 10 features\n",
    "    plt.figure(figsize=(10, 8))\n",
    "    plt.barh(importance_df['Feature'][:10], importance_df['Importance'][:10])\n",
    "    plt.gca().invert_yaxis()  # Invert the y-axis to show the most important feature at the top\n",
    "    plt.xlabel('Feature Importance')\n",
    "    plt.title('Top 10 Features')\n",
    "    plt.show()\n"
   ],
   "metadata": {
    "collapsed": false,
    "ExecuteTime": {
     "end_time": "2024-03-13T17:15:52.070902Z",
     "start_time": "2024-03-13T17:15:52.068181Z"
    }
   },
   "id": "de64a930653c088e",
   "execution_count": 107
  },
  {
   "cell_type": "code",
   "outputs": [],
   "source": [
    "from sklearn.metrics import confusion_matrix\n",
    "import seaborn as sns\n",
    "\n",
    "def draw_confusion_matrix(y_test, y_pred):\n",
    "    # Compute the normalized confusion matrix\n",
    "    cm_normalized = confusion_matrix(y_test, y_pred, normalize='true')\n",
    "\n",
    "    # Convert to percentage\n",
    "    cm_percentage = cm_normalized * 100\n",
    "\n",
    "    # Visualize the confusion matrix as percentages\n",
    "    plt.figure(figsize=(10,7))\n",
    "    sns.heatmap(cm_percentage, annot=True, fmt=\".2f\", cmap=\"Blues\", xticklabels=['Non-Functional', 'Functional'], yticklabels=['Non-Functional', 'Functional'])\n",
    "    plt.title('Confusion Matrix (Percentage)')\n",
    "    plt.xlabel('Predicted Label')\n",
    "    plt.ylabel('True Label')\n",
    "    plt.show()"
   ],
   "metadata": {
    "collapsed": false,
    "ExecuteTime": {
     "end_time": "2024-03-13T17:15:52.086334Z",
     "start_time": "2024-03-13T17:15:52.083368Z"
    }
   },
   "id": "9b45b313bb37ff75",
   "execution_count": 108
  },
  {
   "cell_type": "code",
   "outputs": [],
   "source": [
    "from sklearn.model_selection import train_test_split\n",
    "from sklearn.feature_extraction.text import TfidfVectorizer\n",
    "from sklearn.metrics import accuracy_score, classification_report\n",
    "\n",
    "def run_experiment(df, preprocessing_params, isVisualize = True):\n",
    "    \"\"\"\n",
    "    Run an experiment to train a logistic regression model with the best hyperparameters found using grid search.\n",
    "    Evaluates the model using cross-validation and on a test set, and displays the model's important features and confusion matrix.\n",
    "\n",
    "    Parameters:\n",
    "    - df: DataFrame containing the dataset.\n",
    "    - preprocessing_params: Dictionary containing preprocessing parameters (lemmatize, delete_stopwords, normalize_numbers, etc.).\n",
    "    - ngram_range: Tuple indicating the range of n-grams to be used in vectorization.\n",
    "    \"\"\"\n",
    "    # Extract preprocessing parameters\n",
    "    lemmatize = preprocessing_params.get('lemmatize', False)\n",
    "    stemming = preprocessing_params.get('stemming', False)\n",
    "    delete_stopwords = preprocessing_params.get('delete_stopwords', True)\n",
    "    with_numbers = preprocessing_params.get('with_numbers', True)\n",
    "    normalize_numbers = preprocessing_params.get('normalize_numbers', True)\n",
    "\n",
    "    # Prepare the data\n",
    "    y = df['Type']\n",
    "    # Preprocess the requirements to convert them into 'clean' words\n",
    "    X = [req_to_words(req, lemmatize=lemmatize,stemming= stemming, delete_stopwords=delete_stopwords, with_numbers=with_numbers, normalize_numbers=normalize_numbers) for req in df['Requirement']]\n",
    "\n",
    "\n",
    "    # Split the data\n",
    "    X_train, X_test, y_train, y_test = train_test_split(X, y, test_size=0.3, random_state=42)\n",
    "\n",
    "    # Vectorize the text\n",
    "    vectorizer = TfidfVectorizer()\n",
    "    X_train = vectorizer.fit_transform(X_train)\n",
    "    X_test = vectorizer.transform(X_test)\n",
    "\n",
    "    # Find the best model parameters\n",
    "    best_params,best_cross = find_best_hyperparameters(X_train, y_train)\n",
    "\n",
    "    # Create the best estimator\n",
    "    best_estimator = DecisionTreeClassifier(**best_params)\n",
    "\n",
    "    # Train the best estimator on the full training set\n",
    "    best_estimator.fit(X_train, y_train)\n",
    "\n",
    "    # Evaluate on the test set\n",
    "    y_pred = best_estimator.predict(X_test)\n",
    "    test_accuracy = accuracy_score(y_test, y_pred)\n",
    "    if isVisualize:\n",
    "        print(f'Accuracy: {test_accuracy * 100:.2f}%')\n",
    "\n",
    "        # Detailed performance report\n",
    "        print(classification_report(y_test, y_pred))\n",
    "\n",
    "        # Additional evaluations\n",
    "        draw_important_features_for_tree(best_estimator, vectorizer)\n",
    "        draw_confusion_matrix(y_test, y_pred)\n",
    "\n",
    "    return best_estimator, vectorizer, best_cross"
   ],
   "metadata": {
    "collapsed": false,
    "ExecuteTime": {
     "end_time": "2024-03-13T17:15:52.094321Z",
     "start_time": "2024-03-13T17:15:52.089605Z"
    }
   },
   "id": "3bb5c622385cce6d",
   "execution_count": 109
  },
  {
   "cell_type": "markdown",
   "source": [
    "### Experimenting "
   ],
   "metadata": {
    "collapsed": false
   },
   "id": "d7d5debdee61a599"
  },
  {
   "cell_type": "code",
   "outputs": [
    {
     "name": "stdout",
     "output_type": "stream",
     "text": [
      "Fitting 5 folds for each of 192 candidates, totalling 960 fits\n",
      "Best parameters: {'criterion': 'gini', 'max_depth': 40, 'min_samples_leaf': 1, 'min_samples_split': 2}\n",
      "Best cross-validated score: 0.8024259338772005\n",
      "Accuracy: 83.33%\n",
      "              precision    recall  f1-score   support\n",
      "\n",
      "           0       0.80      0.84      0.82       131\n",
      "           1       0.87      0.83      0.85       163\n",
      "\n",
      "    accuracy                           0.83       294\n",
      "   macro avg       0.83      0.83      0.83       294\n",
      "weighted avg       0.83      0.83      0.83       294\n"
     ]
    },
    {
     "data": {
      "text/plain": "<Figure size 1000x800 with 1 Axes>",
      "image/png": "[encoded data removed]"
     },
     "metadata": {},
     "output_type": "display_data"
    },
    {
     "data": {
      "text/plain": "<Figure size 1000x700 with 2 Axes>",
      "image/png": "[encoded data removed]"
     },
     "metadata": {},
     "output_type": "display_data"
    }
   ],
   "source": [
    "preprocessing_params = {\n",
    "    'lemmatize': False, # use lemmatization false by default\n",
    "    'stemming': False, # use stemming false by default\n",
    "    'delete_stopwords': True, # delete stopwords like 'the', 'and', etc.\n",
    "    'with_numbers': True, # keep numbers or not\n",
    "    'normalize_numbers': False # normalize numbers to a single token (will only work if with_numbers is True)\n",
    "}\n",
    "model, vectorizer,cross = run_experiment(df, preprocessing_params)"
   ],
   "metadata": {
    "collapsed": false,
    "ExecuteTime": {
     "end_time": "2024-03-13T17:15:53.894705Z",
     "start_time": "2024-03-13T17:15:52.117145Z"
    }
   },
   "id": "cbcc9c24d859fe4c",
   "execution_count": 110
  },
  {
   "cell_type": "code",
   "outputs": [],
   "source": [
    "from itertools import product\n",
    "\n",
    "def find_best_cleaning_params(df):\n",
    "    \"\"\"\n",
    "    Try all combinations of cleaning parameters and return the combination\n",
    "    with the highest cross-validation score.\n",
    "    \"\"\"\n",
    "    best_score = 0\n",
    "    best_params = {}\n",
    "\n",
    "    # Generate all possible combinations of boolean values for the parameters\n",
    "    # There are five parameters, so there are 2^5 = 32 possible combinations\n",
    "    for lemmatize, stemming, delete_stopwords, with_numbers, normalize_numbers in product([True, False], repeat=5):\n",
    "\n",
    "        # Skip invalid combinations where we attempt to normalize numbers when they are not included\n",
    "        if normalize_numbers and not with_numbers:\n",
    "            continue\n",
    "\n",
    "        # Set up the preprocessing parameters\n",
    "        preprocessing_params = {\n",
    "            'lemmatize': lemmatize,\n",
    "            'stemming': stemming,\n",
    "            'delete_stopwords': delete_stopwords,\n",
    "            'with_numbers': with_numbers,\n",
    "            'normalize_numbers': normalize_numbers\n",
    "        }\n",
    "\n",
    "        # Run the experiment with the current combination of parameters\n",
    "        _, _, best_cross = run_experiment(df, preprocessing_params, isVisualize = False)\n",
    "\n",
    "        # Update best score and parameters if current score is higher\n",
    "        if best_cross > best_score:\n",
    "            best_score = best_cross\n",
    "            best_params = preprocessing_params\n",
    "\n",
    "    return best_params, best_score"
   ],
   "metadata": {
    "collapsed": false,
    "ExecuteTime": {
     "end_time": "2024-03-13T17:15:53.899364Z",
     "start_time": "2024-03-13T17:15:53.896252Z"
    }
   },
   "id": "d17da01933890a11",
   "execution_count": 111
  },
  {
   "cell_type": "code",
   "outputs": [],
   "source": [
    "# best_params, best_score = find_best_cleaning_params(df)\n",
    "# print(\"Best parameters:\", best_params)\n",
    "# print(\"Best cross-validation score:\", best_score)"
   ],
   "metadata": {
    "collapsed": false,
    "ExecuteTime": {
     "end_time": "2024-03-13T17:15:53.901775Z",
     "start_time": "2024-03-13T17:15:53.900367Z"
    }
   },
   "id": "8d20a11bf4d329df",
   "execution_count": 112
  },
  {
   "cell_type": "markdown",
   "source": [
    "### With AdaBoost"
   ],
   "metadata": {
    "collapsed": false
   },
   "id": "9ad92899116e2f61"
  },
  {
   "cell_type": "code",
   "outputs": [],
   "source": [
    "from sklearn.ensemble import AdaBoostClassifier"
   ],
   "metadata": {
    "collapsed": false,
    "ExecuteTime": {
     "end_time": "2024-03-13T17:15:53.904568Z",
     "start_time": "2024-03-13T17:15:53.903065Z"
    }
   },
   "id": "9665decd9614662a",
   "execution_count": 113
  },
  {
   "cell_type": "code",
   "outputs": [],
   "source": [
    "# Prepare the data\n",
    "y = df['Type']\n",
    "# Preprocess the requirements to convert them into 'clean' words\n",
    "X = [req_to_words(req, lemmatize=False,stemming= False, delete_stopwords=True, with_numbers=True, normalize_numbers=False) for req in df['Requirement']]\n",
    "\n",
    "\n",
    "\n",
    "# Split the data\n",
    "X_train, X_test, y_train, y_test = train_test_split(X, y, test_size=0.3, random_state=42)\n",
    "\n",
    "\n",
    "# Vectorize the text\n",
    "vectorizer = TfidfVectorizer()\n",
    "X_train = vectorizer.fit_transform(X_train)\n",
    "X_test = vectorizer.transform(X_test)"
   ],
   "metadata": {
    "collapsed": false,
    "ExecuteTime": {
     "end_time": "2024-03-13T17:15:53.924334Z",
     "start_time": "2024-03-13T17:15:53.905185Z"
    }
   },
   "id": "a280dcb4679205c",
   "execution_count": 114
  },
  {
   "cell_type": "code",
   "outputs": [
    {
     "name": "stdout",
     "output_type": "stream",
     "text": [
      "Fitting 5 folds for each of 24 candidates, totalling 120 fits\n",
      "Best parameters: {'learning_rate': 0.1, 'n_estimators': 100}\n",
      "Best cross-validated score: 0.7833941605839416\n"
     ]
    }
   ],
   "source": [
    "param_grid = {\n",
    "    'n_estimators': [30,50,100,150],\n",
    "    'learning_rate': [0.01,0.1, 0.5, 1, 2, 5]\n",
    "}\n",
    "\n",
    "grid_search = GridSearchCV(AdaBoostClassifier(\n",
    "    estimator=DecisionTreeClassifier(\n",
    "        criterion='entropy',\n",
    "        max_depth=50,\n",
    "        min_samples_leaf=1,\n",
    "        min_samples_split=2\n",
    "    )\n",
    "), param_grid, cv=5, n_jobs=-1, scoring='accuracy', verbose=2)\n",
    "\n",
    "grid_search.fit(X_train, y_train)\n",
    "\n",
    "print(\"Best parameters:\", grid_search.best_params_)\n",
    "print(\"Best cross-validated score:\", grid_search.best_score_)"
   ],
   "metadata": {
    "collapsed": false,
    "ExecuteTime": {
     "end_time": "2024-03-13T17:15:54.246661Z",
     "start_time": "2024-03-13T17:15:53.925358Z"
    }
   },
   "id": "e7da0977075301d2",
   "execution_count": 115
  },
  {
   "cell_type": "code",
   "outputs": [
    {
     "data": {
      "text/plain": "AdaBoostClassifier(estimator=DecisionTreeClassifier(criterion='entropy',\n                                                    max_depth=50),\n                   learning_rate=0.1, n_estimators=100)",
      "text/html": "<style>#sk-container-id-2 {color: black;}#sk-container-id-2 pre{padding: 0;}#sk-container-id-2 div.sk-toggleable {background-color: white;}#sk-container-id-2 label.sk-toggleable__label {cursor: pointer;display: block;width: 100%;margin-bottom: 0;padding: 0.3em;box-sizing: border-box;text-align: center;}#sk-container-id-2 label.sk-toggleable__label-arrow:before {content: \"▸\";float: left;margin-right: 0.25em;color: #696969;}#sk-container-id-2 label.sk-toggleable__label-arrow:hover:before {color: black;}#sk-container-id-2 div.sk-estimator:hover label.sk-toggleable__label-arrow:before {color: black;}#sk-container-id-2 div.sk-toggleable__content {max-height: 0;max-width: 0;overflow: hidden;text-align: left;background-color: #f0f8ff;}#sk-container-id-2 div.sk-toggleable__content pre {margin: 0.2em;color: black;border-radius: 0.25em;background-color: #f0f8ff;}#sk-container-id-2 input.sk-toggleable__control:checked~div.sk-toggleable__content {max-height: 200px;max-width: 100%;overflow: auto;}#sk-container-id-2 input.sk-toggleable__control:checked~label.sk-toggleable__label-arrow:before {content: \"▾\";}#sk-container-id-2 div.sk-estimator input.sk-toggleable__control:checked~label.sk-toggleable__label {background-color: #d4ebff;}#sk-container-id-2 div.sk-label input.sk-toggleable__control:checked~label.sk-toggleable__label {background-color: #d4ebff;}#sk-container-id-2 input.sk-hidden--visually {border: 0;clip: rect(1px 1px 1px 1px);clip: rect(1px, 1px, 1px, 1px);height: 1px;margin: -1px;overflow: hidden;padding: 0;position: absolute;width: 1px;}#sk-container-id-2 div.sk-estimator {font-family: monospace;background-color: #f0f8ff;border: 1px dotted black;border-radius: 0.25em;box-sizing: border-box;margin-bottom: 0.5em;}#sk-container-id-2 div.sk-estimator:hover {background-color: #d4ebff;}#sk-container-id-2 div.sk-parallel-item::after {content: \"\";width: 100%;border-bottom: 1px solid gray;flex-grow: 1;}#sk-container-id-2 div.sk-label:hover label.sk-toggleable__label {background-color: #d4ebff;}#sk-container-id-2 div.sk-serial::before {content: \"\";position: absolute;border-left: 1px solid gray;box-sizing: border-box;top: 0;bottom: 0;left: 50%;z-index: 0;}#sk-container-id-2 div.sk-serial {display: flex;flex-direction: column;align-items: center;background-color: white;padding-right: 0.2em;padding-left: 0.2em;position: relative;}#sk-container-id-2 div.sk-item {position: relative;z-index: 1;}#sk-container-id-2 div.sk-parallel {display: flex;align-items: stretch;justify-content: center;background-color: white;position: relative;}#sk-container-id-2 div.sk-item::before, #sk-container-id-2 div.sk-parallel-item::before {content: \"\";position: absolute;border-left: 1px solid gray;box-sizing: border-box;top: 0;bottom: 0;left: 50%;z-index: -1;}#sk-container-id-2 div.sk-parallel-item {display: flex;flex-direction: column;z-index: 1;position: relative;background-color: white;}#sk-container-id-2 div.sk-parallel-item:first-child::after {align-self: flex-end;width: 50%;}#sk-container-id-2 div.sk-parallel-item:last-child::after {align-self: flex-start;width: 50%;}#sk-container-id-2 div.sk-parallel-item:only-child::after {width: 0;}#sk-container-id-2 div.sk-dashed-wrapped {border: 1px dashed gray;margin: 0 0.4em 0.5em 0.4em;box-sizing: border-box;padding-bottom: 0.4em;background-color: white;}#sk-container-id-2 div.sk-label label {font-family: monospace;font-weight: bold;display: inline-block;line-height: 1.2em;}#sk-container-id-2 div.sk-label-container {text-align: center;}#sk-container-id-2 div.sk-container {/* jupyter's `normalize.less` sets `[hidden] { display: none; }` but bootstrap.min.css set `[hidden] { display: none !important; }` so we also need the `!important` here to be able to override the default hidden behavior on the sphinx rendered scikit-learn.org. See: https://github.com/scikit-learn/scikit-learn/issues/21755 */display: inline-block !important;position: relative;}#sk-container-id-2 div.sk-text-repr-fallback {display: none;}</style><div id=\"sk-container-id-2\" class=\"sk-top-container\"><div class=\"sk-text-repr-fallback\"><pre>AdaBoostClassifier(estimator=DecisionTreeClassifier(criterion=&#x27;entropy&#x27;,\n                                                    max_depth=50),\n                   learning_rate=0.1, n_estimators=100)</pre><b>In a Jupyter environment, please rerun this cell to show the HTML representation or trust the notebook. <br />On GitHub, the HTML representation is unable to render, please try loading this page with nbviewer.org.</b></div><div class=\"sk-container\" hidden><div class=\"sk-item sk-dashed-wrapped\"><div class=\"sk-label-container\"><div class=\"sk-label sk-toggleable\"><input class=\"sk-toggleable__control sk-hidden--visually\" id=\"sk-estimator-id-4\" type=\"checkbox\" ><label for=\"sk-estimator-id-4\" class=\"sk-toggleable__label sk-toggleable__label-arrow\">AdaBoostClassifier</label><div class=\"sk-toggleable__content\"><pre>AdaBoostClassifier(estimator=DecisionTreeClassifier(criterion=&#x27;entropy&#x27;,\n                                                    max_depth=50),\n                   learning_rate=0.1, n_estimators=100)</pre></div></div></div><div class=\"sk-parallel\"><div class=\"sk-parallel-item\"><div class=\"sk-item\"><div class=\"sk-label-container\"><div class=\"sk-label sk-toggleable\"><input class=\"sk-toggleable__control sk-hidden--visually\" id=\"sk-estimator-id-5\" type=\"checkbox\" ><label for=\"sk-estimator-id-5\" class=\"sk-toggleable__label sk-toggleable__label-arrow\">estimator: DecisionTreeClassifier</label><div class=\"sk-toggleable__content\"><pre>DecisionTreeClassifier(criterion=&#x27;entropy&#x27;, max_depth=50)</pre></div></div></div><div class=\"sk-serial\"><div class=\"sk-item\"><div class=\"sk-estimator sk-toggleable\"><input class=\"sk-toggleable__control sk-hidden--visually\" id=\"sk-estimator-id-6\" type=\"checkbox\" ><label for=\"sk-estimator-id-6\" class=\"sk-toggleable__label sk-toggleable__label-arrow\">DecisionTreeClassifier</label><div class=\"sk-toggleable__content\"><pre>DecisionTreeClassifier(criterion=&#x27;entropy&#x27;, max_depth=50)</pre></div></div></div></div></div></div></div></div></div></div>"
     },
     "execution_count": 123,
     "metadata": {},
     "output_type": "execute_result"
    }
   ],
   "source": [
    "ada_model = AdaBoostClassifier(\n",
    "    estimator=DecisionTreeClassifier(\n",
    "        criterion='entropy',\n",
    "        max_depth=50,\n",
    "        min_samples_leaf=1,\n",
    "        min_samples_split=2\n",
    "    ),\n",
    "    n_estimators=100,\n",
    "    learning_rate=0.1\n",
    ")\n",
    "ada_model.fit(X_train, y_train)"
   ],
   "metadata": {
    "collapsed": false,
    "ExecuteTime": {
     "end_time": "2024-03-13T17:16:33.239652Z",
     "start_time": "2024-03-13T17:16:33.150417Z"
    }
   },
   "id": "51c8ec7f9c554c21",
   "execution_count": 123
  },
  {
   "cell_type": "code",
   "outputs": [
    {
     "name": "stdout",
     "output_type": "stream",
     "text": [
      "Accuracy: 82.31%\n",
      "              precision    recall  f1-score   support\n",
      "\n",
      "           0       0.77      0.87      0.81       131\n",
      "           1       0.88      0.79      0.83       163\n",
      "\n",
      "    accuracy                           0.82       294\n",
      "   macro avg       0.82      0.83      0.82       294\n",
      "weighted avg       0.83      0.82      0.82       294\n"
     ]
    }
   ],
   "source": [
    "y_pred = ada_model.predict(X_test)\n",
    "print(f'Accuracy: {accuracy_score(y_test,y_pred) * 100:.2f}%')\n",
    "print(classification_report(y_test, y_pred))"
   ],
   "metadata": {
    "collapsed": false,
    "ExecuteTime": {
     "end_time": "2024-03-13T17:16:35.672199Z",
     "start_time": "2024-03-13T17:16:35.664745Z"
    }
   },
   "id": "c0913b6b39f07edf",
   "execution_count": 124
  },
  {
   "cell_type": "code",
   "outputs": [
    {
     "data": {
      "text/plain": "<Figure size 1000x700 with 2 Axes>",
      "image/png": "[encoded data removed]"
     },
     "metadata": {},
     "output_type": "display_data"
    }
   ],
   "source": [
    "from sklearn.metrics import confusion_matrix\n",
    "import seaborn as sns\n",
    "import matplotlib.pyplot as plt\n",
    "\n",
    "\n",
    "# Compute the normalized confusion matrix\n",
    "cm_normalized = confusion_matrix(y_test, y_pred, normalize='true')\n",
    "\n",
    "# Convert to percentage\n",
    "cm_percentage = cm_normalized * 100\n",
    "\n",
    "# Visualize the confusion matrix as percentages\n",
    "plt.figure(figsize=(10,7))\n",
    "sns.heatmap(cm_percentage, annot=True, fmt=\".2f\", cmap=\"Blues\", xticklabels=['Non-Functional', 'Functional'], yticklabels=['Non-Functional', 'Functional'])\n",
    "plt.title('Confusion Matrix (Percentage)')\n",
    "plt.xlabel('Predicted Label')\n",
    "plt.ylabel('True Label')\n",
    "plt.show()\n"
   ],
   "metadata": {
    "collapsed": false,
    "ExecuteTime": {
     "end_time": "2024-03-13T17:15:54.398043Z",
     "start_time": "2024-03-13T17:15:54.281272Z"
    }
   },
   "id": "920fcf8f39b86270",
   "execution_count": 118
  },
  {
   "cell_type": "code",
   "outputs": [],
   "source": [
    "def predict_req(req, expected, model, vectorizer):\n",
    "    df = pd.DataFrame([req], columns=['Requirement'])\n",
    "    X = [' '.join(req_to_words(req)) for req in df['Requirement']]\n",
    "    X = vectorizer.transform(X)\n",
    "\n",
    "    prediction = model.predict(X)\n",
    "    predicted_label = 'Functional' if prediction[0] == 1 else 'Non-Functional'\n",
    "    success = predicted_label == expected\n",
    "\n",
    "    return predicted_label, success\n"
   ],
   "metadata": {
    "collapsed": false,
    "ExecuteTime": {
     "end_time": "2024-03-13T17:15:54.404897Z",
     "start_time": "2024-03-13T17:15:54.402503Z"
    }
   },
   "id": "3c0f00d3bafa287c",
   "execution_count": 119
  },
  {
   "cell_type": "code",
   "outputs": [],
   "source": [
    "def summarize_predictions(examples, model, vectorizer):\n",
    "    results = []\n",
    "    for req, expected_label in examples:\n",
    "        predicted_label, success = predict_req(req, expected_label, model, vectorizer)\n",
    "        results.append({\n",
    "            'Requirement': req,\n",
    "            'Expected Label': expected_label,\n",
    "            'Predicted Label': predicted_label,\n",
    "            'Success': success\n",
    "        })\n",
    "    return pd.DataFrame(results)"
   ],
   "metadata": {
    "collapsed": false,
    "ExecuteTime": {
     "end_time": "2024-03-13T17:15:54.407652Z",
     "start_time": "2024-03-13T17:15:54.405512Z"
    }
   },
   "id": "b4cd2a936cec1c2a",
   "execution_count": 120
  },
  {
   "cell_type": "code",
   "outputs": [],
   "source": [
    "examples = [\n",
    "    (\"The system shall provide a login form that accepts a username and password.\", 'Functional'),\n",
    "    (\"The application must ensure that response times are less than 2 seconds under normal load conditions.\", 'Non-Functional'),\n",
    "    (\"All user passwords shall be encrypted before saving to the database.\", 'Functional'),\n",
    "    (\"The software should be compatible with the Windows 10 operating system.\", 'Non-Functional'),\n",
    "    (\"The interface shall refresh when new data is available.\", 'Functional'),\n",
    "    (\"The product shall comply with international accessibility standards.\", 'Non-Functional'),\n",
    "    (\"Database backup shall occur every 24 hours automatically.\", 'Functional'),\n",
    "    (\"The system shall support a minimum of 500 concurrent user connections.\", 'Functional'),\n",
    "    (\"The system’s mean time to failure shall be at least 10,000 hours.\", 'Non-Functional'),\n",
    "    (\"Users must be able to complete the primary workflow in less than three minutes.\", 'Non-Functional'),\n",
    "    (\"User settings must be retained for at least one year without login.\", 'Non-Functional'),\n",
    "    (\"The system must support multi-language interfaces.\", 'Functional'),\n",
    "    (\"Ensure data integrity during transaction processing.\", 'Functional'),\n",
    "    (\"The application should load the user dashboard within 3 seconds.\", 'Non-Functional'),\n",
    "    (\"Support data export to CSV and PDF formats.\", 'Functional'),\n",
    "    (\"Must be compatible with both iOS and Android operating systems.\", 'Non-Functional'),\n",
    "    (\"Implement two-factor authentication for user logins.\", 'Functional'),\n",
    "    (\"The application must be available 99.9% of the time.\", 'Non-Functional'),\n",
    "    (\"Automatically log out users after 30 minutes of inactivity.\", 'Functional'),\n",
    "    (\"The system must scale to support up to 10,000 users simultaneously.\", 'Non-Functional'),\n",
    "    (\"Provide a way to recover forgotten passwords securely.\", 'Functional'),\n",
    "    (\"The system must encrypt sensitive data both at rest and in transit.\", 'Non-Functional'),\n",
    "    (\"Support for user roles including admin, editor, and viewer.\", 'Functional'),\n",
    "    (\"Ensure the application interface adheres to the latest web accessibility guidelines.\", 'Non-Functional'),\n",
    "    (\"The software must be installable on both Windows and MacOS.\", 'Non-Functional'),\n",
    "    (\"Offer a search function that returns results within 2 seconds.\", 'Functional'),\n",
    "    (\"The mobile app should use no more than 50MB of data per hour of activity.\", 'Non-Functional'),\n",
    "    (\"The platform must integrate seamlessly with third-party email services.\", 'Functional'),\n",
    "    (\"User feedback must be addressed and incorporated within two release cycles.\", 'Non-Functional'),\n",
    "    (\"Provide detailed logging of user actions to support auditing requirements.\", 'Functional')\n",
    "]\n"
   ],
   "metadata": {
    "collapsed": false,
    "ExecuteTime": {
     "end_time": "2024-03-13T17:15:54.421672Z",
     "start_time": "2024-03-13T17:15:54.411053Z"
    }
   },
   "id": "41c45e69b8a286dd",
   "execution_count": 121
  },
  {
   "cell_type": "code",
   "outputs": [
    {
     "ename": "TypeError",
     "evalue": "req_to_words() missing 3 required positional arguments: 'delete_stopwords', 'with_numbers', and 'normalize_numbers'",
     "output_type": "error",
     "traceback": [
      "\u001B[0;31m---------------------------------------------------------------------------\u001B[0m",
      "\u001B[0;31mTypeError\u001B[0m                                 Traceback (most recent call last)",
      "Cell \u001B[0;32mIn[122], line 1\u001B[0m\n\u001B[0;32m----> 1\u001B[0m summary \u001B[38;5;241m=\u001B[39m \u001B[43msummarize_predictions\u001B[49m\u001B[43m(\u001B[49m\u001B[43mexamples\u001B[49m\u001B[43m,\u001B[49m\u001B[43m \u001B[49m\u001B[43mada_model\u001B[49m\u001B[43m,\u001B[49m\u001B[43m \u001B[49m\u001B[43mvectorizer\u001B[49m\u001B[43m)\u001B[49m\n\u001B[1;32m      2\u001B[0m summary\n",
      "Cell \u001B[0;32mIn[120], line 4\u001B[0m, in \u001B[0;36msummarize_predictions\u001B[0;34m(examples, model, vectorizer)\u001B[0m\n\u001B[1;32m      2\u001B[0m results \u001B[38;5;241m=\u001B[39m []\n\u001B[1;32m      3\u001B[0m \u001B[38;5;28;01mfor\u001B[39;00m req, expected_label \u001B[38;5;129;01min\u001B[39;00m examples:\n\u001B[0;32m----> 4\u001B[0m     predicted_label, success \u001B[38;5;241m=\u001B[39m \u001B[43mpredict_req\u001B[49m\u001B[43m(\u001B[49m\u001B[43mreq\u001B[49m\u001B[43m,\u001B[49m\u001B[43m \u001B[49m\u001B[43mexpected_label\u001B[49m\u001B[43m,\u001B[49m\u001B[43m \u001B[49m\u001B[43mmodel\u001B[49m\u001B[43m,\u001B[49m\u001B[43m \u001B[49m\u001B[43mvectorizer\u001B[49m\u001B[43m)\u001B[49m\n\u001B[1;32m      5\u001B[0m     results\u001B[38;5;241m.\u001B[39mappend({\n\u001B[1;32m      6\u001B[0m         \u001B[38;5;124m'\u001B[39m\u001B[38;5;124mRequirement\u001B[39m\u001B[38;5;124m'\u001B[39m: req,\n\u001B[1;32m      7\u001B[0m         \u001B[38;5;124m'\u001B[39m\u001B[38;5;124mExpected Label\u001B[39m\u001B[38;5;124m'\u001B[39m: expected_label,\n\u001B[1;32m      8\u001B[0m         \u001B[38;5;124m'\u001B[39m\u001B[38;5;124mPredicted Label\u001B[39m\u001B[38;5;124m'\u001B[39m: predicted_label,\n\u001B[1;32m      9\u001B[0m         \u001B[38;5;124m'\u001B[39m\u001B[38;5;124mSuccess\u001B[39m\u001B[38;5;124m'\u001B[39m: success\n\u001B[1;32m     10\u001B[0m     })\n\u001B[1;32m     11\u001B[0m \u001B[38;5;28;01mreturn\u001B[39;00m pd\u001B[38;5;241m.\u001B[39mDataFrame(results)\n",
      "Cell \u001B[0;32mIn[119], line 3\u001B[0m, in \u001B[0;36mpredict_req\u001B[0;34m(req, expected, model, vectorizer)\u001B[0m\n\u001B[1;32m      1\u001B[0m \u001B[38;5;28;01mdef\u001B[39;00m \u001B[38;5;21mpredict_req\u001B[39m(req, expected, model, vectorizer):\n\u001B[1;32m      2\u001B[0m     df \u001B[38;5;241m=\u001B[39m pd\u001B[38;5;241m.\u001B[39mDataFrame([req], columns\u001B[38;5;241m=\u001B[39m[\u001B[38;5;124m'\u001B[39m\u001B[38;5;124mRequirement\u001B[39m\u001B[38;5;124m'\u001B[39m])\n\u001B[0;32m----> 3\u001B[0m     X \u001B[38;5;241m=\u001B[39m [\u001B[38;5;124m'\u001B[39m\u001B[38;5;124m \u001B[39m\u001B[38;5;124m'\u001B[39m\u001B[38;5;241m.\u001B[39mjoin(req_to_words(req)) \u001B[38;5;28;01mfor\u001B[39;00m req \u001B[38;5;129;01min\u001B[39;00m df[\u001B[38;5;124m'\u001B[39m\u001B[38;5;124mRequirement\u001B[39m\u001B[38;5;124m'\u001B[39m]]\n\u001B[1;32m      4\u001B[0m     X \u001B[38;5;241m=\u001B[39m vectorizer\u001B[38;5;241m.\u001B[39mtransform(X)\n\u001B[1;32m      6\u001B[0m     prediction \u001B[38;5;241m=\u001B[39m model\u001B[38;5;241m.\u001B[39mpredict(X)\n",
      "Cell \u001B[0;32mIn[119], line 3\u001B[0m, in \u001B[0;36m<listcomp>\u001B[0;34m(.0)\u001B[0m\n\u001B[1;32m      1\u001B[0m \u001B[38;5;28;01mdef\u001B[39;00m \u001B[38;5;21mpredict_req\u001B[39m(req, expected, model, vectorizer):\n\u001B[1;32m      2\u001B[0m     df \u001B[38;5;241m=\u001B[39m pd\u001B[38;5;241m.\u001B[39mDataFrame([req], columns\u001B[38;5;241m=\u001B[39m[\u001B[38;5;124m'\u001B[39m\u001B[38;5;124mRequirement\u001B[39m\u001B[38;5;124m'\u001B[39m])\n\u001B[0;32m----> 3\u001B[0m     X \u001B[38;5;241m=\u001B[39m [\u001B[38;5;124m'\u001B[39m\u001B[38;5;124m \u001B[39m\u001B[38;5;124m'\u001B[39m\u001B[38;5;241m.\u001B[39mjoin(\u001B[43mreq_to_words\u001B[49m\u001B[43m(\u001B[49m\u001B[43mreq\u001B[49m\u001B[43m)\u001B[49m) \u001B[38;5;28;01mfor\u001B[39;00m req \u001B[38;5;129;01min\u001B[39;00m df[\u001B[38;5;124m'\u001B[39m\u001B[38;5;124mRequirement\u001B[39m\u001B[38;5;124m'\u001B[39m]]\n\u001B[1;32m      4\u001B[0m     X \u001B[38;5;241m=\u001B[39m vectorizer\u001B[38;5;241m.\u001B[39mtransform(X)\n\u001B[1;32m      6\u001B[0m     prediction \u001B[38;5;241m=\u001B[39m model\u001B[38;5;241m.\u001B[39mpredict(X)\n",
      "\u001B[0;31mTypeError\u001B[0m: req_to_words() missing 3 required positional arguments: 'delete_stopwords', 'with_numbers', and 'normalize_numbers'"
     ]
    }
   ],
   "source": [
    "summary = summarize_predictions(examples, ada_model, vectorizer)\n",
    "summary"
   ],
   "metadata": {
    "collapsed": false,
    "ExecuteTime": {
     "end_time": "2024-03-13T17:15:54.462733Z",
     "start_time": "2024-03-13T17:15:54.424592Z"
    }
   },
   "id": "f06d87db662003c4",
   "execution_count": 122
  },
  {
   "cell_type": "code",
   "outputs": [],
   "source": [
    "import plotly.express as px\n",
    "\n",
    "fig = px.pie(summary, names='Success', title ='Success of the model on my examples')\n",
    "fig.show()"
   ],
   "metadata": {
    "collapsed": false
   },
   "id": "c6880c06826f0d41",
   "execution_count": null
  }
 ],
 "metadata": {
  "kernelspec": {
   "display_name": "Python 3",
   "language": "python",
   "name": "python3"
  },
  "language_info": {
   "codemirror_mode": {
    "name": "ipython",
    "version": 2
   },
   "file_extension": ".py",
   "mimetype": "text/x-python",
   "name": "python",
   "nbconvert_exporter": "python",
   "pygments_lexer": "ipython2",
   "version": "2.7.6"
  }
 },
 "nbformat": 4,
 "nbformat_minor": 5
}
