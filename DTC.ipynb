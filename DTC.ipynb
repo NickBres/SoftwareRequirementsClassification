{
 "cells": [
  {
   "cell_type": "markdown",
   "source": [
    "# Software Requirements Classification\n",
    "## Decision Tree Classifier"
   ],
   "metadata": {
    "collapsed": false
   },
   "id": "b2ac3f72c68faa84"
  },
  {
   "cell_type": "code",
   "execution_count": 60,
   "id": "initial_id",
   "metadata": {
    "collapsed": true,
    "ExecuteTime": {
     "end_time": "2024-03-06T09:35:46.893235Z",
     "start_time": "2024-03-06T09:35:46.886240Z"
    }
   },
   "outputs": [],
   "source": [
    "import pandas as pd\n",
    "\n",
    "df = pd.read_csv('software_requirements_extended.csv')\n",
    "df['Type'] = df['Type'].apply(lambda x: 1 if x == 'FR' or x == 'F' else 0)"
   ]
  },
  {
   "cell_type": "code",
   "outputs": [
    {
     "name": "stderr",
     "output_type": "stream",
     "text": [
      "[nltk_data] Downloading package wordnet to\n",
      "[nltk_data]     /Users/nickbres/nltk_data...\n",
      "[nltk_data]   Package wordnet is already up-to-date!\n",
      "[nltk_data] Downloading package omw-1.4 to\n",
      "[nltk_data]     /Users/nickbres/nltk_data...\n",
      "[nltk_data]   Package omw-1.4 is already up-to-date!\n"
     ]
    }
   ],
   "source": [
    "import re\n",
    "import nltk\n",
    "from nltk.corpus import stopwords\n",
    "from nltk.stem import WordNetLemmatizer\n",
    "from nltk.stem.porter import *\n",
    "nltk.download('wordnet')\n",
    "nltk.download('omw-1.4')\n",
    "from nltk.stem.porter import *"
   ],
   "metadata": {
    "collapsed": false,
    "ExecuteTime": {
     "end_time": "2024-03-06T09:35:46.920904Z",
     "start_time": "2024-03-06T09:35:46.918537Z"
    }
   },
   "id": "f6a783aab34913d9",
   "execution_count": 61
  },
  {
   "cell_type": "code",
   "outputs": [
    {
     "name": "stdout",
     "output_type": "stream",
     "text": [
      "\n",
      "Original requirement -> The system shall refresh the display every 60 seconds.\n",
      "\n",
      "Processed requirement -> ['system', 'shall', 'refresh', 'display', 'every', 'second']\n"
     ]
    }
   ],
   "source": [
    "# Pre-load stopwords to improve efficiency\n",
    "STOPWORDS = set(stopwords.words(\"english\"))\n",
    "\n",
    "# Expanded pattern to potentially keep useful punctuation or additional cleaning\n",
    "pattern = re.compile(r\"[^a-zA-Z]\")\n",
    "\n",
    "def req_to_words(req):\n",
    "    \"\"\"Convert requirement text into a sequence of words after lemmatization.\"\"\"\n",
    "    # Convert to lower case\n",
    "    text = req.lower()\n",
    "    # Remove unwanted characters\n",
    "    text = re.sub(pattern, \" \", text)\n",
    "    # Tokenize\n",
    "    words = text.split()\n",
    "    # Remove stopwords\n",
    "    words = [w for w in words if w not in STOPWORDS]\n",
    "    # Apply lemmatization\n",
    "    words = [ WordNetLemmatizer().lemmatize(w) for w in words]\n",
    "    # Apply stemming\n",
    "    # words = [PorterStemmer().stem(w) for w in words]\n",
    "    return words\n",
    "\n",
    "# Example use\n",
    "print(\"\\nOriginal requirement ->\", df['Requirement'][0])\n",
    "print(\"\\nProcessed requirement ->\", req_to_words(df['Requirement'][0]))"
   ],
   "metadata": {
    "collapsed": false,
    "ExecuteTime": {
     "end_time": "2024-03-06T09:35:46.949616Z",
     "start_time": "2024-03-06T09:35:46.944052Z"
    }
   },
   "id": "7c08d6245870e8a4",
   "execution_count": 62
  },
  {
   "cell_type": "markdown",
   "source": [
    "### Vectorization"
   ],
   "metadata": {
    "collapsed": false
   },
   "id": "753a7341b81ac781"
  },
  {
   "cell_type": "code",
   "outputs": [],
   "source": [
    "from sklearn.model_selection import train_test_split\n",
    "from sklearn.feature_extraction.text import TfidfVectorizer\n",
    "from sklearn.tree import DecisionTreeClassifier\n",
    "from sklearn.metrics import accuracy_score, classification_report"
   ],
   "metadata": {
    "collapsed": false,
    "ExecuteTime": {
     "end_time": "2024-03-06T09:35:46.959940Z",
     "start_time": "2024-03-06T09:35:46.957828Z"
    }
   },
   "id": "f4e42cef4cdf9c9c",
   "execution_count": 63
  },
  {
   "cell_type": "code",
   "outputs": [],
   "source": [
    "X = df['Requirement']\n",
    "y = df['Type']\n",
    "\n",
    "X_train, X_test, y_train, y_test = train_test_split(X, y, test_size=0.3, random_state=42)"
   ],
   "metadata": {
    "collapsed": false,
    "ExecuteTime": {
     "end_time": "2024-03-06T09:35:46.965522Z",
     "start_time": "2024-03-06T09:35:46.962319Z"
    }
   },
   "id": "9bd8af049d2e38f1",
   "execution_count": 64
  },
  {
   "cell_type": "code",
   "outputs": [],
   "source": [
    "vectorizer = TfidfVectorizer()\n",
    "X_train = vectorizer.fit_transform(X_train)\n",
    "X_test = vectorizer.transform(X_test)"
   ],
   "metadata": {
    "collapsed": false,
    "ExecuteTime": {
     "end_time": "2024-03-06T09:35:46.999296Z",
     "start_time": "2024-03-06T09:35:46.986319Z"
    }
   },
   "id": "892327a647d493bb",
   "execution_count": 65
  },
  {
   "cell_type": "markdown",
   "source": [
    "## Model"
   ],
   "metadata": {
    "collapsed": false
   },
   "id": "3a7e6a50714964d6"
  },
  {
   "cell_type": "code",
   "outputs": [
    {
     "name": "stdout",
     "output_type": "stream",
     "text": [
      "Fitting 5 folds for each of 192 candidates, totalling 960 fits\n",
      "[CV] END criterion=entropy, max_depth=None, min_samples_leaf=10, min_samples_split=5; total time=   0.0s\n",
      "[CV] END criterion=entropy, max_depth=None, min_samples_leaf=10, min_samples_split=5; total time=   0.0s\n",
      "[CV] END criterion=entropy, max_depth=None, min_samples_leaf=10, min_samples_split=5; total time=   0.0s\n",
      "[CV] END criterion=entropy, max_depth=None, min_samples_leaf=10, min_samples_split=5; total time=   0.0s\n",
      "[CV] END criterion=entropy, max_depth=None, min_samples_leaf=10, min_samples_split=10; total time=   0.0s\n",
      "[CV] END criterion=entropy, max_depth=None, min_samples_leaf=10, min_samples_split=10; total time=   0.0s\n",
      "[CV] END criterion=entropy, max_depth=None, min_samples_leaf=10, min_samples_split=10; total time=   0.0s\n",
      "[CV] END criterion=entropy, max_depth=None, min_samples_leaf=10, min_samples_split=10; total time=   0.0s\n",
      "[CV] END criterion=entropy, max_depth=None, min_samples_leaf=10, min_samples_split=10; total time=   0.0s\n",
      "[CV] END criterion=entropy, max_depth=None, min_samples_leaf=10, min_samples_split=20; total time=   0.0s\n",
      "[CV] END criterion=entropy, max_depth=20, min_samples_leaf=1, min_samples_split=10; total time=   0.0s\n",
      "[CV] END criterion=entropy, max_depth=20, min_samples_leaf=1, min_samples_split=10; total time=   0.0s\n",
      "[CV] END criterion=entropy, max_depth=20, min_samples_leaf=1, min_samples_split=10; total time=   0.0s\n",
      "[CV] END criterion=entropy, max_depth=20, min_samples_leaf=1, min_samples_split=20; total time=   0.0s\n",
      "[CV] END criterion=entropy, max_depth=20, min_samples_leaf=1, min_samples_split=20; total time=   0.0s\n",
      "[CV] END criterion=entropy, max_depth=20, min_samples_leaf=1, min_samples_split=20; total time=   0.1s\n",
      "[CV] END criterion=entropy, max_depth=20, min_samples_leaf=1, min_samples_split=20; total time=   0.0s\n",
      "[CV] END criterion=entropy, max_depth=20, min_samples_leaf=1, min_samples_split=20; total time=   0.0s\n",
      "[CV] END criterion=entropy, max_depth=20, min_samples_leaf=2, min_samples_split=2; total time=   0.0s\n",
      "[CV] END criterion=entropy, max_depth=20, min_samples_leaf=2, min_samples_split=2; total time=   0.0s\n",
      "[CV] END criterion=entropy, max_depth=20, min_samples_leaf=2, min_samples_split=2; total time=   0.0s\n",
      "[CV] END criterion=entropy, max_depth=20, min_samples_leaf=2, min_samples_split=2; total time=   0.0s\n",
      "[CV] END criterion=entropy, max_depth=20, min_samples_leaf=2, min_samples_split=2; total time=   0.0s\n",
      "[CV] END criterion=entropy, max_depth=20, min_samples_leaf=2, min_samples_split=5; total time=   0.0s\n",
      "[CV] END criterion=entropy, max_depth=20, min_samples_leaf=2, min_samples_split=5; total time=   0.0s\n",
      "[CV] END criterion=entropy, max_depth=20, min_samples_leaf=2, min_samples_split=5; total time=   0.0s\n",
      "[CV] END criterion=entropy, max_depth=40, min_samples_leaf=10, min_samples_split=20; total time=   0.0s\n",
      "[CV] END criterion=entropy, max_depth=40, min_samples_leaf=10, min_samples_split=20; total time=   0.0s\n",
      "[CV] END criterion=entropy, max_depth=40, min_samples_leaf=10, min_samples_split=20; total time=   0.0s\n",
      "[CV] END criterion=entropy, max_depth=40, min_samples_leaf=10, min_samples_split=20; total time=   0.0s\n",
      "[CV] END criterion=entropy, max_depth=50, min_samples_leaf=1, min_samples_split=2; total time=   0.0s\n",
      "[CV] END criterion=entropy, max_depth=50, min_samples_leaf=1, min_samples_split=2; total time=   0.0s\n",
      "[CV] END criterion=entropy, max_depth=50, min_samples_leaf=1, min_samples_split=2; total time=   0.0s\n",
      "[CV] END criterion=entropy, max_depth=50, min_samples_leaf=1, min_samples_split=2; total time=   0.0s\n",
      "[CV] END criterion=entropy, max_depth=50, min_samples_leaf=1, min_samples_split=2; total time=   0.0s\n",
      "[CV] END criterion=entropy, max_depth=50, min_samples_leaf=1, min_samples_split=5; total time=   0.0s\n",
      "[CV] END criterion=entropy, max_depth=50, min_samples_leaf=1, min_samples_split=5; total time=   0.0s\n",
      "[CV] END criterion=entropy, max_depth=50, min_samples_leaf=1, min_samples_split=5; total time=   0.0s\n",
      "[CV] END criterion=entropy, max_depth=50, min_samples_leaf=1, min_samples_split=5; total time=   0.0s\n",
      "[CV] END criterion=entropy, max_depth=50, min_samples_leaf=1, min_samples_split=5; total time=   0.0s\n",
      "[CV] END criterion=entropy, max_depth=50, min_samples_leaf=1, min_samples_split=10; total time=   0.0s\n",
      "[CV] END criterion=entropy, max_depth=50, min_samples_leaf=1, min_samples_split=10; total time=   0.0s\n",
      "[CV] END ................learning_rate=0.01, n_estimators=50; total time=   0.1s\n",
      "[CV] END ...............learning_rate=0.01, n_estimators=100; total time=   0.0s\n",
      "[CV] END ...............learning_rate=0.01, n_estimators=150; total time=   0.1s\n",
      "[CV] END .................learning_rate=0.1, n_estimators=30; total time=   0.6s\n",
      "[CV] END .................learning_rate=0.1, n_estimators=50; total time=   1.2s\n",
      "[CV] END .................learning_rate=0.5, n_estimators=50; total time=   1.1s\n",
      "[CV] END .................learning_rate=0.5, n_estimators=50; total time=   1.2s\n",
      "[CV] END ................learning_rate=0.5, n_estimators=150; total time=   3.5s\n",
      "[CV] END ................learning_rate=0.5, n_estimators=150; total time=   3.5s\n",
      "[CV] END ...................learning_rate=5, n_estimators=30; total time=   0.5s\n",
      "[CV] END ...................learning_rate=5, n_estimators=50; total time=   0.8s\n",
      "[CV] END ..................learning_rate=5, n_estimators=100; total time=   0.9s\n",
      "[CV] END ..................learning_rate=5, n_estimators=150; total time=   2.0s\n",
      "[CV] END criterion=gini, max_depth=None, min_samples_leaf=1, min_samples_split=5; total time=   0.0s\n",
      "[CV] END criterion=gini, max_depth=None, min_samples_leaf=1, min_samples_split=20; total time=   0.0s\n",
      "[CV] END criterion=gini, max_depth=None, min_samples_leaf=2, min_samples_split=5; total time=   0.0s\n",
      "[CV] END criterion=gini, max_depth=None, min_samples_leaf=2, min_samples_split=5; total time=   0.0s\n",
      "[CV] END criterion=gini, max_depth=None, min_samples_leaf=5, min_samples_split=20; total time=   0.0s\n",
      "[CV] END criterion=gini, max_depth=None, min_samples_leaf=5, min_samples_split=20; total time=   0.0s\n",
      "[CV] END criterion=gini, max_depth=10, min_samples_leaf=1, min_samples_split=20; total time=   0.0s\n",
      "[CV] END criterion=gini, max_depth=10, min_samples_leaf=1, min_samples_split=20; total time=   0.0s\n",
      "[CV] END criterion=gini, max_depth=10, min_samples_leaf=1, min_samples_split=20; total time=   0.0s\n",
      "[CV] END criterion=gini, max_depth=10, min_samples_leaf=1, min_samples_split=20; total time=   0.0s\n",
      "[CV] END criterion=gini, max_depth=10, min_samples_leaf=5, min_samples_split=2; total time=   0.0s\n",
      "[CV] END criterion=gini, max_depth=10, min_samples_leaf=5, min_samples_split=5; total time=   0.0s\n",
      "[CV] END criterion=gini, max_depth=10, min_samples_leaf=5, min_samples_split=5; total time=   0.0s\n",
      "[CV] END criterion=gini, max_depth=10, min_samples_leaf=5, min_samples_split=5; total time=   0.0s\n",
      "[CV] END criterion=gini, max_depth=20, min_samples_leaf=5, min_samples_split=10; total time=   0.0s\n",
      "[CV] END criterion=gini, max_depth=20, min_samples_leaf=5, min_samples_split=10; total time=   0.0s\n",
      "[CV] END criterion=gini, max_depth=20, min_samples_leaf=5, min_samples_split=10; total time=   0.0s\n",
      "[CV] END criterion=gini, max_depth=20, min_samples_leaf=5, min_samples_split=20; total time=   0.0s\n",
      "[CV] END criterion=gini, max_depth=20, min_samples_leaf=5, min_samples_split=20; total time=   0.0s\n",
      "[CV] END criterion=gini, max_depth=20, min_samples_leaf=5, min_samples_split=20; total time=   0.0s\n",
      "[CV] END criterion=gini, max_depth=20, min_samples_leaf=5, min_samples_split=20; total time=   0.0s\n",
      "[CV] END criterion=gini, max_depth=20, min_samples_leaf=5, min_samples_split=20; total time=   0.0s\n",
      "[CV] END criterion=gini, max_depth=20, min_samples_leaf=10, min_samples_split=20; total time=   0.0s\n",
      "[CV] END criterion=gini, max_depth=20, min_samples_leaf=10, min_samples_split=20; total time=   0.0s\n",
      "[CV] END criterion=gini, max_depth=20, min_samples_leaf=10, min_samples_split=20; total time=   0.0s\n",
      "[CV] END criterion=gini, max_depth=20, min_samples_leaf=10, min_samples_split=20; total time=   0.0s\n",
      "[CV] END criterion=gini, max_depth=30, min_samples_leaf=1, min_samples_split=2; total time=   0.0s\n",
      "[CV] END criterion=gini, max_depth=30, min_samples_leaf=1, min_samples_split=2; total time=   0.0s\n",
      "[CV] END criterion=gini, max_depth=30, min_samples_leaf=1, min_samples_split=2; total time=   0.0s\n",
      "[CV] END criterion=gini, max_depth=30, min_samples_leaf=1, min_samples_split=2; total time=   0.0s\n",
      "[CV] END criterion=gini, max_depth=40, min_samples_leaf=1, min_samples_split=10; total time=   0.0s\n",
      "[CV] END criterion=gini, max_depth=40, min_samples_leaf=1, min_samples_split=10; total time=   0.0s\n",
      "[CV] END criterion=gini, max_depth=40, min_samples_leaf=1, min_samples_split=10; total time=   0.0s\n",
      "[CV] END criterion=gini, max_depth=40, min_samples_leaf=1, min_samples_split=20; total time=   0.0s\n",
      "[CV] END criterion=gini, max_depth=40, min_samples_leaf=1, min_samples_split=20; total time=   0.0s\n",
      "[CV] END criterion=gini, max_depth=40, min_samples_leaf=1, min_samples_split=20; total time=   0.0s\n",
      "[CV] END criterion=gini, max_depth=40, min_samples_leaf=1, min_samples_split=20; total time=   0.0s\n",
      "[CV] END criterion=gini, max_depth=40, min_samples_leaf=1, min_samples_split=20; total time=   0.0s\n",
      "[CV] END criterion=gini, max_depth=40, min_samples_leaf=2, min_samples_split=2; total time=   0.0s\n",
      "[CV] END criterion=gini, max_depth=40, min_samples_leaf=2, min_samples_split=2; total time=   0.0s\n",
      "[CV] END criterion=gini, max_depth=40, min_samples_leaf=2, min_samples_split=2; total time=   0.0s\n",
      "[CV] END criterion=gini, max_depth=40, min_samples_leaf=2, min_samples_split=2; total time=   0.0s\n",
      "[CV] END criterion=gini, max_depth=40, min_samples_leaf=2, min_samples_split=2; total time=   0.0s\n",
      "[CV] END criterion=gini, max_depth=40, min_samples_leaf=2, min_samples_split=5; total time=   0.0s\n",
      "[CV] END criterion=gini, max_depth=40, min_samples_leaf=2, min_samples_split=5; total time=   0.0s\n",
      "[CV] END criterion=gini, max_depth=40, min_samples_leaf=2, min_samples_split=5; total time=   0.0s\n",
      "[CV] END criterion=entropy, max_depth=10, min_samples_leaf=5, min_samples_split=2; total time=   0.0s\n",
      "[CV] END criterion=entropy, max_depth=10, min_samples_leaf=5, min_samples_split=5; total time=   0.0s\n",
      "[CV] END criterion=entropy, max_depth=10, min_samples_leaf=5, min_samples_split=5; total time=   0.0s\n",
      "[CV] END criterion=entropy, max_depth=10, min_samples_leaf=5, min_samples_split=5; total time=   0.0s\n",
      "[CV] END criterion=entropy, max_depth=10, min_samples_leaf=5, min_samples_split=5; total time=   0.0s\n",
      "[CV] END criterion=entropy, max_depth=10, min_samples_leaf=5, min_samples_split=5; total time=   0.0s\n",
      "[CV] END criterion=entropy, max_depth=10, min_samples_leaf=5, min_samples_split=10; total time=   0.0s\n",
      "[CV] END criterion=entropy, max_depth=10, min_samples_leaf=5, min_samples_split=10; total time=   0.0s\n",
      "[CV] END criterion=entropy, max_depth=10, min_samples_leaf=5, min_samples_split=10; total time=   0.0s\n",
      "[CV] END criterion=entropy, max_depth=10, min_samples_leaf=5, min_samples_split=10; total time=   0.0s\n",
      "[CV] END criterion=entropy, max_depth=10, min_samples_leaf=5, min_samples_split=10; total time=   0.0s\n",
      "[CV] END criterion=entropy, max_depth=10, min_samples_leaf=5, min_samples_split=20; total time=   0.0s\n",
      "[CV] END criterion=entropy, max_depth=10, min_samples_leaf=5, min_samples_split=20; total time=   0.0s\n",
      "[CV] END criterion=entropy, max_depth=10, min_samples_leaf=5, min_samples_split=20; total time=   0.0s\n",
      "[CV] END criterion=entropy, max_depth=10, min_samples_leaf=5, min_samples_split=20; total time=   0.0s\n",
      "[CV] END criterion=entropy, max_depth=10, min_samples_leaf=5, min_samples_split=20; total time=   0.0s\n",
      "[CV] END criterion=entropy, max_depth=30, min_samples_leaf=10, min_samples_split=2; total time=   0.0s\n",
      "[CV] END criterion=entropy, max_depth=30, min_samples_leaf=10, min_samples_split=2; total time=   0.0s\n",
      "[CV] END criterion=entropy, max_depth=30, min_samples_leaf=10, min_samples_split=2; total time=   0.0s\n",
      "[CV] END criterion=entropy, max_depth=30, min_samples_leaf=10, min_samples_split=2; total time=   0.0s\n",
      "[CV] END criterion=entropy, max_depth=30, min_samples_leaf=10, min_samples_split=2; total time=   0.0s\n",
      "[CV] END criterion=entropy, max_depth=30, min_samples_leaf=10, min_samples_split=5; total time=   0.0s\n",
      "[CV] END criterion=entropy, max_depth=30, min_samples_leaf=10, min_samples_split=5; total time=   0.0s\n",
      "[CV] END criterion=entropy, max_depth=30, min_samples_leaf=10, min_samples_split=5; total time=   0.0s\n",
      "[CV] END criterion=entropy, max_depth=30, min_samples_leaf=10, min_samples_split=5; total time=   0.0s\n",
      "[CV] END criterion=entropy, max_depth=30, min_samples_leaf=10, min_samples_split=5; total time=   0.0s\n",
      "[CV] END criterion=entropy, max_depth=30, min_samples_leaf=10, min_samples_split=10; total time=   0.0s\n",
      "[CV] END criterion=entropy, max_depth=30, min_samples_leaf=10, min_samples_split=10; total time=   0.0s\n",
      "[CV] END criterion=entropy, max_depth=30, min_samples_leaf=10, min_samples_split=10; total time=   0.0s\n",
      "[CV] END criterion=entropy, max_depth=30, min_samples_leaf=10, min_samples_split=10; total time=   0.0s\n",
      "[CV] END criterion=entropy, max_depth=30, min_samples_leaf=10, min_samples_split=10; total time=   0.0s\n",
      "[CV] END criterion=entropy, max_depth=30, min_samples_leaf=10, min_samples_split=20; total time=   0.0s\n",
      "[CV] END criterion=entropy, max_depth=40, min_samples_leaf=2, min_samples_split=5; total time=   0.0s\n",
      "[CV] END criterion=entropy, max_depth=40, min_samples_leaf=2, min_samples_split=5; total time=   0.0s\n",
      "[CV] END criterion=entropy, max_depth=40, min_samples_leaf=2, min_samples_split=10; total time=   0.0s\n",
      "[CV] END criterion=entropy, max_depth=40, min_samples_leaf=2, min_samples_split=10; total time=   0.0s\n",
      "[CV] END criterion=entropy, max_depth=40, min_samples_leaf=2, min_samples_split=10; total time=   0.0s\n",
      "[CV] END criterion=entropy, max_depth=40, min_samples_leaf=2, min_samples_split=10; total time=   0.0s\n",
      "[CV] END criterion=entropy, max_depth=40, min_samples_leaf=2, min_samples_split=10; total time=   0.0s\n",
      "[CV] END criterion=entropy, max_depth=40, min_samples_leaf=2, min_samples_split=20; total time=   0.0s\n",
      "[CV] END criterion=entropy, max_depth=40, min_samples_leaf=2, min_samples_split=20; total time=   0.0s\n",
      "[CV] END criterion=entropy, max_depth=40, min_samples_leaf=2, min_samples_split=20; total time=   0.0s\n",
      "[CV] END criterion=entropy, max_depth=40, min_samples_leaf=2, min_samples_split=20; total time=   0.0s\n",
      "[CV] END criterion=entropy, max_depth=40, min_samples_leaf=2, min_samples_split=20; total time=   0.0s\n",
      "[CV] END criterion=entropy, max_depth=40, min_samples_leaf=5, min_samples_split=2; total time=   0.0s\n",
      "[CV] END criterion=entropy, max_depth=40, min_samples_leaf=5, min_samples_split=2; total time=   0.0s\n",
      "[CV] END criterion=entropy, max_depth=40, min_samples_leaf=5, min_samples_split=2; total time=   0.0s\n",
      "[CV] END criterion=entropy, max_depth=40, min_samples_leaf=5, min_samples_split=2; total time=   0.0s\n",
      "[CV] END criterion=entropy, max_depth=50, min_samples_leaf=10, min_samples_split=20; total time=   0.0s\n",
      "[CV] END criterion=entropy, max_depth=50, min_samples_leaf=10, min_samples_split=20; total time=   0.0s\n",
      "[CV] END ................learning_rate=0.01, n_estimators=30; total time=   0.6s\n",
      "[CV] END ................learning_rate=0.1, n_estimators=100; total time=   2.4s\n",
      "[CV] END ................learning_rate=0.1, n_estimators=100; total time=   2.5s\n",
      "[CV] END ...................learning_rate=1, n_estimators=30; total time=   0.2s\n",
      "[CV] END ...................learning_rate=1, n_estimators=50; total time=   0.5s\n",
      "[CV] END ...................learning_rate=1, n_estimators=50; total time=   0.2s\n",
      "[CV] END ...................learning_rate=1, n_estimators=50; total time=   0.3s\n",
      "[CV] END ..................learning_rate=1, n_estimators=100; total time=   0.6s\n",
      "[CV] END ..................learning_rate=1, n_estimators=100; total time=   0.1s\n",
      "[CV] END ..................learning_rate=1, n_estimators=100; total time=   0.3s\n",
      "[CV] END ..................learning_rate=1, n_estimators=150; total time=   0.6s\n",
      "[CV] END ...................learning_rate=2, n_estimators=30; total time=   0.5s\n",
      "[CV] END ...................learning_rate=2, n_estimators=50; total time=   0.9s\n",
      "[CV] END ..................learning_rate=2, n_estimators=100; total time=   1.6s\n",
      "[CV] END criterion=entropy, max_depth=10, min_samples_leaf=2, min_samples_split=10; total time=   0.0s\n",
      "[CV] END criterion=entropy, max_depth=10, min_samples_leaf=2, min_samples_split=20; total time=   0.0s\n",
      "[CV] END criterion=entropy, max_depth=10, min_samples_leaf=2, min_samples_split=20; total time=   0.0s\n",
      "[CV] END criterion=entropy, max_depth=10, min_samples_leaf=2, min_samples_split=20; total time=   0.0s\n",
      "[CV] END criterion=entropy, max_depth=10, min_samples_leaf=2, min_samples_split=20; total time=   0.0s\n",
      "[CV] END criterion=entropy, max_depth=10, min_samples_leaf=2, min_samples_split=20; total time=   0.0s\n",
      "[CV] END criterion=entropy, max_depth=10, min_samples_leaf=5, min_samples_split=2; total time=   0.0s\n",
      "[CV] END criterion=entropy, max_depth=10, min_samples_leaf=5, min_samples_split=2; total time=   0.0s\n",
      "[CV] END criterion=entropy, max_depth=10, min_samples_leaf=5, min_samples_split=2; total time=   0.0s\n",
      "[CV] END criterion=entropy, max_depth=10, min_samples_leaf=5, min_samples_split=2; total time=   0.0s\n",
      "[CV] END criterion=entropy, max_depth=20, min_samples_leaf=2, min_samples_split=5; total time=   0.0s\n",
      "[CV] END criterion=entropy, max_depth=20, min_samples_leaf=2, min_samples_split=5; total time=   0.0s\n",
      "[CV] END criterion=entropy, max_depth=20, min_samples_leaf=2, min_samples_split=10; total time=   0.0s\n",
      "[CV] END criterion=entropy, max_depth=20, min_samples_leaf=2, min_samples_split=10; total time=   0.1s\n",
      "[CV] END criterion=entropy, max_depth=20, min_samples_leaf=2, min_samples_split=10; total time=   0.0s\n",
      "[CV] END criterion=entropy, max_depth=20, min_samples_leaf=2, min_samples_split=10; total time=   0.0s\n",
      "[CV] END criterion=entropy, max_depth=20, min_samples_leaf=2, min_samples_split=10; total time=   0.0s\n",
      "[CV] END criterion=entropy, max_depth=20, min_samples_leaf=2, min_samples_split=20; total time=   0.0s\n",
      "[CV] END criterion=entropy, max_depth=20, min_samples_leaf=2, min_samples_split=20; total time=   0.0s\n",
      "[CV] END criterion=entropy, max_depth=20, min_samples_leaf=2, min_samples_split=20; total time=   0.0s\n",
      "[CV] END criterion=entropy, max_depth=20, min_samples_leaf=2, min_samples_split=20; total time=   0.0s\n",
      "[CV] END criterion=entropy, max_depth=20, min_samples_leaf=2, min_samples_split=20; total time=   0.0s\n",
      "[CV] END criterion=entropy, max_depth=20, min_samples_leaf=5, min_samples_split=2; total time=   0.0s\n",
      "[CV] END criterion=entropy, max_depth=20, min_samples_leaf=5, min_samples_split=2; total time=   0.0s\n",
      "[CV] END criterion=entropy, max_depth=20, min_samples_leaf=5, min_samples_split=2; total time=   0.0s\n",
      "[CV] END criterion=entropy, max_depth=20, min_samples_leaf=5, min_samples_split=2; total time=   0.0s\n",
      "[CV] END criterion=entropy, max_depth=40, min_samples_leaf=10, min_samples_split=2; total time=   0.0s\n",
      "[CV] END criterion=entropy, max_depth=40, min_samples_leaf=10, min_samples_split=2; total time=   0.0s\n",
      "[CV] END criterion=entropy, max_depth=40, min_samples_leaf=10, min_samples_split=2; total time=   0.0s\n",
      "[CV] END criterion=entropy, max_depth=40, min_samples_leaf=10, min_samples_split=2; total time=   0.0s\n",
      "[CV] END criterion=entropy, max_depth=40, min_samples_leaf=10, min_samples_split=2; total time=   0.0s\n",
      "[CV] END criterion=entropy, max_depth=40, min_samples_leaf=10, min_samples_split=5; total time=   0.0s\n",
      "[CV] END criterion=entropy, max_depth=40, min_samples_leaf=10, min_samples_split=5; total time=   0.0s\n",
      "[CV] END criterion=entropy, max_depth=40, min_samples_leaf=10, min_samples_split=5; total time=   0.0s\n",
      "[CV] END criterion=entropy, max_depth=40, min_samples_leaf=10, min_samples_split=5; total time=   0.0s\n",
      "[CV] END criterion=entropy, max_depth=40, min_samples_leaf=10, min_samples_split=5; total time=   0.0s\n",
      "[CV] END criterion=entropy, max_depth=40, min_samples_leaf=10, min_samples_split=10; total time=   0.0s\n",
      "[CV] END criterion=entropy, max_depth=40, min_samples_leaf=10, min_samples_split=10; total time=   0.0s\n",
      "[CV] END criterion=entropy, max_depth=40, min_samples_leaf=10, min_samples_split=10; total time=   0.0s\n",
      "[CV] END criterion=entropy, max_depth=40, min_samples_leaf=10, min_samples_split=10; total time=   0.0s\n",
      "[CV] END criterion=entropy, max_depth=40, min_samples_leaf=10, min_samples_split=10; total time=   0.0s\n",
      "[CV] END criterion=entropy, max_depth=40, min_samples_leaf=10, min_samples_split=20; total time=   0.0s\n",
      "[CV] END criterion=entropy, max_depth=50, min_samples_leaf=10, min_samples_split=10; total time=   0.0s\n",
      "[CV] END criterion=entropy, max_depth=50, min_samples_leaf=10, min_samples_split=10; total time=   0.0s\n",
      "[CV] END criterion=entropy, max_depth=50, min_samples_leaf=10, min_samples_split=20; total time=   0.0s\n",
      "[CV] END ................learning_rate=0.01, n_estimators=30; total time=   0.6s\n",
      "[CV] END ................learning_rate=0.1, n_estimators=100; total time=   1.9s\n",
      "[CV] END ................learning_rate=0.1, n_estimators=100; total time=   2.4s\n",
      "[CV] END ................learning_rate=0.5, n_estimators=150; total time=   3.6s\n",
      "[CV] END ................learning_rate=0.5, n_estimators=150; total time=   0.1s\n",
      "[CV] END ...................learning_rate=2, n_estimators=30; total time=   0.5s\n",
      "[CV] END ...................learning_rate=2, n_estimators=50; total time=   0.8s\n",
      "[CV] END ..................learning_rate=2, n_estimators=100; total time=   0.7s\n",
      "[CV] END ..................learning_rate=2, n_estimators=150; total time=   2.5s\n",
      "[CV] END ..................learning_rate=5, n_estimators=150; total time=   2.0s\n",
      "[CV] END criterion=gini, max_depth=None, min_samples_leaf=1, min_samples_split=2; total time=   0.0s\n",
      "[CV] END criterion=gini, max_depth=None, min_samples_leaf=1, min_samples_split=10; total time=   0.0s\n",
      "[CV] END criterion=gini, max_depth=None, min_samples_leaf=2, min_samples_split=2; total time=   0.0s\n",
      "[CV] END criterion=gini, max_depth=None, min_samples_leaf=2, min_samples_split=2; total time=   0.0s\n",
      "[CV] END criterion=gini, max_depth=None, min_samples_leaf=10, min_samples_split=2; total time=   0.0s\n",
      "[CV] END criterion=gini, max_depth=None, min_samples_leaf=10, min_samples_split=2; total time=   0.0s\n",
      "[CV] END criterion=gini, max_depth=None, min_samples_leaf=10, min_samples_split=2; total time=   0.0s\n",
      "[CV] END criterion=gini, max_depth=None, min_samples_leaf=10, min_samples_split=2; total time=   0.0s\n",
      "[CV] END criterion=gini, max_depth=10, min_samples_leaf=5, min_samples_split=2; total time=   0.0s\n",
      "[CV] END criterion=gini, max_depth=10, min_samples_leaf=5, min_samples_split=2; total time=   0.0s\n",
      "[CV] END criterion=gini, max_depth=10, min_samples_leaf=5, min_samples_split=2; total time=   0.0s\n",
      "[CV] END criterion=gini, max_depth=10, min_samples_leaf=5, min_samples_split=2; total time=   0.0s\n",
      "[CV] END criterion=gini, max_depth=10, min_samples_leaf=5, min_samples_split=10; total time=   0.0s\n",
      "[CV] END criterion=gini, max_depth=10, min_samples_leaf=5, min_samples_split=10; total time=   0.0s\n",
      "[CV] END criterion=gini, max_depth=10, min_samples_leaf=5, min_samples_split=10; total time=   0.0s\n",
      "[CV] END criterion=gini, max_depth=10, min_samples_leaf=5, min_samples_split=20; total time=   0.0s\n",
      "[CV] END criterion=gini, max_depth=20, min_samples_leaf=2, min_samples_split=20; total time=   0.0s\n",
      "[CV] END criterion=gini, max_depth=20, min_samples_leaf=2, min_samples_split=20; total time=   0.0s\n",
      "[CV] END criterion=gini, max_depth=20, min_samples_leaf=2, min_samples_split=20; total time=   0.0s\n",
      "[CV] END criterion=gini, max_depth=20, min_samples_leaf=2, min_samples_split=20; total time=   0.0s\n",
      "[CV] END criterion=gini, max_depth=20, min_samples_leaf=5, min_samples_split=2; total time=   0.0s\n",
      "[CV] END criterion=gini, max_depth=20, min_samples_leaf=5, min_samples_split=2; total time=   0.0s\n",
      "[CV] END criterion=gini, max_depth=20, min_samples_leaf=5, min_samples_split=2; total time=   0.0s\n",
      "[CV] END criterion=gini, max_depth=20, min_samples_leaf=5, min_samples_split=2; total time=   0.0s\n",
      "[CV] END criterion=gini, max_depth=30, min_samples_leaf=2, min_samples_split=2; total time=   0.0s\n",
      "[CV] END criterion=gini, max_depth=30, min_samples_leaf=2, min_samples_split=2; total time=   0.0s\n",
      "[CV] END criterion=gini, max_depth=30, min_samples_leaf=2, min_samples_split=2; total time=   0.0s\n",
      "[CV] END criterion=gini, max_depth=30, min_samples_leaf=2, min_samples_split=2; total time=   0.0s\n",
      "[CV] END criterion=gini, max_depth=30, min_samples_leaf=2, min_samples_split=2; total time=   0.0s\n",
      "[CV] END criterion=gini, max_depth=30, min_samples_leaf=2, min_samples_split=5; total time=   0.1s\n",
      "[CV] END criterion=gini, max_depth=30, min_samples_leaf=2, min_samples_split=5; total time=   0.0s\n",
      "[CV] END criterion=gini, max_depth=30, min_samples_leaf=2, min_samples_split=5; total time=   0.0s\n",
      "[CV] END criterion=gini, max_depth=50, min_samples_leaf=1, min_samples_split=10; total time=   0.0s\n",
      "[CV] END criterion=gini, max_depth=50, min_samples_leaf=1, min_samples_split=10; total time=   0.0s\n",
      "[CV] END criterion=gini, max_depth=50, min_samples_leaf=1, min_samples_split=10; total time=   0.0s\n",
      "[CV] END criterion=gini, max_depth=50, min_samples_leaf=1, min_samples_split=20; total time=   0.0s\n",
      "[CV] END criterion=gini, max_depth=50, min_samples_leaf=1, min_samples_split=20; total time=   0.0s\n",
      "[CV] END criterion=gini, max_depth=50, min_samples_leaf=1, min_samples_split=20; total time=   0.0s\n",
      "[CV] END criterion=gini, max_depth=50, min_samples_leaf=1, min_samples_split=20; total time=   0.0s\n",
      "[CV] END criterion=gini, max_depth=50, min_samples_leaf=1, min_samples_split=20; total time=   0.0s\n",
      "[CV] END criterion=gini, max_depth=50, min_samples_leaf=2, min_samples_split=2; total time=   0.0s\n",
      "[CV] END criterion=gini, max_depth=50, min_samples_leaf=2, min_samples_split=2; total time=   0.0s\n",
      "[CV] END criterion=gini, max_depth=50, min_samples_leaf=2, min_samples_split=2; total time=   0.0s\n",
      "[CV] END criterion=gini, max_depth=50, min_samples_leaf=2, min_samples_split=2; total time=   0.0s\n",
      "[CV] END criterion=gini, max_depth=50, min_samples_leaf=2, min_samples_split=2; total time=   0.0s\n",
      "[CV] END criterion=gini, max_depth=50, min_samples_leaf=2, min_samples_split=5; total time=   0.0s\n",
      "[CV] END criterion=gini, max_depth=50, min_samples_leaf=2, min_samples_split=5; total time=   0.0s\n",
      "[CV] END criterion=gini, max_depth=50, min_samples_leaf=2, min_samples_split=5; total time=   0.0s\n",
      "[CV] END criterion=entropy, max_depth=10, min_samples_leaf=10, min_samples_split=2; total time=   0.0s\n",
      "[CV] END criterion=entropy, max_depth=10, min_samples_leaf=10, min_samples_split=2; total time=   0.0s\n",
      "[CV] END criterion=entropy, max_depth=10, min_samples_leaf=10, min_samples_split=2; total time=   0.0s\n",
      "[CV] END criterion=entropy, max_depth=10, min_samples_leaf=10, min_samples_split=2; total time=   0.0s\n",
      "[CV] END criterion=entropy, max_depth=10, min_samples_leaf=10, min_samples_split=2; total time=   0.0s\n",
      "[CV] END criterion=entropy, max_depth=10, min_samples_leaf=10, min_samples_split=5; total time=   0.0s\n",
      "[CV] END criterion=entropy, max_depth=10, min_samples_leaf=10, min_samples_split=5; total time=   0.0s\n",
      "[CV] END criterion=entropy, max_depth=10, min_samples_leaf=10, min_samples_split=5; total time=   0.0s\n",
      "[CV] END criterion=entropy, max_depth=10, min_samples_leaf=10, min_samples_split=5; total time=   0.0s\n",
      "[CV] END criterion=entropy, max_depth=10, min_samples_leaf=10, min_samples_split=5; total time=   0.0s\n",
      "[CV] END criterion=entropy, max_depth=10, min_samples_leaf=10, min_samples_split=10; total time=   0.0s\n",
      "[CV] END criterion=entropy, max_depth=10, min_samples_leaf=10, min_samples_split=10; total time=   0.0s\n",
      "[CV] END criterion=entropy, max_depth=10, min_samples_leaf=10, min_samples_split=10; total time=   0.0s\n",
      "[CV] END criterion=entropy, max_depth=10, min_samples_leaf=10, min_samples_split=10; total time=   0.0s\n",
      "[CV] END criterion=entropy, max_depth=10, min_samples_leaf=10, min_samples_split=10; total time=   0.0s\n",
      "[CV] END criterion=entropy, max_depth=10, min_samples_leaf=10, min_samples_split=20; total time=   0.0s\n",
      "[CV] END criterion=entropy, max_depth=20, min_samples_leaf=10, min_samples_split=20; total time=   0.0s\n",
      "[CV] END criterion=entropy, max_depth=20, min_samples_leaf=10, min_samples_split=20; total time=   0.0s\n",
      "[CV] END criterion=entropy, max_depth=20, min_samples_leaf=10, min_samples_split=20; total time=   0.0s\n",
      "[CV] END criterion=entropy, max_depth=20, min_samples_leaf=10, min_samples_split=20; total time=   0.0s\n",
      "[CV] END criterion=entropy, max_depth=30, min_samples_leaf=1, min_samples_split=2; total time=   0.0s\n",
      "[CV] END criterion=entropy, max_depth=30, min_samples_leaf=1, min_samples_split=2; total time=   0.0s\n",
      "[CV] END criterion=entropy, max_depth=30, min_samples_leaf=1, min_samples_split=2; total time=   0.0s\n",
      "[CV] END criterion=entropy, max_depth=30, min_samples_leaf=1, min_samples_split=2; total time=   0.0s\n",
      "[CV] END criterion=entropy, max_depth=30, min_samples_leaf=1, min_samples_split=2; total time=   0.0s\n",
      "[CV] END criterion=entropy, max_depth=30, min_samples_leaf=1, min_samples_split=5; total time=   0.0s\n",
      "[CV] END criterion=entropy, max_depth=30, min_samples_leaf=1, min_samples_split=5; total time=   0.0s\n",
      "[CV] END criterion=entropy, max_depth=30, min_samples_leaf=1, min_samples_split=5; total time=   0.0s\n",
      "[CV] END criterion=entropy, max_depth=30, min_samples_leaf=1, min_samples_split=5; total time=   0.0s\n",
      "[CV] END criterion=entropy, max_depth=30, min_samples_leaf=1, min_samples_split=5; total time=   0.0s\n",
      "[CV] END criterion=entropy, max_depth=30, min_samples_leaf=1, min_samples_split=10; total time=   0.0s\n",
      "[CV] END criterion=entropy, max_depth=30, min_samples_leaf=1, min_samples_split=10; total time=   0.0s\n",
      "[CV] END criterion=entropy, max_depth=50, min_samples_leaf=5, min_samples_split=2; total time=   0.0s\n",
      "[CV] END criterion=entropy, max_depth=50, min_samples_leaf=5, min_samples_split=5; total time=   0.0s\n",
      "[CV] END criterion=entropy, max_depth=50, min_samples_leaf=5, min_samples_split=5; total time=   0.0s\n",
      "[CV] END criterion=entropy, max_depth=50, min_samples_leaf=5, min_samples_split=5; total time=   0.0s\n",
      "[CV] END criterion=entropy, max_depth=50, min_samples_leaf=5, min_samples_split=5; total time=   0.0s\n",
      "[CV] END criterion=entropy, max_depth=50, min_samples_leaf=5, min_samples_split=5; total time=   0.0s\n",
      "[CV] END criterion=entropy, max_depth=50, min_samples_leaf=5, min_samples_split=10; total time=   0.0s\n",
      "[CV] END criterion=entropy, max_depth=50, min_samples_leaf=5, min_samples_split=10; total time=   0.0s\n",
      "[CV] END criterion=entropy, max_depth=50, min_samples_leaf=5, min_samples_split=10; total time=   0.0s\n",
      "[CV] END criterion=entropy, max_depth=50, min_samples_leaf=5, min_samples_split=10; total time=   0.0s\n",
      "[CV] END criterion=entropy, max_depth=50, min_samples_leaf=5, min_samples_split=10; total time=   0.0s\n",
      "[CV] END criterion=entropy, max_depth=50, min_samples_leaf=5, min_samples_split=20; total time=   0.0s\n",
      "[CV] END criterion=entropy, max_depth=50, min_samples_leaf=5, min_samples_split=20; total time=   0.0s\n",
      "[CV] END criterion=entropy, max_depth=50, min_samples_leaf=5, min_samples_split=20; total time=   0.0s\n",
      "[CV] END criterion=entropy, max_depth=50, min_samples_leaf=5, min_samples_split=20; total time=   0.0s\n",
      "[CV] END criterion=entropy, max_depth=50, min_samples_leaf=5, min_samples_split=20; total time=   0.0s\n",
      "[CV] END ................learning_rate=0.01, n_estimators=50; total time=   0.2s\n",
      "[CV] END ...............learning_rate=0.01, n_estimators=100; total time=   0.0s\n",
      "[CV] END ...............learning_rate=0.01, n_estimators=150; total time=   3.1s\n",
      "[CV] END ................learning_rate=0.5, n_estimators=100; total time=   2.5s\n",
      "[CV] END ................learning_rate=0.5, n_estimators=150; total time=   3.4s\n",
      "[CV] END ...................learning_rate=2, n_estimators=50; total time=   0.1s\n",
      "[CV] END ..................learning_rate=2, n_estimators=100; total time=   1.7s\n",
      "[CV] END ..................learning_rate=2, n_estimators=150; total time=   2.6s\n",
      "[CV] END criterion=gini, max_depth=None, min_samples_leaf=1, min_samples_split=2; total time=   0.0s\n",
      "[CV] END criterion=gini, max_depth=None, min_samples_leaf=1, min_samples_split=5; total time=   0.0s\n",
      "[CV] END criterion=gini, max_depth=None, min_samples_leaf=1, min_samples_split=10; total time=   0.0s\n",
      "[CV] END criterion=gini, max_depth=None, min_samples_leaf=1, min_samples_split=20; total time=   0.0s\n",
      "[CV] END criterion=gini, max_depth=None, min_samples_leaf=2, min_samples_split=5; total time=   0.0s\n",
      "[CV] END criterion=gini, max_depth=40, min_samples_leaf=5, min_samples_split=20; total time=   0.0s\n",
      "[CV] END criterion=entropy, max_depth=None, min_samples_leaf=2, min_samples_split=5; total time=   0.0s\n",
      "[CV] END criterion=entropy, max_depth=None, min_samples_leaf=2, min_samples_split=5; total time=   0.0s\n",
      "[CV] END criterion=entropy, max_depth=None, min_samples_leaf=2, min_samples_split=10; total time=   0.0s\n",
      "[CV] END criterion=entropy, max_depth=None, min_samples_leaf=2, min_samples_split=10; total time=   0.0s\n",
      "[CV] END criterion=entropy, max_depth=None, min_samples_leaf=2, min_samples_split=10; total time=   0.0s\n",
      "[CV] END criterion=entropy, max_depth=None, min_samples_leaf=2, min_samples_split=10; total time=   0.0s\n",
      "[CV] END criterion=entropy, max_depth=None, min_samples_leaf=2, min_samples_split=10; total time=   0.0s\n",
      "[CV] END criterion=entropy, max_depth=None, min_samples_leaf=2, min_samples_split=20; total time=   0.0s\n",
      "[CV] END criterion=entropy, max_depth=None, min_samples_leaf=2, min_samples_split=20; total time=   0.0s\n",
      "[CV] END criterion=entropy, max_depth=None, min_samples_leaf=2, min_samples_split=20; total time=   0.0s\n",
      "[CV] END criterion=entropy, max_depth=None, min_samples_leaf=2, min_samples_split=20; total time=   0.0s\n",
      "[CV] END criterion=entropy, max_depth=None, min_samples_leaf=2, min_samples_split=20; total time=   0.0s\n",
      "[CV] END criterion=entropy, max_depth=None, min_samples_leaf=5, min_samples_split=2; total time=   0.0s\n",
      "[CV] END criterion=entropy, max_depth=None, min_samples_leaf=5, min_samples_split=2; total time=   0.0s\n",
      "[CV] END criterion=entropy, max_depth=None, min_samples_leaf=5, min_samples_split=2; total time=   0.0s\n",
      "[CV] END criterion=entropy, max_depth=None, min_samples_leaf=5, min_samples_split=2; total time=   0.0s\n",
      "[CV] END criterion=entropy, max_depth=30, min_samples_leaf=5, min_samples_split=2; total time=   0.0s\n",
      "[CV] END criterion=entropy, max_depth=30, min_samples_leaf=5, min_samples_split=5; total time=   0.0s\n",
      "[CV] END criterion=entropy, max_depth=30, min_samples_leaf=5, min_samples_split=5; total time=   0.0s\n",
      "[CV] END criterion=entropy, max_depth=30, min_samples_leaf=5, min_samples_split=5; total time=   0.1s\n",
      "[CV] END criterion=entropy, max_depth=30, min_samples_leaf=5, min_samples_split=5; total time=   0.0s\n",
      "[CV] END criterion=entropy, max_depth=30, min_samples_leaf=5, min_samples_split=5; total time=   0.0s\n",
      "[CV] END criterion=entropy, max_depth=30, min_samples_leaf=5, min_samples_split=10; total time=   0.0s\n",
      "[CV] END criterion=entropy, max_depth=30, min_samples_leaf=5, min_samples_split=10; total time=   0.0s\n",
      "[CV] END criterion=entropy, max_depth=30, min_samples_leaf=5, min_samples_split=10; total time=   0.0s\n",
      "[CV] END criterion=entropy, max_depth=30, min_samples_leaf=5, min_samples_split=10; total time=   0.0s\n",
      "[CV] END criterion=entropy, max_depth=30, min_samples_leaf=5, min_samples_split=10; total time=   0.0s\n",
      "[CV] END criterion=entropy, max_depth=30, min_samples_leaf=5, min_samples_split=20; total time=   0.0s\n",
      "[CV] END criterion=entropy, max_depth=30, min_samples_leaf=5, min_samples_split=20; total time=   0.0s\n",
      "[CV] END criterion=entropy, max_depth=30, min_samples_leaf=5, min_samples_split=20; total time=   0.0s\n",
      "[CV] END criterion=entropy, max_depth=30, min_samples_leaf=5, min_samples_split=20; total time=   0.0s\n",
      "[CV] END criterion=entropy, max_depth=30, min_samples_leaf=5, min_samples_split=20; total time=   0.0s\n",
      "[CV] END criterion=entropy, max_depth=40, min_samples_leaf=5, min_samples_split=2; total time=   0.0s\n",
      "[CV] END criterion=entropy, max_depth=40, min_samples_leaf=5, min_samples_split=5; total time=   0.0s\n",
      "[CV] END criterion=entropy, max_depth=40, min_samples_leaf=5, min_samples_split=5; total time=   0.0s\n",
      "[CV] END criterion=entropy, max_depth=40, min_samples_leaf=5, min_samples_split=5; total time=   0.0s\n",
      "[CV] END criterion=entropy, max_depth=40, min_samples_leaf=5, min_samples_split=5; total time=   0.0s\n",
      "[CV] END criterion=entropy, max_depth=40, min_samples_leaf=5, min_samples_split=5; total time=   0.0s\n",
      "[CV] END criterion=entropy, max_depth=40, min_samples_leaf=5, min_samples_split=10; total time=   0.0s\n",
      "[CV] END criterion=entropy, max_depth=40, min_samples_leaf=5, min_samples_split=10; total time=   0.0s\n",
      "[CV] END criterion=entropy, max_depth=40, min_samples_leaf=5, min_samples_split=10; total time=   0.0s\n",
      "[CV] END criterion=entropy, max_depth=40, min_samples_leaf=5, min_samples_split=10; total time=   0.0s\n",
      "[CV] END criterion=entropy, max_depth=40, min_samples_leaf=5, min_samples_split=10; total time=   0.0s\n",
      "[CV] END criterion=entropy, max_depth=40, min_samples_leaf=5, min_samples_split=20; total time=   0.0s\n",
      "[CV] END criterion=entropy, max_depth=40, min_samples_leaf=5, min_samples_split=20; total time=   0.0s\n",
      "[CV] END criterion=entropy, max_depth=40, min_samples_leaf=5, min_samples_split=20; total time=   0.0s\n",
      "[CV] END criterion=entropy, max_depth=40, min_samples_leaf=5, min_samples_split=20; total time=   0.0s\n",
      "[CV] END criterion=entropy, max_depth=40, min_samples_leaf=5, min_samples_split=20; total time=   0.0s\n",
      "[CV] END criterion=entropy, max_depth=50, min_samples_leaf=10, min_samples_split=10; total time=   0.0s\n",
      "[CV] END criterion=entropy, max_depth=50, min_samples_leaf=10, min_samples_split=20; total time=   0.0s\n",
      "[CV] END ................learning_rate=0.01, n_estimators=30; total time=   0.1s\n",
      "[CV] END ...............learning_rate=0.01, n_estimators=100; total time=   0.2s\n",
      "[CV] END .................learning_rate=0.1, n_estimators=50; total time=   1.1s\n",
      "[CV] END .................learning_rate=0.1, n_estimators=50; total time=   0.0s\n",
      "[CV] END ................learning_rate=0.1, n_estimators=150; total time=   3.6s\n",
      "[CV] END ................learning_rate=0.1, n_estimators=150; total time=   3.7s\n",
      "[CV] END ...................learning_rate=2, n_estimators=30; total time=   0.5s\n",
      "[CV] END ...................learning_rate=2, n_estimators=50; total time=   0.8s\n",
      "[CV] END ..................learning_rate=2, n_estimators=150; total time=   2.6s\n",
      "[CV] END ..................learning_rate=5, n_estimators=100; total time=   1.6s\n",
      "[CV] END criterion=gini, max_depth=None, min_samples_leaf=2, min_samples_split=20; total time=   0.0s\n",
      "[CV] END criterion=gini, max_depth=None, min_samples_leaf=2, min_samples_split=20; total time=   0.0s\n",
      "[CV] END criterion=gini, max_depth=None, min_samples_leaf=5, min_samples_split=20; total time=   0.0s\n",
      "[CV] END criterion=gini, max_depth=None, min_samples_leaf=5, min_samples_split=20; total time=   0.0s\n",
      "[CV] END criterion=gini, max_depth=None, min_samples_leaf=10, min_samples_split=20; total time=   0.0s\n",
      "[CV] END criterion=gini, max_depth=None, min_samples_leaf=10, min_samples_split=20; total time=   0.0s\n",
      "[CV] END criterion=gini, max_depth=None, min_samples_leaf=10, min_samples_split=20; total time=   0.0s\n",
      "[CV] END criterion=gini, max_depth=None, min_samples_leaf=10, min_samples_split=20; total time=   0.0s\n",
      "[CV] END criterion=gini, max_depth=10, min_samples_leaf=2, min_samples_split=2; total time=   0.0s\n",
      "[CV] END criterion=gini, max_depth=10, min_samples_leaf=2, min_samples_split=5; total time=   0.0s\n",
      "[CV] END criterion=gini, max_depth=10, min_samples_leaf=2, min_samples_split=5; total time=   0.0s\n",
      "[CV] END criterion=gini, max_depth=10, min_samples_leaf=2, min_samples_split=5; total time=   0.0s\n",
      "[CV] END criterion=gini, max_depth=10, min_samples_leaf=5, min_samples_split=5; total time=   0.0s\n",
      "[CV] END criterion=gini, max_depth=10, min_samples_leaf=5, min_samples_split=5; total time=   0.0s\n",
      "[CV] END criterion=gini, max_depth=10, min_samples_leaf=5, min_samples_split=10; total time=   0.0s\n",
      "[CV] END criterion=gini, max_depth=10, min_samples_leaf=5, min_samples_split=10; total time=   0.0s\n",
      "[CV] END criterion=gini, max_depth=20, min_samples_leaf=5, min_samples_split=2; total time=   0.0s\n",
      "[CV] END criterion=gini, max_depth=20, min_samples_leaf=5, min_samples_split=5; total time=   0.0s\n",
      "[CV] END criterion=gini, max_depth=20, min_samples_leaf=5, min_samples_split=5; total time=   0.0s\n",
      "[CV] END criterion=gini, max_depth=20, min_samples_leaf=5, min_samples_split=5; total time=   0.0s\n",
      "[CV] END criterion=gini, max_depth=20, min_samples_leaf=5, min_samples_split=5; total time=   0.0s\n",
      "[CV] END criterion=gini, max_depth=20, min_samples_leaf=5, min_samples_split=5; total time=   0.0s\n",
      "[CV] END criterion=gini, max_depth=20, min_samples_leaf=5, min_samples_split=10; total time=   0.0s\n",
      "[CV] END criterion=gini, max_depth=20, min_samples_leaf=5, min_samples_split=10; total time=   0.0s\n",
      "[CV] END criterion=gini, max_depth=30, min_samples_leaf=1, min_samples_split=10; total time=   0.0s\n",
      "[CV] END criterion=gini, max_depth=30, min_samples_leaf=1, min_samples_split=10; total time=   0.0s\n",
      "[CV] END criterion=gini, max_depth=30, min_samples_leaf=1, min_samples_split=10; total time=   0.0s\n",
      "[CV] END criterion=gini, max_depth=30, min_samples_leaf=1, min_samples_split=20; total time=   0.0s\n",
      "[CV] END criterion=gini, max_depth=30, min_samples_leaf=1, min_samples_split=20; total time=   0.0s\n",
      "[CV] END criterion=gini, max_depth=30, min_samples_leaf=1, min_samples_split=20; total time=   0.0s\n",
      "[CV] END criterion=gini, max_depth=30, min_samples_leaf=1, min_samples_split=20; total time=   0.0s\n",
      "[CV] END criterion=gini, max_depth=30, min_samples_leaf=1, min_samples_split=20; total time=   0.1s\n",
      "[CV] END criterion=gini, max_depth=50, min_samples_leaf=5, min_samples_split=2; total time=   0.0s\n",
      "[CV] END criterion=gini, max_depth=50, min_samples_leaf=5, min_samples_split=5; total time=   0.0s\n",
      "[CV] END criterion=gini, max_depth=50, min_samples_leaf=5, min_samples_split=5; total time=   0.0s\n",
      "[CV] END criterion=gini, max_depth=50, min_samples_leaf=5, min_samples_split=5; total time=   0.0s\n",
      "[CV] END criterion=gini, max_depth=50, min_samples_leaf=5, min_samples_split=5; total time=   0.0s\n",
      "[CV] END criterion=gini, max_depth=50, min_samples_leaf=5, min_samples_split=5; total time=   0.0s\n",
      "[CV] END criterion=gini, max_depth=50, min_samples_leaf=5, min_samples_split=10; total time=   0.0s\n",
      "[CV] END criterion=gini, max_depth=50, min_samples_leaf=5, min_samples_split=10; total time=   0.0s\n",
      "[CV] END criterion=gini, max_depth=50, min_samples_leaf=5, min_samples_split=10; total time=   0.0s\n",
      "[CV] END criterion=gini, max_depth=50, min_samples_leaf=5, min_samples_split=10; total time=   0.0s\n",
      "[CV] END criterion=gini, max_depth=50, min_samples_leaf=5, min_samples_split=10; total time=   0.0s\n",
      "[CV] END criterion=gini, max_depth=50, min_samples_leaf=5, min_samples_split=20; total time=   0.0s\n",
      "[CV] END criterion=gini, max_depth=50, min_samples_leaf=5, min_samples_split=20; total time=   0.0s\n",
      "[CV] END criterion=gini, max_depth=50, min_samples_leaf=5, min_samples_split=20; total time=   0.0s\n",
      "[CV] END criterion=gini, max_depth=50, min_samples_leaf=5, min_samples_split=20; total time=   0.0s\n",
      "[CV] END criterion=gini, max_depth=50, min_samples_leaf=5, min_samples_split=20; total time=   0.0s\n",
      "[CV] END criterion=entropy, max_depth=None, min_samples_leaf=10, min_samples_split=20; total time=   0.0s\n",
      "[CV] END criterion=entropy, max_depth=None, min_samples_leaf=10, min_samples_split=20; total time=   0.0s\n",
      "[CV] END criterion=entropy, max_depth=None, min_samples_leaf=10, min_samples_split=20; total time=   0.0s\n",
      "[CV] END criterion=entropy, max_depth=None, min_samples_leaf=10, min_samples_split=20; total time=   0.0s\n",
      "[CV] END criterion=entropy, max_depth=10, min_samples_leaf=1, min_samples_split=2; total time=   0.0s\n",
      "[CV] END criterion=entropy, max_depth=10, min_samples_leaf=1, min_samples_split=2; total time=   0.0s\n",
      "[CV] END criterion=entropy, max_depth=10, min_samples_leaf=1, min_samples_split=2; total time=   0.0s\n",
      "[CV] END criterion=entropy, max_depth=10, min_samples_leaf=1, min_samples_split=2; total time=   0.0s\n",
      "[CV] END criterion=entropy, max_depth=10, min_samples_leaf=1, min_samples_split=2; total time=   0.0s\n",
      "[CV] END criterion=entropy, max_depth=10, min_samples_leaf=1, min_samples_split=5; total time=   0.0s\n",
      "[CV] END criterion=entropy, max_depth=10, min_samples_leaf=1, min_samples_split=5; total time=   0.0s\n",
      "[CV] END criterion=entropy, max_depth=10, min_samples_leaf=1, min_samples_split=5; total time=   0.0s\n",
      "[CV] END criterion=entropy, max_depth=10, min_samples_leaf=1, min_samples_split=5; total time=   0.0s\n",
      "[CV] END criterion=entropy, max_depth=10, min_samples_leaf=1, min_samples_split=5; total time=   0.0s\n",
      "[CV] END criterion=entropy, max_depth=10, min_samples_leaf=1, min_samples_split=10; total time=   0.0s\n",
      "[CV] END criterion=entropy, max_depth=10, min_samples_leaf=1, min_samples_split=10; total time=   0.0s\n",
      "[CV] END criterion=entropy, max_depth=30, min_samples_leaf=1, min_samples_split=10; total time=   0.0s\n",
      "[CV] END criterion=entropy, max_depth=30, min_samples_leaf=1, min_samples_split=10; total time=   0.0s\n",
      "[CV] END criterion=entropy, max_depth=30, min_samples_leaf=1, min_samples_split=10; total time=   0.0s\n",
      "[CV] END criterion=entropy, max_depth=30, min_samples_leaf=1, min_samples_split=20; total time=   0.0s\n",
      "[CV] END criterion=entropy, max_depth=30, min_samples_leaf=1, min_samples_split=20; total time=   0.0s\n",
      "[CV] END criterion=entropy, max_depth=30, min_samples_leaf=1, min_samples_split=20; total time=   0.0s\n",
      "[CV] END criterion=entropy, max_depth=30, min_samples_leaf=1, min_samples_split=20; total time=   0.0s\n",
      "[CV] END criterion=entropy, max_depth=30, min_samples_leaf=1, min_samples_split=20; total time=   0.0s\n",
      "[CV] END criterion=entropy, max_depth=30, min_samples_leaf=2, min_samples_split=2; total time=   0.0s\n",
      "[CV] END criterion=entropy, max_depth=30, min_samples_leaf=2, min_samples_split=2; total time=   0.0s\n",
      "[CV] END criterion=entropy, max_depth=30, min_samples_leaf=2, min_samples_split=2; total time=   0.0s\n",
      "[CV] END criterion=entropy, max_depth=30, min_samples_leaf=2, min_samples_split=2; total time=   0.0s\n",
      "[CV] END criterion=entropy, max_depth=30, min_samples_leaf=2, min_samples_split=2; total time=   0.0s\n",
      "[CV] END criterion=entropy, max_depth=30, min_samples_leaf=2, min_samples_split=5; total time=   0.0s\n",
      "[CV] END criterion=entropy, max_depth=30, min_samples_leaf=2, min_samples_split=5; total time=   0.0s\n",
      "[CV] END criterion=entropy, max_depth=30, min_samples_leaf=2, min_samples_split=5; total time=   0.0s\n",
      "[CV] END criterion=entropy, max_depth=50, min_samples_leaf=10, min_samples_split=2; total time=   0.0s\n",
      "[CV] END criterion=entropy, max_depth=50, min_samples_leaf=10, min_samples_split=2; total time=   0.0s\n",
      "[CV] END criterion=entropy, max_depth=50, min_samples_leaf=10, min_samples_split=2; total time=   0.0s\n",
      "[CV] END criterion=entropy, max_depth=50, min_samples_leaf=10, min_samples_split=2; total time=   0.0s\n",
      "[CV] END criterion=entropy, max_depth=50, min_samples_leaf=10, min_samples_split=2; total time=   0.0s\n",
      "[CV] END criterion=entropy, max_depth=50, min_samples_leaf=10, min_samples_split=5; total time=   0.0s\n",
      "[CV] END criterion=entropy, max_depth=50, min_samples_leaf=10, min_samples_split=5; total time=   0.0s\n",
      "[CV] END criterion=entropy, max_depth=50, min_samples_leaf=10, min_samples_split=5; total time=   0.0s\n",
      "[CV] END criterion=entropy, max_depth=50, min_samples_leaf=10, min_samples_split=10; total time=   0.0s\n",
      "[CV] END criterion=entropy, max_depth=50, min_samples_leaf=10, min_samples_split=10; total time=   0.0s\n",
      "[CV] END criterion=entropy, max_depth=50, min_samples_leaf=10, min_samples_split=10; total time=   0.0s\n",
      "[CV] END criterion=entropy, max_depth=50, min_samples_leaf=10, min_samples_split=20; total time=   0.0s\n",
      "[CV] END ................learning_rate=0.01, n_estimators=50; total time=   0.3s\n",
      "[CV] END .................learning_rate=0.1, n_estimators=50; total time=   1.1s\n",
      "[CV] END .................learning_rate=0.1, n_estimators=50; total time=   1.1s\n",
      "[CV] END .................learning_rate=0.5, n_estimators=30; total time=   0.7s\n",
      "[CV] END .................learning_rate=0.5, n_estimators=50; total time=   1.2s\n",
      "[CV] END ................learning_rate=0.5, n_estimators=150; total time=   3.3s\n",
      "[CV] END ................learning_rate=0.5, n_estimators=150; total time=   3.5s\n",
      "[CV] END ...................learning_rate=5, n_estimators=30; total time=   0.4s\n",
      "[CV] END ...................learning_rate=5, n_estimators=50; total time=   0.8s\n",
      "[CV] END ..................learning_rate=5, n_estimators=100; total time=   1.6s\n",
      "[CV] END criterion=gini, max_depth=None, min_samples_leaf=5, min_samples_split=20; total time=   0.0s\n",
      "[CV] END criterion=entropy, max_depth=10, min_samples_leaf=1, min_samples_split=10; total time=   0.0s\n",
      "[CV] END criterion=entropy, max_depth=10, min_samples_leaf=1, min_samples_split=20; total time=   0.0s\n",
      "[CV] END criterion=entropy, max_depth=10, min_samples_leaf=1, min_samples_split=20; total time=   0.0s\n",
      "[CV] END criterion=entropy, max_depth=10, min_samples_leaf=1, min_samples_split=20; total time=   0.0s\n",
      "[CV] END criterion=entropy, max_depth=10, min_samples_leaf=1, min_samples_split=20; total time=   0.0s\n",
      "[CV] END criterion=entropy, max_depth=10, min_samples_leaf=1, min_samples_split=20; total time=   0.0s\n",
      "[CV] END criterion=entropy, max_depth=10, min_samples_leaf=2, min_samples_split=2; total time=   0.0s\n",
      "[CV] END criterion=entropy, max_depth=10, min_samples_leaf=2, min_samples_split=2; total time=   0.0s\n",
      "[CV] END criterion=entropy, max_depth=10, min_samples_leaf=2, min_samples_split=2; total time=   0.0s\n",
      "[CV] END criterion=entropy, max_depth=10, min_samples_leaf=2, min_samples_split=2; total time=   0.0s\n",
      "[CV] END criterion=entropy, max_depth=10, min_samples_leaf=2, min_samples_split=2; total time=   0.0s\n",
      "[CV] END criterion=entropy, max_depth=10, min_samples_leaf=2, min_samples_split=5; total time=   0.0s\n",
      "[CV] END criterion=entropy, max_depth=10, min_samples_leaf=2, min_samples_split=5; total time=   0.0s\n",
      "[CV] END criterion=entropy, max_depth=10, min_samples_leaf=2, min_samples_split=5; total time=   0.0s\n",
      "[CV] END criterion=entropy, max_depth=20, min_samples_leaf=10, min_samples_split=20; total time=   0.0s\n",
      "[CV] END criterion=entropy, max_depth=20, min_samples_leaf=10, min_samples_split=20; total time=   0.0s\n",
      "[CV] END criterion=entropy, max_depth=20, min_samples_leaf=10, min_samples_split=20; total time=   0.0s\n",
      "[CV] END criterion=entropy, max_depth=20, min_samples_leaf=10, min_samples_split=20; total time=   0.0s\n",
      "[CV] END criterion=entropy, max_depth=30, min_samples_leaf=1, min_samples_split=2; total time=   0.1s\n",
      "[CV] END criterion=entropy, max_depth=30, min_samples_leaf=1, min_samples_split=2; total time=   0.0s\n",
      "[CV] END criterion=entropy, max_depth=30, min_samples_leaf=1, min_samples_split=2; total time=   0.0s\n",
      "[CV] END criterion=entropy, max_depth=30, min_samples_leaf=1, min_samples_split=2; total time=   0.0s\n",
      "[CV] END criterion=entropy, max_depth=30, min_samples_leaf=1, min_samples_split=2; total time=   0.0s\n",
      "[CV] END criterion=entropy, max_depth=30, min_samples_leaf=1, min_samples_split=5; total time=   0.0s\n",
      "[CV] END criterion=entropy, max_depth=30, min_samples_leaf=1, min_samples_split=5; total time=   0.0s\n",
      "[CV] END criterion=entropy, max_depth=30, min_samples_leaf=1, min_samples_split=5; total time=   0.0s\n",
      "[CV] END criterion=entropy, max_depth=30, min_samples_leaf=1, min_samples_split=5; total time=   0.0s\n",
      "[CV] END criterion=entropy, max_depth=30, min_samples_leaf=1, min_samples_split=5; total time=   0.0s\n",
      "[CV] END criterion=entropy, max_depth=30, min_samples_leaf=1, min_samples_split=10; total time=   0.0s\n",
      "[CV] END criterion=entropy, max_depth=30, min_samples_leaf=1, min_samples_split=10; total time=   0.0s\n",
      "[CV] END criterion=entropy, max_depth=50, min_samples_leaf=10, min_samples_split=2; total time=   0.0s\n",
      "[CV] END criterion=entropy, max_depth=50, min_samples_leaf=10, min_samples_split=2; total time=   0.0s\n",
      "[CV] END criterion=entropy, max_depth=50, min_samples_leaf=10, min_samples_split=2; total time=   0.0s\n",
      "[CV] END criterion=entropy, max_depth=50, min_samples_leaf=10, min_samples_split=2; total time=   0.0s\n",
      "[CV] END criterion=entropy, max_depth=50, min_samples_leaf=10, min_samples_split=2; total time=   0.0s\n",
      "[CV] END criterion=entropy, max_depth=50, min_samples_leaf=10, min_samples_split=5; total time=   0.0s\n",
      "[CV] END criterion=entropy, max_depth=50, min_samples_leaf=10, min_samples_split=5; total time=   0.0s\n",
      "[CV] END criterion=entropy, max_depth=50, min_samples_leaf=10, min_samples_split=5; total time=   0.0s\n",
      "[CV] END criterion=entropy, max_depth=50, min_samples_leaf=10, min_samples_split=5; total time=   0.0s\n",
      "[CV] END criterion=entropy, max_depth=50, min_samples_leaf=10, min_samples_split=5; total time=   0.0s\n",
      "[CV] END criterion=entropy, max_depth=50, min_samples_leaf=10, min_samples_split=10; total time=   0.0s\n",
      "[CV] END criterion=entropy, max_depth=50, min_samples_leaf=10, min_samples_split=20; total time=   0.0s\n",
      "[CV] END ................learning_rate=0.01, n_estimators=50; total time=   0.1s\n",
      "[CV] END ...............learning_rate=0.01, n_estimators=100; total time=   0.1s\n",
      "[CV] END ...............learning_rate=0.01, n_estimators=150; total time=   0.1s\n",
      "[CV] END ................learning_rate=0.1, n_estimators=100; total time=   2.5s\n",
      "[CV] END ................learning_rate=0.1, n_estimators=100; total time=   2.4s\n",
      "[CV] END ...................learning_rate=1, n_estimators=30; total time=   0.5s\n",
      "[CV] END ...................learning_rate=1, n_estimators=30; total time=   0.1s\n",
      "[CV] END ...................learning_rate=1, n_estimators=30; total time=   0.5s\n",
      "[CV] END ...................learning_rate=1, n_estimators=50; total time=   0.3s\n",
      "[CV] END ..................learning_rate=1, n_estimators=100; total time=   2.0s\n",
      "[CV] END ..................learning_rate=1, n_estimators=100; total time=   0.3s\n",
      "[CV] END ...................learning_rate=2, n_estimators=50; total time=   0.8s\n",
      "[CV] END ..................learning_rate=2, n_estimators=100; total time=   1.7s\n",
      "[CV] END ...................learning_rate=5, n_estimators=30; total time=   0.5s\n",
      "[CV] END ...................learning_rate=5, n_estimators=50; total time=   0.9s\n",
      "[CV] END ..................learning_rate=5, n_estimators=150; total time=   2.2s\n",
      "[CV] END criterion=gini, max_depth=None, min_samples_leaf=1, min_samples_split=2; total time=   0.0s\n",
      "[CV] END criterion=gini, max_depth=None, min_samples_leaf=1, min_samples_split=5; total time=   0.0s\n",
      "[CV] END criterion=gini, max_depth=None, min_samples_leaf=1, min_samples_split=20; total time=   0.0s\n",
      "[CV] END criterion=gini, max_depth=None, min_samples_leaf=2, min_samples_split=10; total time=   0.0s\n",
      "[CV] END criterion=gini, max_depth=None, min_samples_leaf=2, min_samples_split=10; total time=   0.0s\n",
      "[CV] END criterion=gini, max_depth=None, min_samples_leaf=5, min_samples_split=10; total time=   0.0s\n",
      "[CV] END criterion=gini, max_depth=None, min_samples_leaf=5, min_samples_split=10; total time=   0.0s\n",
      "[CV] END criterion=gini, max_depth=10, min_samples_leaf=1, min_samples_split=2; total time=   0.0s\n",
      "[CV] END criterion=gini, max_depth=10, min_samples_leaf=1, min_samples_split=2; total time=   0.0s\n",
      "[CV] END criterion=gini, max_depth=10, min_samples_leaf=1, min_samples_split=2; total time=   0.0s\n",
      "[CV] END criterion=gini, max_depth=10, min_samples_leaf=1, min_samples_split=2; total time=   0.0s\n",
      "[CV] END criterion=gini, max_depth=10, min_samples_leaf=2, min_samples_split=5; total time=   0.0s\n",
      "[CV] END criterion=gini, max_depth=10, min_samples_leaf=2, min_samples_split=5; total time=   0.0s\n",
      "[CV] END criterion=gini, max_depth=10, min_samples_leaf=2, min_samples_split=10; total time=   0.1s\n",
      "[CV] END criterion=gini, max_depth=10, min_samples_leaf=2, min_samples_split=10; total time=   0.0s\n",
      "[CV] END criterion=gini, max_depth=20, min_samples_leaf=2, min_samples_split=5; total time=   0.0s\n",
      "[CV] END criterion=gini, max_depth=20, min_samples_leaf=2, min_samples_split=5; total time=   0.0s\n",
      "[CV] END criterion=gini, max_depth=20, min_samples_leaf=2, min_samples_split=10; total time=   0.0s\n",
      "[CV] END criterion=gini, max_depth=20, min_samples_leaf=2, min_samples_split=10; total time=   0.0s\n",
      "[CV] END criterion=gini, max_depth=20, min_samples_leaf=2, min_samples_split=10; total time=   0.0s\n",
      "[CV] END criterion=gini, max_depth=20, min_samples_leaf=2, min_samples_split=10; total time=   0.0s\n",
      "[CV] END criterion=gini, max_depth=20, min_samples_leaf=2, min_samples_split=10; total time=   0.0s\n",
      "[CV] END criterion=gini, max_depth=20, min_samples_leaf=2, min_samples_split=20; total time=   0.0s\n",
      "[CV] END criterion=gini, max_depth=30, min_samples_leaf=5, min_samples_split=10; total time=   0.0s\n",
      "[CV] END criterion=gini, max_depth=30, min_samples_leaf=5, min_samples_split=10; total time=   0.0s\n",
      "[CV] END criterion=gini, max_depth=30, min_samples_leaf=5, min_samples_split=10; total time=   0.0s\n",
      "[CV] END criterion=gini, max_depth=30, min_samples_leaf=5, min_samples_split=20; total time=   0.0s\n",
      "[CV] END criterion=gini, max_depth=30, min_samples_leaf=5, min_samples_split=20; total time=   0.0s\n",
      "[CV] END criterion=gini, max_depth=30, min_samples_leaf=5, min_samples_split=20; total time=   0.0s\n",
      "[CV] END criterion=gini, max_depth=30, min_samples_leaf=5, min_samples_split=20; total time=   0.0s\n",
      "[CV] END criterion=gini, max_depth=30, min_samples_leaf=5, min_samples_split=20; total time=   0.0s\n",
      "[CV] END criterion=gini, max_depth=40, min_samples_leaf=10, min_samples_split=20; total time=   0.0s\n",
      "[CV] END criterion=gini, max_depth=40, min_samples_leaf=10, min_samples_split=20; total time=   0.0s\n",
      "[CV] END criterion=gini, max_depth=40, min_samples_leaf=10, min_samples_split=20; total time=   0.0s\n",
      "[CV] END criterion=gini, max_depth=40, min_samples_leaf=10, min_samples_split=20; total time=   0.0s\n",
      "[CV] END criterion=gini, max_depth=50, min_samples_leaf=1, min_samples_split=2; total time=   0.0s\n",
      "[CV] END criterion=gini, max_depth=50, min_samples_leaf=1, min_samples_split=2; total time=   0.0s\n",
      "[CV] END criterion=gini, max_depth=50, min_samples_leaf=1, min_samples_split=2; total time=   0.0s\n",
      "[CV] END criterion=gini, max_depth=50, min_samples_leaf=1, min_samples_split=2; total time=   0.0s\n",
      "[CV] END criterion=gini, max_depth=50, min_samples_leaf=1, min_samples_split=2; total time=   0.0s\n",
      "[CV] END criterion=gini, max_depth=50, min_samples_leaf=1, min_samples_split=5; total time=   0.0s\n",
      "[CV] END criterion=gini, max_depth=50, min_samples_leaf=1, min_samples_split=5; total time=   0.0s\n",
      "[CV] END criterion=gini, max_depth=50, min_samples_leaf=1, min_samples_split=5; total time=   0.1s\n",
      "[CV] END criterion=gini, max_depth=50, min_samples_leaf=1, min_samples_split=5; total time=   0.0s\n",
      "[CV] END criterion=gini, max_depth=50, min_samples_leaf=1, min_samples_split=5; total time=   0.0s\n",
      "[CV] END criterion=gini, max_depth=50, min_samples_leaf=1, min_samples_split=10; total time=   0.0s\n",
      "[CV] END criterion=gini, max_depth=50, min_samples_leaf=1, min_samples_split=10; total time=   0.0s\n",
      "[CV] END criterion=entropy, max_depth=10, min_samples_leaf=2, min_samples_split=5; total time=   0.0s\n",
      "[CV] END criterion=entropy, max_depth=10, min_samples_leaf=2, min_samples_split=5; total time=   0.0s\n",
      "[CV] END criterion=entropy, max_depth=10, min_samples_leaf=2, min_samples_split=10; total time=   0.0s\n",
      "[CV] END criterion=entropy, max_depth=10, min_samples_leaf=2, min_samples_split=10; total time=   0.0s\n",
      "[CV] END criterion=entropy, max_depth=10, min_samples_leaf=2, min_samples_split=10; total time=   0.0s\n",
      "[CV] END criterion=entropy, max_depth=10, min_samples_leaf=2, min_samples_split=10; total time=   0.0s\n",
      "[CV] END criterion=entropy, max_depth=10, min_samples_leaf=2, min_samples_split=10; total time=   0.0s\n",
      "[CV] END criterion=entropy, max_depth=10, min_samples_leaf=2, min_samples_split=20; total time=   0.0s\n",
      "[CV] END criterion=entropy, max_depth=10, min_samples_leaf=2, min_samples_split=20; total time=   0.0s\n",
      "[CV] END criterion=entropy, max_depth=10, min_samples_leaf=2, min_samples_split=20; total time=   0.0s\n",
      "[CV] END criterion=entropy, max_depth=10, min_samples_leaf=2, min_samples_split=20; total time=   0.0s\n",
      "[CV] END criterion=entropy, max_depth=10, min_samples_leaf=2, min_samples_split=20; total time=   0.0s\n",
      "[CV] END criterion=entropy, max_depth=10, min_samples_leaf=5, min_samples_split=2; total time=   0.0s\n",
      "[CV] END criterion=entropy, max_depth=10, min_samples_leaf=5, min_samples_split=2; total time=   0.0s\n",
      "[CV] END criterion=entropy, max_depth=10, min_samples_leaf=5, min_samples_split=2; total time=   0.0s\n",
      "[CV] END criterion=entropy, max_depth=10, min_samples_leaf=5, min_samples_split=2; total time=   0.0s\n",
      "[CV] END criterion=entropy, max_depth=30, min_samples_leaf=5, min_samples_split=2; total time=   0.0s\n",
      "[CV] END criterion=entropy, max_depth=30, min_samples_leaf=5, min_samples_split=5; total time=   0.0s\n",
      "[CV] END criterion=entropy, max_depth=30, min_samples_leaf=5, min_samples_split=5; total time=   0.0s\n",
      "[CV] END criterion=entropy, max_depth=30, min_samples_leaf=5, min_samples_split=5; total time=   0.0s\n",
      "[CV] END criterion=entropy, max_depth=30, min_samples_leaf=5, min_samples_split=5; total time=   0.0s\n",
      "[CV] END criterion=entropy, max_depth=30, min_samples_leaf=5, min_samples_split=5; total time=   0.0s\n",
      "[CV] END criterion=entropy, max_depth=30, min_samples_leaf=5, min_samples_split=10; total time=   0.0s\n",
      "[CV] END criterion=entropy, max_depth=30, min_samples_leaf=5, min_samples_split=10; total time=   0.0s\n",
      "[CV] END criterion=entropy, max_depth=30, min_samples_leaf=5, min_samples_split=10; total time=   0.0s\n",
      "[CV] END criterion=entropy, max_depth=30, min_samples_leaf=5, min_samples_split=10; total time=   0.0s\n",
      "[CV] END criterion=entropy, max_depth=30, min_samples_leaf=5, min_samples_split=10; total time=   0.0s\n",
      "[CV] END criterion=entropy, max_depth=30, min_samples_leaf=5, min_samples_split=20; total time=   0.0s\n",
      "[CV] END criterion=entropy, max_depth=30, min_samples_leaf=5, min_samples_split=20; total time=   0.0s\n",
      "[CV] END criterion=entropy, max_depth=30, min_samples_leaf=5, min_samples_split=20; total time=   0.0s\n",
      "[CV] END criterion=entropy, max_depth=30, min_samples_leaf=5, min_samples_split=20; total time=   0.0s\n",
      "[CV] END criterion=entropy, max_depth=30, min_samples_leaf=5, min_samples_split=20; total time=   0.0s\n",
      "[CV] END criterion=entropy, max_depth=40, min_samples_leaf=10, min_samples_split=20; total time=   0.0s\n",
      "[CV] END criterion=entropy, max_depth=40, min_samples_leaf=10, min_samples_split=20; total time=   0.0s\n",
      "[CV] END criterion=entropy, max_depth=40, min_samples_leaf=10, min_samples_split=20; total time=   0.0s\n",
      "[CV] END criterion=entropy, max_depth=40, min_samples_leaf=10, min_samples_split=20; total time=   0.0s\n",
      "[CV] END criterion=entropy, max_depth=50, min_samples_leaf=1, min_samples_split=2; total time=   0.0s\n",
      "[CV] END criterion=entropy, max_depth=50, min_samples_leaf=1, min_samples_split=2; total time=   0.0s\n",
      "[CV] END criterion=entropy, max_depth=50, min_samples_leaf=1, min_samples_split=2; total time=   0.0s\n",
      "[CV] END criterion=entropy, max_depth=50, min_samples_leaf=1, min_samples_split=2; total time=   0.0s\n",
      "[CV] END criterion=entropy, max_depth=50, min_samples_leaf=1, min_samples_split=2; total time=   0.0s\n",
      "[CV] END criterion=entropy, max_depth=50, min_samples_leaf=1, min_samples_split=5; total time=   0.0s\n",
      "[CV] END criterion=entropy, max_depth=50, min_samples_leaf=1, min_samples_split=5; total time=   0.0s\n",
      "[CV] END criterion=entropy, max_depth=50, min_samples_leaf=1, min_samples_split=5; total time=   0.0s\n",
      "[CV] END criterion=entropy, max_depth=50, min_samples_leaf=1, min_samples_split=5; total time=   0.0s\n",
      "[CV] END criterion=entropy, max_depth=50, min_samples_leaf=1, min_samples_split=5; total time=   0.0s\n",
      "[CV] END criterion=entropy, max_depth=50, min_samples_leaf=1, min_samples_split=10; total time=   0.0s\n",
      "[CV] END criterion=entropy, max_depth=50, min_samples_leaf=1, min_samples_split=10; total time=   0.0s\n",
      "[CV] END ................learning_rate=0.01, n_estimators=50; total time=   0.1s\n",
      "[CV] END ...............learning_rate=0.01, n_estimators=100; total time=   0.1s\n",
      "[CV] END ...............learning_rate=0.01, n_estimators=150; total time=   0.2s\n",
      "[CV] END .................learning_rate=0.1, n_estimators=30; total time=   0.6s\n",
      "[CV] END .................learning_rate=0.1, n_estimators=50; total time=   0.0s\n",
      "[CV] END ................learning_rate=0.1, n_estimators=150; total time=   3.6s\n",
      "[CV] END ................learning_rate=0.1, n_estimators=150; total time=   3.2s\n",
      "[CV] END ..................learning_rate=1, n_estimators=150; total time=   0.3s\n",
      "[CV] END ..................learning_rate=1, n_estimators=150; total time=   1.4s\n",
      "[CV] END ..................learning_rate=2, n_estimators=100; total time=   1.6s\n",
      "[CV] END ...................learning_rate=5, n_estimators=30; total time=   0.5s\n",
      "[CV] END ...................learning_rate=5, n_estimators=50; total time=   0.8s\n",
      "[CV] END ..................learning_rate=5, n_estimators=100; total time=   1.6s\n",
      "[CV] END criterion=entropy, max_depth=None, min_samples_leaf=5, min_samples_split=5; total time=   0.0s\n",
      "[CV] END criterion=entropy, max_depth=None, min_samples_leaf=5, min_samples_split=10; total time=   0.0s\n",
      "[CV] END criterion=entropy, max_depth=None, min_samples_leaf=5, min_samples_split=10; total time=   0.0s\n",
      "[CV] END criterion=entropy, max_depth=None, min_samples_leaf=5, min_samples_split=10; total time=   0.0s\n",
      "[CV] END criterion=entropy, max_depth=None, min_samples_leaf=5, min_samples_split=10; total time=   0.0s\n",
      "[CV] END criterion=entropy, max_depth=None, min_samples_leaf=5, min_samples_split=10; total time=   0.0s\n",
      "[CV] END criterion=entropy, max_depth=None, min_samples_leaf=5, min_samples_split=20; total time=   0.0s\n",
      "[CV] END criterion=entropy, max_depth=None, min_samples_leaf=5, min_samples_split=20; total time=   0.0s\n",
      "[CV] END criterion=entropy, max_depth=None, min_samples_leaf=5, min_samples_split=20; total time=   0.0s\n",
      "[CV] END criterion=entropy, max_depth=None, min_samples_leaf=5, min_samples_split=20; total time=   0.0s\n",
      "[CV] END criterion=entropy, max_depth=None, min_samples_leaf=5, min_samples_split=20; total time=   0.0s\n",
      "[CV] END criterion=entropy, max_depth=20, min_samples_leaf=5, min_samples_split=2; total time=   0.0s\n",
      "[CV] END criterion=entropy, max_depth=20, min_samples_leaf=5, min_samples_split=5; total time=   0.0s\n",
      "[CV] END criterion=entropy, max_depth=20, min_samples_leaf=5, min_samples_split=5; total time=   0.0s\n",
      "[CV] END criterion=entropy, max_depth=20, min_samples_leaf=5, min_samples_split=5; total time=   0.1s\n",
      "[CV] END criterion=entropy, max_depth=20, min_samples_leaf=5, min_samples_split=5; total time=   0.1s\n",
      "[CV] END criterion=entropy, max_depth=20, min_samples_leaf=5, min_samples_split=5; total time=   0.0s\n",
      "[CV] END criterion=entropy, max_depth=20, min_samples_leaf=5, min_samples_split=10; total time=   0.0s\n",
      "[CV] END criterion=entropy, max_depth=20, min_samples_leaf=5, min_samples_split=10; total time=   0.0s\n",
      "[CV] END criterion=entropy, max_depth=20, min_samples_leaf=5, min_samples_split=10; total time=   0.0s\n",
      "[CV] END criterion=entropy, max_depth=20, min_samples_leaf=5, min_samples_split=10; total time=   0.0s\n",
      "[CV] END criterion=entropy, max_depth=20, min_samples_leaf=5, min_samples_split=10; total time=   0.0s\n",
      "[CV] END criterion=entropy, max_depth=20, min_samples_leaf=5, min_samples_split=20; total time=   0.0s\n",
      "[CV] END criterion=entropy, max_depth=20, min_samples_leaf=5, min_samples_split=20; total time=   0.0s\n",
      "[CV] END criterion=entropy, max_depth=20, min_samples_leaf=5, min_samples_split=20; total time=   0.0s\n",
      "[CV] END criterion=entropy, max_depth=20, min_samples_leaf=5, min_samples_split=20; total time=   0.0s\n",
      "[CV] END criterion=entropy, max_depth=20, min_samples_leaf=5, min_samples_split=20; total time=   0.0s\n",
      "[CV] END criterion=entropy, max_depth=40, min_samples_leaf=2, min_samples_split=5; total time=   0.0s\n",
      "[CV] END criterion=entropy, max_depth=40, min_samples_leaf=2, min_samples_split=5; total time=   0.0s\n",
      "[CV] END criterion=entropy, max_depth=40, min_samples_leaf=2, min_samples_split=10; total time=   0.0s\n",
      "[CV] END criterion=entropy, max_depth=40, min_samples_leaf=2, min_samples_split=10; total time=   0.0s\n",
      "[CV] END criterion=entropy, max_depth=40, min_samples_leaf=2, min_samples_split=10; total time=   0.0s\n",
      "[CV] END criterion=entropy, max_depth=40, min_samples_leaf=2, min_samples_split=10; total time=   0.0s\n",
      "[CV] END criterion=entropy, max_depth=40, min_samples_leaf=2, min_samples_split=10; total time=   0.0s\n",
      "[CV] END criterion=entropy, max_depth=40, min_samples_leaf=2, min_samples_split=20; total time=   0.0s\n",
      "[CV] END criterion=entropy, max_depth=40, min_samples_leaf=2, min_samples_split=20; total time=   0.0s\n",
      "[CV] END criterion=entropy, max_depth=40, min_samples_leaf=2, min_samples_split=20; total time=   0.0s\n",
      "[CV] END criterion=entropy, max_depth=40, min_samples_leaf=2, min_samples_split=20; total time=   0.0s\n",
      "[CV] END criterion=entropy, max_depth=40, min_samples_leaf=2, min_samples_split=20; total time=   0.0s\n",
      "[CV] END criterion=entropy, max_depth=40, min_samples_leaf=5, min_samples_split=2; total time=   0.0s\n",
      "[CV] END criterion=entropy, max_depth=40, min_samples_leaf=5, min_samples_split=2; total time=   0.0s\n",
      "[CV] END criterion=entropy, max_depth=40, min_samples_leaf=5, min_samples_split=2; total time=   0.0s\n",
      "[CV] END criterion=entropy, max_depth=40, min_samples_leaf=5, min_samples_split=2; total time=   0.0s\n",
      "[CV] END ................learning_rate=0.01, n_estimators=30; total time=   0.1s\n",
      "[CV] END ...............learning_rate=0.01, n_estimators=150; total time=   0.1s\n",
      "[CV] END .................learning_rate=0.1, n_estimators=50; total time=   0.3s\n",
      "[CV] END .................learning_rate=0.1, n_estimators=50; total time=   1.1s\n",
      "[CV] END .................learning_rate=0.5, n_estimators=30; total time=   0.7s\n",
      "[CV] END .................learning_rate=0.5, n_estimators=30; total time=   0.8s\n",
      "[CV] END ................learning_rate=0.5, n_estimators=100; total time=   0.9s\n",
      "[CV] END ................learning_rate=0.5, n_estimators=100; total time=   2.5s\n",
      "[CV] END ...................learning_rate=1, n_estimators=50; total time=   0.9s\n",
      "[CV] END ...................learning_rate=1, n_estimators=50; total time=   0.6s\n",
      "[CV] END ..................learning_rate=1, n_estimators=150; total time=   2.1s\n",
      "[CV] END ..................learning_rate=1, n_estimators=150; total time=   0.0s\n",
      "[CV] END ..................learning_rate=2, n_estimators=150; total time=   2.6s\n",
      "[CV] END ..................learning_rate=5, n_estimators=100; total time=   1.5s\n",
      "[CV] END criterion=gini, max_depth=None, min_samples_leaf=1, min_samples_split=5; total time=   0.0s\n",
      "[CV] END criterion=gini, max_depth=None, min_samples_leaf=1, min_samples_split=20; total time=   0.0s\n",
      "[CV] END criterion=gini, max_depth=None, min_samples_leaf=2, min_samples_split=5; total time=   0.0s\n",
      "[CV] END criterion=gini, max_depth=None, min_samples_leaf=2, min_samples_split=5; total time=   0.0s\n",
      "[CV] END criterion=gini, max_depth=None, min_samples_leaf=5, min_samples_split=2; total time=   0.0s\n",
      "[CV] END criterion=gini, max_depth=None, min_samples_leaf=5, min_samples_split=5; total time=   0.0s\n",
      "[CV] END criterion=gini, max_depth=None, min_samples_leaf=10, min_samples_split=5; total time=   0.0s\n",
      "[CV] END criterion=gini, max_depth=None, min_samples_leaf=10, min_samples_split=5; total time=   0.0s\n",
      "[CV] END criterion=gini, max_depth=None, min_samples_leaf=10, min_samples_split=10; total time=   0.0s\n",
      "[CV] END criterion=gini, max_depth=None, min_samples_leaf=10, min_samples_split=10; total time=   0.0s\n",
      "[CV] END criterion=gini, max_depth=10, min_samples_leaf=2, min_samples_split=10; total time=   0.0s\n",
      "[CV] END criterion=gini, max_depth=10, min_samples_leaf=2, min_samples_split=10; total time=   0.0s\n",
      "[CV] END criterion=gini, max_depth=10, min_samples_leaf=2, min_samples_split=10; total time=   0.0s\n",
      "[CV] END criterion=gini, max_depth=10, min_samples_leaf=2, min_samples_split=20; total time=   0.0s\n",
      "[CV] END criterion=gini, max_depth=20, min_samples_leaf=1, min_samples_split=10; total time=   0.0s\n",
      "[CV] END criterion=gini, max_depth=20, min_samples_leaf=1, min_samples_split=10; total time=   0.0s\n",
      "[CV] END criterion=gini, max_depth=20, min_samples_leaf=1, min_samples_split=10; total time=   0.0s\n",
      "[CV] END criterion=gini, max_depth=20, min_samples_leaf=1, min_samples_split=20; total time=   0.0s\n",
      "[CV] END criterion=gini, max_depth=20, min_samples_leaf=1, min_samples_split=20; total time=   0.0s\n",
      "[CV] END criterion=gini, max_depth=20, min_samples_leaf=1, min_samples_split=20; total time=   0.0s\n",
      "[CV] END criterion=gini, max_depth=20, min_samples_leaf=1, min_samples_split=20; total time=   0.0s\n",
      "[CV] END criterion=gini, max_depth=20, min_samples_leaf=1, min_samples_split=20; total time=   0.0s\n",
      "[CV] END criterion=gini, max_depth=30, min_samples_leaf=2, min_samples_split=5; total time=   0.0s\n",
      "[CV] END criterion=gini, max_depth=30, min_samples_leaf=2, min_samples_split=5; total time=   0.0s\n",
      "[CV] END criterion=gini, max_depth=30, min_samples_leaf=2, min_samples_split=10; total time=   0.0s\n",
      "[CV] END criterion=gini, max_depth=30, min_samples_leaf=2, min_samples_split=10; total time=   0.0s\n",
      "[CV] END criterion=gini, max_depth=30, min_samples_leaf=2, min_samples_split=10; total time=   0.0s\n",
      "[CV] END criterion=gini, max_depth=30, min_samples_leaf=2, min_samples_split=10; total time=   0.0s\n",
      "[CV] END criterion=gini, max_depth=30, min_samples_leaf=2, min_samples_split=10; total time=   0.1s\n",
      "[CV] END criterion=gini, max_depth=30, min_samples_leaf=2, min_samples_split=20; total time=   0.0s\n",
      "[CV] END criterion=gini, max_depth=50, min_samples_leaf=2, min_samples_split=5; total time=   0.0s\n",
      "[CV] END criterion=gini, max_depth=50, min_samples_leaf=2, min_samples_split=5; total time=   0.0s\n",
      "[CV] END criterion=gini, max_depth=50, min_samples_leaf=2, min_samples_split=10; total time=   0.0s\n",
      "[CV] END criterion=gini, max_depth=50, min_samples_leaf=2, min_samples_split=10; total time=   0.0s\n",
      "[CV] END criterion=gini, max_depth=50, min_samples_leaf=2, min_samples_split=10; total time=   0.0s\n",
      "[CV] END criterion=gini, max_depth=50, min_samples_leaf=2, min_samples_split=10; total time=   0.0s\n",
      "[CV] END criterion=gini, max_depth=50, min_samples_leaf=2, min_samples_split=10; total time=   0.0s\n",
      "[CV] END criterion=gini, max_depth=50, min_samples_leaf=2, min_samples_split=20; total time=   0.0s\n",
      "[CV] END criterion=gini, max_depth=50, min_samples_leaf=2, min_samples_split=20; total time=   0.0s\n",
      "[CV] END criterion=gini, max_depth=50, min_samples_leaf=2, min_samples_split=20; total time=   0.0s\n",
      "[CV] END criterion=gini, max_depth=50, min_samples_leaf=2, min_samples_split=20; total time=   0.0s\n",
      "[CV] END criterion=gini, max_depth=50, min_samples_leaf=2, min_samples_split=20; total time=   0.0s\n",
      "[CV] END criterion=gini, max_depth=50, min_samples_leaf=5, min_samples_split=2; total time=   0.0s\n",
      "[CV] END criterion=gini, max_depth=50, min_samples_leaf=5, min_samples_split=2; total time=   0.0s\n",
      "[CV] END criterion=gini, max_depth=50, min_samples_leaf=5, min_samples_split=2; total time=   0.0s\n",
      "[CV] END criterion=gini, max_depth=50, min_samples_leaf=5, min_samples_split=2; total time=   0.0s\n",
      "[CV] END criterion=entropy, max_depth=10, min_samples_leaf=1, min_samples_split=10; total time=   0.0s\n",
      "[CV] END criterion=entropy, max_depth=10, min_samples_leaf=1, min_samples_split=10; total time=   0.0s\n",
      "[CV] END criterion=entropy, max_depth=10, min_samples_leaf=1, min_samples_split=10; total time=   0.0s\n",
      "[CV] END criterion=entropy, max_depth=10, min_samples_leaf=1, min_samples_split=20; total time=   0.0s\n",
      "[CV] END criterion=entropy, max_depth=10, min_samples_leaf=1, min_samples_split=20; total time=   0.0s\n",
      "[CV] END criterion=entropy, max_depth=10, min_samples_leaf=1, min_samples_split=20; total time=   0.0s\n",
      "[CV] END criterion=entropy, max_depth=10, min_samples_leaf=1, min_samples_split=20; total time=   0.0s\n",
      "[CV] END criterion=entropy, max_depth=10, min_samples_leaf=1, min_samples_split=20; total time=   0.0s\n",
      "[CV] END criterion=entropy, max_depth=10, min_samples_leaf=2, min_samples_split=2; total time=   0.0s\n",
      "[CV] END criterion=entropy, max_depth=10, min_samples_leaf=2, min_samples_split=2; total time=   0.0s\n",
      "[CV] END criterion=entropy, max_depth=10, min_samples_leaf=2, min_samples_split=2; total time=   0.0s\n",
      "[CV] END criterion=entropy, max_depth=10, min_samples_leaf=2, min_samples_split=2; total time=   0.0s\n",
      "[CV] END criterion=entropy, max_depth=10, min_samples_leaf=2, min_samples_split=2; total time=   0.0s\n",
      "[CV] END criterion=entropy, max_depth=10, min_samples_leaf=2, min_samples_split=5; total time=   0.0s\n",
      "[CV] END criterion=entropy, max_depth=10, min_samples_leaf=2, min_samples_split=5; total time=   0.0s\n",
      "[CV] END criterion=entropy, max_depth=10, min_samples_leaf=2, min_samples_split=5; total time=   0.0s\n",
      "[CV] END criterion=entropy, max_depth=30, min_samples_leaf=2, min_samples_split=5; total time=   0.0s\n",
      "[CV] END criterion=entropy, max_depth=30, min_samples_leaf=2, min_samples_split=5; total time=   0.0s\n",
      "[CV] END criterion=entropy, max_depth=30, min_samples_leaf=2, min_samples_split=10; total time=   0.0s\n",
      "[CV] END criterion=entropy, max_depth=30, min_samples_leaf=2, min_samples_split=10; total time=   0.0s\n",
      "[CV] END criterion=entropy, max_depth=30, min_samples_leaf=2, min_samples_split=10; total time=   0.0s\n",
      "[CV] END criterion=entropy, max_depth=30, min_samples_leaf=2, min_samples_split=10; total time=   0.0s\n",
      "[CV] END criterion=entropy, max_depth=30, min_samples_leaf=2, min_samples_split=10; total time=   0.0s\n",
      "[CV] END criterion=entropy, max_depth=30, min_samples_leaf=2, min_samples_split=20; total time=   0.0s\n",
      "[CV] END criterion=entropy, max_depth=30, min_samples_leaf=2, min_samples_split=20; total time=   0.0s\n",
      "[CV] END criterion=entropy, max_depth=30, min_samples_leaf=2, min_samples_split=20; total time=   0.0s\n",
      "[CV] END criterion=entropy, max_depth=30, min_samples_leaf=2, min_samples_split=20; total time=   0.0s\n",
      "[CV] END criterion=entropy, max_depth=30, min_samples_leaf=2, min_samples_split=20; total time=   0.0s\n",
      "[CV] END criterion=entropy, max_depth=30, min_samples_leaf=5, min_samples_split=2; total time=   0.0s\n",
      "[CV] END criterion=entropy, max_depth=30, min_samples_leaf=5, min_samples_split=2; total time=   0.0s\n",
      "[CV] END criterion=entropy, max_depth=30, min_samples_leaf=5, min_samples_split=2; total time=   0.0s\n",
      "[CV] END criterion=entropy, max_depth=30, min_samples_leaf=5, min_samples_split=2; total time=   0.0s\n",
      "[CV] END criterion=entropy, max_depth=50, min_samples_leaf=1, min_samples_split=10; total time=   0.0s\n",
      "[CV] END criterion=entropy, max_depth=50, min_samples_leaf=1, min_samples_split=10; total time=   0.0s\n",
      "[CV] END criterion=entropy, max_depth=50, min_samples_leaf=1, min_samples_split=10; total time=   0.0s\n",
      "[CV] END criterion=entropy, max_depth=50, min_samples_leaf=1, min_samples_split=20; total time=   0.0s\n",
      "[CV] END criterion=entropy, max_depth=50, min_samples_leaf=1, min_samples_split=20; total time=   0.0s\n",
      "[CV] END criterion=entropy, max_depth=50, min_samples_leaf=1, min_samples_split=20; total time=   0.0s\n",
      "[CV] END criterion=entropy, max_depth=50, min_samples_leaf=1, min_samples_split=20; total time=   0.0s\n",
      "[CV] END criterion=entropy, max_depth=50, min_samples_leaf=1, min_samples_split=20; total time=   0.0s\n",
      "[CV] END criterion=entropy, max_depth=50, min_samples_leaf=2, min_samples_split=2; total time=   0.0s\n",
      "[CV] END criterion=entropy, max_depth=50, min_samples_leaf=2, min_samples_split=2; total time=   0.0s\n",
      "[CV] END criterion=entropy, max_depth=50, min_samples_leaf=2, min_samples_split=2; total time=   0.0s\n",
      "[CV] END criterion=entropy, max_depth=50, min_samples_leaf=2, min_samples_split=2; total time=   0.0s\n",
      "[CV] END criterion=entropy, max_depth=50, min_samples_leaf=2, min_samples_split=2; total time=   0.0s\n",
      "[CV] END criterion=entropy, max_depth=50, min_samples_leaf=2, min_samples_split=5; total time=   0.0s\n",
      "[CV] END criterion=entropy, max_depth=50, min_samples_leaf=2, min_samples_split=5; total time=   0.0s\n",
      "[CV] END criterion=entropy, max_depth=50, min_samples_leaf=2, min_samples_split=5; total time=   0.0s\n",
      "[CV] END ................learning_rate=0.01, n_estimators=30; total time=   0.1s\n",
      "[CV] END ...............learning_rate=0.01, n_estimators=100; total time=   0.1s\n",
      "[CV] END ...............learning_rate=0.01, n_estimators=150; total time=   0.1s\n",
      "[CV] END .................learning_rate=0.1, n_estimators=30; total time=   0.8s\n",
      "[CV] END .................learning_rate=0.1, n_estimators=30; total time=   0.7s\n",
      "[CV] END .................learning_rate=0.5, n_estimators=30; total time=   0.7s\n",
      "[CV] END .................learning_rate=0.5, n_estimators=30; total time=   0.7s\n",
      "[CV] END ................learning_rate=0.5, n_estimators=100; total time=   2.2s\n",
      "[CV] END ................learning_rate=0.5, n_estimators=100; total time=   2.1s\n",
      "[CV] END ..................learning_rate=1, n_estimators=150; total time=   2.0s\n",
      "[CV] END ..................learning_rate=1, n_estimators=150; total time=   1.1s\n",
      "[CV] END ..................learning_rate=2, n_estimators=150; total time=   2.3s\n",
      "[CV] END ..................learning_rate=5, n_estimators=150; total time=   2.1s\n",
      "[CV] END criterion=gini, max_depth=None, min_samples_leaf=1, min_samples_split=2; total time=   0.0s\n",
      "[CV] END criterion=gini, max_depth=None, min_samples_leaf=1, min_samples_split=10; total time=   0.0s\n",
      "[CV] END criterion=entropy, max_depth=None, min_samples_leaf=2, min_samples_split=5; total time=   0.0s\n",
      "[CV] END criterion=entropy, max_depth=None, min_samples_leaf=2, min_samples_split=5; total time=   0.0s\n",
      "[CV] END criterion=entropy, max_depth=30, min_samples_leaf=10, min_samples_split=2; total time=   0.0s\n",
      "[CV] END criterion=entropy, max_depth=30, min_samples_leaf=10, min_samples_split=2; total time=   0.0s\n",
      "[CV] END criterion=entropy, max_depth=30, min_samples_leaf=10, min_samples_split=2; total time=   0.0s\n",
      "[CV] END criterion=entropy, max_depth=30, min_samples_leaf=10, min_samples_split=2; total time=   0.1s\n",
      "[CV] END criterion=entropy, max_depth=30, min_samples_leaf=10, min_samples_split=2; total time=   0.1s\n",
      "[CV] END criterion=entropy, max_depth=30, min_samples_leaf=10, min_samples_split=5; total time=   0.0s\n",
      "[CV] END criterion=entropy, max_depth=30, min_samples_leaf=10, min_samples_split=5; total time=   0.0s\n",
      "[CV] END criterion=entropy, max_depth=30, min_samples_leaf=10, min_samples_split=5; total time=   0.0s\n",
      "[CV] END criterion=entropy, max_depth=30, min_samples_leaf=10, min_samples_split=5; total time=   0.0s\n",
      "[CV] END criterion=entropy, max_depth=30, min_samples_leaf=10, min_samples_split=5; total time=   0.0s\n",
      "[CV] END criterion=entropy, max_depth=30, min_samples_leaf=10, min_samples_split=10; total time=   0.0s\n",
      "[CV] END criterion=entropy, max_depth=30, min_samples_leaf=10, min_samples_split=10; total time=   0.0s\n",
      "[CV] END criterion=entropy, max_depth=30, min_samples_leaf=10, min_samples_split=10; total time=   0.0s\n",
      "[CV] END criterion=entropy, max_depth=30, min_samples_leaf=10, min_samples_split=10; total time=   0.0s\n",
      "[CV] END criterion=entropy, max_depth=30, min_samples_leaf=10, min_samples_split=10; total time=   0.0s\n",
      "[CV] END criterion=entropy, max_depth=30, min_samples_leaf=10, min_samples_split=20; total time=   0.0s\n",
      "[CV] END criterion=entropy, max_depth=40, min_samples_leaf=1, min_samples_split=10; total time=   0.0s\n",
      "[CV] END criterion=entropy, max_depth=40, min_samples_leaf=1, min_samples_split=10; total time=   0.0s\n",
      "[CV] END criterion=entropy, max_depth=40, min_samples_leaf=1, min_samples_split=10; total time=   0.0s\n",
      "[CV] END criterion=entropy, max_depth=40, min_samples_leaf=1, min_samples_split=20; total time=   0.0s\n",
      "[CV] END criterion=entropy, max_depth=40, min_samples_leaf=1, min_samples_split=20; total time=   0.0s\n",
      "[CV] END criterion=entropy, max_depth=40, min_samples_leaf=1, min_samples_split=20; total time=   0.0s\n",
      "[CV] END criterion=entropy, max_depth=40, min_samples_leaf=1, min_samples_split=20; total time=   0.0s\n",
      "[CV] END criterion=entropy, max_depth=40, min_samples_leaf=1, min_samples_split=20; total time=   0.0s\n",
      "[CV] END criterion=entropy, max_depth=40, min_samples_leaf=2, min_samples_split=2; total time=   0.0s\n",
      "[CV] END criterion=entropy, max_depth=40, min_samples_leaf=2, min_samples_split=2; total time=   0.0s\n",
      "[CV] END criterion=entropy, max_depth=40, min_samples_leaf=2, min_samples_split=2; total time=   0.0s\n",
      "[CV] END criterion=entropy, max_depth=40, min_samples_leaf=2, min_samples_split=2; total time=   0.0s\n",
      "[CV] END criterion=entropy, max_depth=40, min_samples_leaf=2, min_samples_split=2; total time=   0.0s\n",
      "[CV] END criterion=entropy, max_depth=40, min_samples_leaf=2, min_samples_split=5; total time=   0.0s\n",
      "[CV] END criterion=entropy, max_depth=40, min_samples_leaf=2, min_samples_split=5; total time=   0.0s\n",
      "[CV] END criterion=entropy, max_depth=40, min_samples_leaf=2, min_samples_split=5; total time=   0.0s\n",
      "[CV] END criterion=entropy, max_depth=50, min_samples_leaf=10, min_samples_split=10; total time=   0.0s\n",
      "[CV] END criterion=entropy, max_depth=50, min_samples_leaf=10, min_samples_split=20; total time=   0.0s\n",
      "[CV] END ................learning_rate=0.01, n_estimators=30; total time=   0.2s\n",
      "[CV] END .................learning_rate=0.1, n_estimators=30; total time=   0.7s\n",
      "[CV] END .................learning_rate=0.1, n_estimators=30; total time=   0.7s\n",
      "[CV] END .................learning_rate=0.5, n_estimators=30; total time=   0.7s\n",
      "[CV] END .................learning_rate=0.5, n_estimators=30; total time=   0.7s\n",
      "[CV] END .................learning_rate=0.5, n_estimators=50; total time=   1.1s\n",
      "[CV] END .................learning_rate=0.5, n_estimators=50; total time=   1.1s\n",
      "[CV] END ...................learning_rate=1, n_estimators=30; total time=   0.6s\n",
      "[CV] END ...................learning_rate=1, n_estimators=30; total time=   0.6s\n",
      "[CV] END ...................learning_rate=1, n_estimators=50; total time=   0.3s\n",
      "[CV] END ...................learning_rate=1, n_estimators=50; total time=   0.7s\n",
      "[CV] END ..................learning_rate=1, n_estimators=100; total time=   0.3s\n",
      "[CV] END ..................learning_rate=1, n_estimators=150; total time=   1.3s\n",
      "[CV] END ...................learning_rate=2, n_estimators=30; total time=   0.5s\n",
      "[CV] END ..................learning_rate=2, n_estimators=100; total time=   1.7s\n",
      "[CV] END ...................learning_rate=5, n_estimators=30; total time=   0.6s\n",
      "[CV] END ...................learning_rate=5, n_estimators=50; total time=   0.8s\n",
      "[CV] END ..................learning_rate=5, n_estimators=100; total time=   1.5s\n",
      "[CV] END criterion=gini, max_depth=None, min_samples_leaf=5, min_samples_split=2; total time=   0.0s\n",
      "[CV] END criterion=gini, max_depth=None, min_samples_leaf=5, min_samples_split=2; total time=   0.0s\n",
      "[CV] END criterion=gini, max_depth=None, min_samples_leaf=5, min_samples_split=10; total time=   0.0s\n",
      "[CV] END criterion=gini, max_depth=None, min_samples_leaf=5, min_samples_split=20; total time=   0.0s\n",
      "[CV] END criterion=gini, max_depth=None, min_samples_leaf=10, min_samples_split=10; total time=   0.0s\n",
      "[CV] END criterion=gini, max_depth=None, min_samples_leaf=10, min_samples_split=10; total time=   0.0s\n",
      "[CV] END criterion=gini, max_depth=None, min_samples_leaf=10, min_samples_split=10; total time=   0.0s\n",
      "[CV] END criterion=gini, max_depth=None, min_samples_leaf=10, min_samples_split=20; total time=   0.0s\n",
      "[CV] END criterion=gini, max_depth=10, min_samples_leaf=2, min_samples_split=2; total time=   0.0s\n",
      "[CV] END criterion=gini, max_depth=10, min_samples_leaf=2, min_samples_split=2; total time=   0.0s\n",
      "[CV] END criterion=gini, max_depth=10, min_samples_leaf=2, min_samples_split=2; total time=   0.0s\n",
      "[CV] END criterion=gini, max_depth=10, min_samples_leaf=2, min_samples_split=2; total time=   0.0s\n",
      "[CV] END criterion=gini, max_depth=10, min_samples_leaf=5, min_samples_split=20; total time=   0.0s\n",
      "[CV] END criterion=gini, max_depth=10, min_samples_leaf=5, min_samples_split=20; total time=   0.0s\n",
      "[CV] END criterion=gini, max_depth=10, min_samples_leaf=5, min_samples_split=20; total time=   0.0s\n",
      "[CV] END criterion=gini, max_depth=10, min_samples_leaf=5, min_samples_split=20; total time=   0.0s\n",
      "[CV] END criterion=gini, max_depth=20, min_samples_leaf=2, min_samples_split=2; total time=   0.0s\n",
      "[CV] END criterion=gini, max_depth=20, min_samples_leaf=2, min_samples_split=2; total time=   0.0s\n",
      "[CV] END criterion=gini, max_depth=20, min_samples_leaf=2, min_samples_split=2; total time=   0.0s\n",
      "[CV] END criterion=gini, max_depth=20, min_samples_leaf=2, min_samples_split=2; total time=   0.0s\n",
      "[CV] END criterion=gini, max_depth=20, min_samples_leaf=2, min_samples_split=2; total time=   0.0s\n",
      "[CV] END criterion=gini, max_depth=20, min_samples_leaf=2, min_samples_split=5; total time=   0.0s\n",
      "[CV] END criterion=gini, max_depth=20, min_samples_leaf=2, min_samples_split=5; total time=   0.0s\n",
      "[CV] END criterion=gini, max_depth=20, min_samples_leaf=2, min_samples_split=5; total time=   0.0s\n",
      "[CV] END criterion=gini, max_depth=30, min_samples_leaf=10, min_samples_split=2; total time=   0.0s\n",
      "[CV] END criterion=gini, max_depth=30, min_samples_leaf=10, min_samples_split=2; total time=   0.0s\n",
      "[CV] END criterion=gini, max_depth=30, min_samples_leaf=10, min_samples_split=2; total time=   0.0s\n",
      "[CV] END criterion=gini, max_depth=30, min_samples_leaf=10, min_samples_split=2; total time=   0.0s\n",
      "[CV] END criterion=gini, max_depth=30, min_samples_leaf=10, min_samples_split=2; total time=   0.0s\n",
      "[CV] END criterion=gini, max_depth=30, min_samples_leaf=10, min_samples_split=5; total time=   0.0s\n",
      "[CV] END criterion=gini, max_depth=30, min_samples_leaf=10, min_samples_split=5; total time=   0.0s\n",
      "[CV] END criterion=gini, max_depth=30, min_samples_leaf=10, min_samples_split=5; total time=   0.0s\n",
      "[CV] END criterion=gini, max_depth=30, min_samples_leaf=10, min_samples_split=5; total time=   0.0s\n",
      "[CV] END criterion=gini, max_depth=30, min_samples_leaf=10, min_samples_split=5; total time=   0.1s\n",
      "[CV] END criterion=gini, max_depth=30, min_samples_leaf=10, min_samples_split=10; total time=   0.0s\n",
      "[CV] END criterion=gini, max_depth=30, min_samples_leaf=10, min_samples_split=10; total time=   0.0s\n",
      "[CV] END criterion=gini, max_depth=30, min_samples_leaf=10, min_samples_split=10; total time=   0.0s\n",
      "[CV] END criterion=gini, max_depth=30, min_samples_leaf=10, min_samples_split=10; total time=   0.0s\n",
      "[CV] END criterion=gini, max_depth=30, min_samples_leaf=10, min_samples_split=10; total time=   0.0s\n",
      "[CV] END criterion=gini, max_depth=30, min_samples_leaf=10, min_samples_split=20; total time=   0.0s\n",
      "[CV] END criterion=gini, max_depth=50, min_samples_leaf=10, min_samples_split=2; total time=   0.0s\n",
      "[CV] END criterion=gini, max_depth=50, min_samples_leaf=10, min_samples_split=2; total time=   0.0s\n",
      "[CV] END criterion=gini, max_depth=50, min_samples_leaf=10, min_samples_split=2; total time=   0.0s\n",
      "[CV] END criterion=gini, max_depth=50, min_samples_leaf=10, min_samples_split=2; total time=   0.0s\n",
      "[CV] END criterion=gini, max_depth=50, min_samples_leaf=10, min_samples_split=2; total time=   0.0s\n",
      "[CV] END criterion=gini, max_depth=50, min_samples_leaf=10, min_samples_split=5; total time=   0.0s\n",
      "[CV] END criterion=gini, max_depth=50, min_samples_leaf=10, min_samples_split=5; total time=   0.0s\n",
      "[CV] END criterion=gini, max_depth=50, min_samples_leaf=10, min_samples_split=5; total time=   0.0s\n",
      "[CV] END criterion=gini, max_depth=50, min_samples_leaf=10, min_samples_split=5; total time=   0.0s\n",
      "[CV] END criterion=gini, max_depth=50, min_samples_leaf=10, min_samples_split=5; total time=   0.0s\n",
      "[CV] END criterion=gini, max_depth=50, min_samples_leaf=10, min_samples_split=10; total time=   0.0s\n",
      "[CV] END criterion=gini, max_depth=50, min_samples_leaf=10, min_samples_split=10; total time=   0.0s\n",
      "[CV] END criterion=gini, max_depth=50, min_samples_leaf=10, min_samples_split=10; total time=   0.0s\n",
      "[CV] END criterion=gini, max_depth=50, min_samples_leaf=10, min_samples_split=10; total time=   0.0s\n",
      "[CV] END criterion=gini, max_depth=50, min_samples_leaf=10, min_samples_split=10; total time=   0.0s\n",
      "[CV] END criterion=gini, max_depth=50, min_samples_leaf=10, min_samples_split=20; total time=   0.0s\n",
      "[CV] END criterion=entropy, max_depth=None, min_samples_leaf=5, min_samples_split=2; total time=   0.0s\n",
      "[CV] END criterion=entropy, max_depth=None, min_samples_leaf=5, min_samples_split=5; total time=   0.0s\n",
      "[CV] END criterion=entropy, max_depth=None, min_samples_leaf=5, min_samples_split=5; total time=   0.0s\n",
      "[CV] END criterion=entropy, max_depth=None, min_samples_leaf=5, min_samples_split=5; total time=   0.0s\n",
      "[CV] END criterion=entropy, max_depth=None, min_samples_leaf=5, min_samples_split=5; total time=   0.0s\n",
      "[CV] END criterion=entropy, max_depth=None, min_samples_leaf=5, min_samples_split=5; total time=   0.0s\n",
      "[CV] END criterion=entropy, max_depth=None, min_samples_leaf=5, min_samples_split=10; total time=   0.0s\n",
      "[CV] END criterion=entropy, max_depth=None, min_samples_leaf=5, min_samples_split=10; total time=   0.0s\n",
      "[CV] END criterion=entropy, max_depth=None, min_samples_leaf=5, min_samples_split=10; total time=   0.0s\n",
      "[CV] END criterion=entropy, max_depth=None, min_samples_leaf=5, min_samples_split=10; total time=   0.0s\n",
      "[CV] END criterion=entropy, max_depth=None, min_samples_leaf=5, min_samples_split=10; total time=   0.0s\n",
      "[CV] END criterion=entropy, max_depth=None, min_samples_leaf=5, min_samples_split=20; total time=   0.0s\n",
      "[CV] END criterion=entropy, max_depth=None, min_samples_leaf=5, min_samples_split=20; total time=   0.0s\n",
      "[CV] END criterion=entropy, max_depth=None, min_samples_leaf=5, min_samples_split=20; total time=   0.0s\n",
      "[CV] END criterion=entropy, max_depth=None, min_samples_leaf=5, min_samples_split=20; total time=   0.0s\n",
      "[CV] END criterion=entropy, max_depth=None, min_samples_leaf=5, min_samples_split=20; total time=   0.0s\n",
      "[CV] END criterion=entropy, max_depth=20, min_samples_leaf=2, min_samples_split=5; total time=   0.0s\n",
      "[CV] END criterion=entropy, max_depth=20, min_samples_leaf=2, min_samples_split=5; total time=   0.0s\n",
      "[CV] END criterion=entropy, max_depth=20, min_samples_leaf=2, min_samples_split=10; total time=   0.0s\n",
      "[CV] END criterion=entropy, max_depth=20, min_samples_leaf=2, min_samples_split=10; total time=   0.0s\n",
      "[CV] END criterion=entropy, max_depth=20, min_samples_leaf=2, min_samples_split=10; total time=   0.0s\n",
      "[CV] END criterion=entropy, max_depth=20, min_samples_leaf=2, min_samples_split=10; total time=   0.0s\n",
      "[CV] END criterion=entropy, max_depth=20, min_samples_leaf=2, min_samples_split=10; total time=   0.0s\n",
      "[CV] END criterion=entropy, max_depth=20, min_samples_leaf=2, min_samples_split=20; total time=   0.0s\n",
      "[CV] END criterion=entropy, max_depth=20, min_samples_leaf=2, min_samples_split=20; total time=   0.0s\n",
      "[CV] END criterion=entropy, max_depth=20, min_samples_leaf=2, min_samples_split=20; total time=   0.0s\n",
      "[CV] END criterion=entropy, max_depth=20, min_samples_leaf=2, min_samples_split=20; total time=   0.0s\n",
      "[CV] END criterion=entropy, max_depth=20, min_samples_leaf=2, min_samples_split=20; total time=   0.0s\n",
      "[CV] END criterion=entropy, max_depth=20, min_samples_leaf=5, min_samples_split=2; total time=   0.0s\n",
      "[CV] END criterion=entropy, max_depth=20, min_samples_leaf=5, min_samples_split=2; total time=   0.0s\n",
      "[CV] END criterion=entropy, max_depth=20, min_samples_leaf=5, min_samples_split=2; total time=   0.0s\n",
      "[CV] END criterion=entropy, max_depth=20, min_samples_leaf=5, min_samples_split=2; total time=   0.0s\n",
      "[CV] END criterion=entropy, max_depth=40, min_samples_leaf=5, min_samples_split=2; total time=   0.0s\n",
      "[CV] END criterion=entropy, max_depth=40, min_samples_leaf=5, min_samples_split=5; total time=   0.0s\n",
      "[CV] END criterion=entropy, max_depth=40, min_samples_leaf=5, min_samples_split=5; total time=   0.0s\n",
      "[CV] END criterion=entropy, max_depth=40, min_samples_leaf=5, min_samples_split=5; total time=   0.0s\n",
      "[CV] END criterion=entropy, max_depth=40, min_samples_leaf=5, min_samples_split=5; total time=   0.0s\n",
      "[CV] END criterion=entropy, max_depth=40, min_samples_leaf=5, min_samples_split=5; total time=   0.0s\n",
      "[CV] END criterion=entropy, max_depth=40, min_samples_leaf=5, min_samples_split=10; total time=   0.0s\n",
      "[CV] END criterion=entropy, max_depth=40, min_samples_leaf=5, min_samples_split=10; total time=   0.0s\n",
      "[CV] END criterion=entropy, max_depth=40, min_samples_leaf=5, min_samples_split=10; total time=   0.0s\n",
      "[CV] END criterion=entropy, max_depth=40, min_samples_leaf=5, min_samples_split=10; total time=   0.0s\n",
      "[CV] END criterion=entropy, max_depth=40, min_samples_leaf=5, min_samples_split=10; total time=   0.0s\n",
      "[CV] END criterion=entropy, max_depth=40, min_samples_leaf=5, min_samples_split=20; total time=   0.0s\n",
      "[CV] END criterion=entropy, max_depth=40, min_samples_leaf=5, min_samples_split=20; total time=   0.0s\n",
      "[CV] END criterion=entropy, max_depth=40, min_samples_leaf=5, min_samples_split=20; total time=   0.0s\n",
      "[CV] END criterion=entropy, max_depth=40, min_samples_leaf=5, min_samples_split=20; total time=   0.0s\n",
      "[CV] END criterion=entropy, max_depth=40, min_samples_leaf=5, min_samples_split=20; total time=   0.0s\n",
      "[CV] END ................learning_rate=0.01, n_estimators=50; total time=   0.0s\n",
      "[CV] END ...............learning_rate=0.01, n_estimators=100; total time=   0.3s\n",
      "[CV] END ................learning_rate=0.1, n_estimators=100; total time=   2.4s\n",
      "[CV] END ................learning_rate=0.1, n_estimators=100; total time=   0.2s\n",
      "[CV] END .................learning_rate=0.5, n_estimators=50; total time=   1.2s\n",
      "[CV] END .................learning_rate=0.5, n_estimators=50; total time=   0.0s\n",
      "[CV] END ................learning_rate=0.5, n_estimators=150; total time=   3.5s\n",
      "[CV] END criterion=entropy, max_depth=10, min_samples_leaf=10, min_samples_split=10; total time=   0.0s\n",
      "[CV] END criterion=entropy, max_depth=10, min_samples_leaf=10, min_samples_split=10; total time=   0.0s\n",
      "[CV] END criterion=entropy, max_depth=10, min_samples_leaf=10, min_samples_split=10; total time=   0.0s\n",
      "[CV] END criterion=entropy, max_depth=10, min_samples_leaf=10, min_samples_split=10; total time=   0.0s\n",
      "[CV] END criterion=entropy, max_depth=10, min_samples_leaf=10, min_samples_split=10; total time=   0.0s\n",
      "[CV] END criterion=entropy, max_depth=10, min_samples_leaf=10, min_samples_split=20; total time=   0.0s\n",
      "[CV] END criterion=entropy, max_depth=30, min_samples_leaf=1, min_samples_split=10; total time=   0.0s\n",
      "[CV] END criterion=entropy, max_depth=30, min_samples_leaf=1, min_samples_split=10; total time=   0.1s\n",
      "[CV] END criterion=entropy, max_depth=30, min_samples_leaf=1, min_samples_split=10; total time=   0.1s\n",
      "[CV] END criterion=entropy, max_depth=30, min_samples_leaf=1, min_samples_split=20; total time=   0.0s\n",
      "[CV] END criterion=entropy, max_depth=30, min_samples_leaf=1, min_samples_split=20; total time=   0.0s\n",
      "[CV] END criterion=entropy, max_depth=30, min_samples_leaf=1, min_samples_split=20; total time=   0.0s\n",
      "[CV] END criterion=entropy, max_depth=30, min_samples_leaf=1, min_samples_split=20; total time=   0.0s\n",
      "[CV] END criterion=entropy, max_depth=30, min_samples_leaf=1, min_samples_split=20; total time=   0.0s\n",
      "[CV] END criterion=entropy, max_depth=30, min_samples_leaf=2, min_samples_split=2; total time=   0.0s\n",
      "[CV] END criterion=entropy, max_depth=30, min_samples_leaf=2, min_samples_split=2; total time=   0.0s\n",
      "[CV] END criterion=entropy, max_depth=30, min_samples_leaf=2, min_samples_split=2; total time=   0.0s\n",
      "[CV] END criterion=entropy, max_depth=30, min_samples_leaf=2, min_samples_split=2; total time=   0.0s\n",
      "[CV] END criterion=entropy, max_depth=30, min_samples_leaf=2, min_samples_split=2; total time=   0.0s\n",
      "[CV] END criterion=entropy, max_depth=30, min_samples_leaf=2, min_samples_split=5; total time=   0.0s\n",
      "[CV] END criterion=entropy, max_depth=30, min_samples_leaf=2, min_samples_split=5; total time=   0.0s\n",
      "[CV] END criterion=entropy, max_depth=30, min_samples_leaf=2, min_samples_split=5; total time=   0.0s\n",
      "[CV] END criterion=entropy, max_depth=50, min_samples_leaf=5, min_samples_split=2; total time=   0.0s\n",
      "[CV] END criterion=entropy, max_depth=50, min_samples_leaf=5, min_samples_split=5; total time=   0.0s\n",
      "[CV] END criterion=entropy, max_depth=50, min_samples_leaf=5, min_samples_split=5; total time=   0.0s\n",
      "[CV] END criterion=entropy, max_depth=50, min_samples_leaf=5, min_samples_split=5; total time=   0.0s\n",
      "[CV] END criterion=entropy, max_depth=50, min_samples_leaf=5, min_samples_split=5; total time=   0.0s\n",
      "[CV] END criterion=entropy, max_depth=50, min_samples_leaf=5, min_samples_split=5; total time=   0.0s\n",
      "[CV] END criterion=entropy, max_depth=50, min_samples_leaf=5, min_samples_split=10; total time=   0.0s\n",
      "[CV] END criterion=entropy, max_depth=50, min_samples_leaf=5, min_samples_split=10; total time=   0.0s\n",
      "[CV] END criterion=entropy, max_depth=50, min_samples_leaf=5, min_samples_split=10; total time=   0.0s\n",
      "[CV] END criterion=entropy, max_depth=50, min_samples_leaf=5, min_samples_split=10; total time=   0.0s\n",
      "[CV] END criterion=entropy, max_depth=50, min_samples_leaf=5, min_samples_split=10; total time=   0.0s\n",
      "[CV] END criterion=entropy, max_depth=50, min_samples_leaf=5, min_samples_split=20; total time=   0.0s\n",
      "[CV] END criterion=entropy, max_depth=50, min_samples_leaf=5, min_samples_split=20; total time=   0.0s\n",
      "[CV] END criterion=entropy, max_depth=50, min_samples_leaf=5, min_samples_split=20; total time=   0.0s\n",
      "[CV] END criterion=entropy, max_depth=50, min_samples_leaf=5, min_samples_split=20; total time=   0.0s\n",
      "[CV] END criterion=entropy, max_depth=50, min_samples_leaf=5, min_samples_split=20; total time=   0.0s\n",
      "[CV] END ................learning_rate=0.01, n_estimators=50; total time=   1.0s\n",
      "[CV] END ................learning_rate=0.1, n_estimators=100; total time=   2.4s\n",
      "[CV] END ................learning_rate=0.1, n_estimators=150; total time=   3.8s\n",
      "[CV] END ..................learning_rate=1, n_estimators=100; total time=   1.9s\n",
      "[CV] END ..................learning_rate=1, n_estimators=100; total time=   1.9s\n",
      "[CV] END ..................learning_rate=2, n_estimators=150; total time=   2.6s\n",
      "[CV] END criterion=gini, max_depth=None, min_samples_leaf=1, min_samples_split=2; total time=   0.0s\n",
      "[CV] END criterion=gini, max_depth=None, min_samples_leaf=1, min_samples_split=5; total time=   0.0s\n",
      "[CV] END criterion=gini, max_depth=None, min_samples_leaf=1, min_samples_split=10; total time=   0.0s\n",
      "[CV] END criterion=gini, max_depth=None, min_samples_leaf=2, min_samples_split=2; total time=   0.0s\n",
      "[CV] END criterion=gini, max_depth=None, min_samples_leaf=2, min_samples_split=5; total time=   0.0s\n",
      "[CV] END criterion=gini, max_depth=None, min_samples_leaf=5, min_samples_split=2; total time=   0.0s\n",
      "[CV] END criterion=gini, max_depth=None, min_samples_leaf=5, min_samples_split=2; total time=   0.0s\n",
      "[CV] END criterion=gini, max_depth=None, min_samples_leaf=5, min_samples_split=5; total time=   0.0s\n",
      "[CV] END criterion=gini, max_depth=None, min_samples_leaf=5, min_samples_split=5; total time=   0.0s\n",
      "[CV] END criterion=gini, max_depth=10, min_samples_leaf=1, min_samples_split=10; total time=   0.0s\n",
      "[CV] END criterion=gini, max_depth=10, min_samples_leaf=1, min_samples_split=10; total time=   0.0s\n",
      "[CV] END criterion=gini, max_depth=10, min_samples_leaf=1, min_samples_split=10; total time=   0.0s\n",
      "[CV] END criterion=gini, max_depth=10, min_samples_leaf=1, min_samples_split=20; total time=   0.0s\n",
      "[CV] END criterion=gini, max_depth=10, min_samples_leaf=10, min_samples_split=2; total time=   0.0s\n",
      "[CV] END criterion=gini, max_depth=10, min_samples_leaf=10, min_samples_split=2; total time=   0.0s\n",
      "[CV] END criterion=gini, max_depth=10, min_samples_leaf=10, min_samples_split=2; total time=   0.0s\n",
      "[CV] END criterion=gini, max_depth=10, min_samples_leaf=10, min_samples_split=2; total time=   0.0s\n",
      "[CV] END criterion=gini, max_depth=10, min_samples_leaf=10, min_samples_split=2; total time=   0.0s\n",
      "[CV] END criterion=gini, max_depth=10, min_samples_leaf=10, min_samples_split=5; total time=   0.0s\n",
      "[CV] END criterion=gini, max_depth=10, min_samples_leaf=10, min_samples_split=5; total time=   0.0s\n",
      "[CV] END criterion=gini, max_depth=10, min_samples_leaf=10, min_samples_split=5; total time=   0.0s\n",
      "[CV] END criterion=gini, max_depth=20, min_samples_leaf=10, min_samples_split=5; total time=   0.0s\n",
      "[CV] END criterion=gini, max_depth=20, min_samples_leaf=10, min_samples_split=5; total time=   0.0s\n",
      "[CV] END criterion=gini, max_depth=20, min_samples_leaf=10, min_samples_split=10; total time=   0.0s\n",
      "[CV] END criterion=gini, max_depth=20, min_samples_leaf=10, min_samples_split=10; total time=   0.0s\n",
      "[CV] END criterion=gini, max_depth=20, min_samples_leaf=10, min_samples_split=10; total time=   0.0s\n",
      "[CV] END criterion=gini, max_depth=20, min_samples_leaf=10, min_samples_split=10; total time=   0.0s\n",
      "[CV] END criterion=gini, max_depth=20, min_samples_leaf=10, min_samples_split=10; total time=   0.0s\n",
      "[CV] END criterion=gini, max_depth=20, min_samples_leaf=10, min_samples_split=20; total time=   0.0s\n",
      "[CV] END criterion=gini, max_depth=30, min_samples_leaf=5, min_samples_split=2; total time=   0.0s\n",
      "[CV] END criterion=gini, max_depth=30, min_samples_leaf=5, min_samples_split=5; total time=   0.0s\n",
      "[CV] END criterion=gini, max_depth=30, min_samples_leaf=5, min_samples_split=5; total time=   0.0s\n",
      "[CV] END criterion=gini, max_depth=30, min_samples_leaf=5, min_samples_split=5; total time=   0.0s\n",
      "[CV] END criterion=gini, max_depth=30, min_samples_leaf=5, min_samples_split=5; total time=   0.0s\n",
      "[CV] END criterion=gini, max_depth=30, min_samples_leaf=5, min_samples_split=5; total time=   0.0s\n",
      "[CV] END criterion=gini, max_depth=30, min_samples_leaf=5, min_samples_split=10; total time=   0.0s\n",
      "[CV] END criterion=gini, max_depth=30, min_samples_leaf=5, min_samples_split=10; total time=   0.1s\n",
      "[CV] END criterion=gini, max_depth=40, min_samples_leaf=10, min_samples_split=2; total time=   0.0s\n",
      "[CV] END criterion=gini, max_depth=40, min_samples_leaf=10, min_samples_split=2; total time=   0.0s\n",
      "[CV] END criterion=gini, max_depth=40, min_samples_leaf=10, min_samples_split=2; total time=   0.0s\n",
      "[CV] END criterion=gini, max_depth=40, min_samples_leaf=10, min_samples_split=2; total time=   0.0s\n",
      "[CV] END criterion=gini, max_depth=40, min_samples_leaf=10, min_samples_split=2; total time=   0.0s\n",
      "[CV] END criterion=gini, max_depth=40, min_samples_leaf=10, min_samples_split=5; total time=   0.0s\n",
      "[CV] END criterion=gini, max_depth=40, min_samples_leaf=10, min_samples_split=5; total time=   0.0s\n",
      "[CV] END criterion=gini, max_depth=40, min_samples_leaf=10, min_samples_split=5; total time=   0.0s\n",
      "[CV] END criterion=gini, max_depth=40, min_samples_leaf=10, min_samples_split=5; total time=   0.0s\n",
      "[CV] END criterion=gini, max_depth=40, min_samples_leaf=10, min_samples_split=5; total time=   0.0s\n",
      "[CV] END criterion=gini, max_depth=40, min_samples_leaf=10, min_samples_split=10; total time=   0.0s\n",
      "[CV] END criterion=gini, max_depth=40, min_samples_leaf=10, min_samples_split=10; total time=   0.0s\n",
      "[CV] END criterion=gini, max_depth=40, min_samples_leaf=10, min_samples_split=10; total time=   0.0s\n",
      "[CV] END criterion=gini, max_depth=40, min_samples_leaf=10, min_samples_split=10; total time=   0.0s\n",
      "[CV] END criterion=gini, max_depth=40, min_samples_leaf=10, min_samples_split=10; total time=   0.0s\n",
      "[CV] END criterion=gini, max_depth=40, min_samples_leaf=10, min_samples_split=20; total time=   0.0s\n",
      "[CV] END criterion=gini, max_depth=50, min_samples_leaf=10, min_samples_split=20; total time=   0.0s\n",
      "[CV] END criterion=gini, max_depth=50, min_samples_leaf=10, min_samples_split=20; total time=   0.0s\n",
      "[CV] END criterion=gini, max_depth=50, min_samples_leaf=10, min_samples_split=20; total time=   0.0s\n",
      "[CV] END criterion=gini, max_depth=50, min_samples_leaf=10, min_samples_split=20; total time=   0.0s\n",
      "[CV] END criterion=entropy, max_depth=None, min_samples_leaf=1, min_samples_split=2; total time=   0.0s\n",
      "[CV] END criterion=entropy, max_depth=None, min_samples_leaf=1, min_samples_split=2; total time=   0.0s\n",
      "[CV] END criterion=entropy, max_depth=None, min_samples_leaf=1, min_samples_split=2; total time=   0.0s\n",
      "[CV] END criterion=entropy, max_depth=None, min_samples_leaf=1, min_samples_split=2; total time=   0.0s\n",
      "[CV] END criterion=entropy, max_depth=None, min_samples_leaf=1, min_samples_split=2; total time=   0.0s\n",
      "[CV] END criterion=entropy, max_depth=None, min_samples_leaf=1, min_samples_split=5; total time=   0.0s\n",
      "[CV] END criterion=entropy, max_depth=None, min_samples_leaf=1, min_samples_split=5; total time=   0.0s\n",
      "[CV] END criterion=entropy, max_depth=None, min_samples_leaf=1, min_samples_split=5; total time=   0.0s\n",
      "[CV] END criterion=entropy, max_depth=None, min_samples_leaf=1, min_samples_split=5; total time=   0.0s\n",
      "[CV] END criterion=entropy, max_depth=None, min_samples_leaf=1, min_samples_split=5; total time=   0.0s\n",
      "[CV] END criterion=entropy, max_depth=None, min_samples_leaf=1, min_samples_split=10; total time=   0.0s\n",
      "[CV] END criterion=entropy, max_depth=None, min_samples_leaf=1, min_samples_split=10; total time=   0.0s\n",
      "[CV] END criterion=entropy, max_depth=10, min_samples_leaf=10, min_samples_split=20; total time=   0.0s\n",
      "[CV] END criterion=entropy, max_depth=10, min_samples_leaf=10, min_samples_split=20; total time=   0.0s\n",
      "[CV] END criterion=entropy, max_depth=10, min_samples_leaf=10, min_samples_split=20; total time=   0.0s\n",
      "[CV] END criterion=entropy, max_depth=10, min_samples_leaf=10, min_samples_split=20; total time=   0.0s\n",
      "[CV] END criterion=entropy, max_depth=20, min_samples_leaf=1, min_samples_split=2; total time=   0.0s\n",
      "[CV] END criterion=entropy, max_depth=20, min_samples_leaf=1, min_samples_split=2; total time=   0.0s\n",
      "[CV] END criterion=entropy, max_depth=20, min_samples_leaf=1, min_samples_split=2; total time=   0.0s\n",
      "[CV] END criterion=entropy, max_depth=20, min_samples_leaf=1, min_samples_split=2; total time=   0.0s\n",
      "[CV] END criterion=entropy, max_depth=20, min_samples_leaf=1, min_samples_split=2; total time=   0.0s\n",
      "[CV] END criterion=entropy, max_depth=20, min_samples_leaf=1, min_samples_split=5; total time=   0.0s\n",
      "[CV] END criterion=entropy, max_depth=20, min_samples_leaf=1, min_samples_split=5; total time=   0.0s\n",
      "[CV] END criterion=entropy, max_depth=20, min_samples_leaf=1, min_samples_split=5; total time=   0.0s\n",
      "[CV] END criterion=entropy, max_depth=20, min_samples_leaf=1, min_samples_split=5; total time=   0.0s\n",
      "[CV] END criterion=entropy, max_depth=20, min_samples_leaf=1, min_samples_split=5; total time=   0.0s\n",
      "[CV] END criterion=entropy, max_depth=20, min_samples_leaf=1, min_samples_split=10; total time=   0.0s\n",
      "[CV] END criterion=entropy, max_depth=20, min_samples_leaf=1, min_samples_split=10; total time=   0.0s\n",
      "[CV] END criterion=entropy, max_depth=40, min_samples_leaf=10, min_samples_split=2; total time=   0.0s\n",
      "[CV] END criterion=entropy, max_depth=40, min_samples_leaf=10, min_samples_split=2; total time=   0.0s\n",
      "[CV] END criterion=entropy, max_depth=40, min_samples_leaf=10, min_samples_split=2; total time=   0.0s\n",
      "[CV] END criterion=entropy, max_depth=40, min_samples_leaf=10, min_samples_split=2; total time=   0.0s\n",
      "[CV] END criterion=entropy, max_depth=40, min_samples_leaf=10, min_samples_split=2; total time=   0.0s\n",
      "[CV] END criterion=entropy, max_depth=40, min_samples_leaf=10, min_samples_split=5; total time=   0.0s\n",
      "[CV] END criterion=entropy, max_depth=40, min_samples_leaf=10, min_samples_split=5; total time=   0.0s\n",
      "[CV] END criterion=entropy, max_depth=40, min_samples_leaf=10, min_samples_split=5; total time=   0.0s\n",
      "[CV] END criterion=entropy, max_depth=40, min_samples_leaf=10, min_samples_split=5; total time=   0.0s\n",
      "[CV] END criterion=entropy, max_depth=40, min_samples_leaf=10, min_samples_split=5; total time=   0.0s\n",
      "[CV] END criterion=entropy, max_depth=40, min_samples_leaf=10, min_samples_split=10; total time=   0.0s\n",
      "[CV] END criterion=entropy, max_depth=40, min_samples_leaf=10, min_samples_split=10; total time=   0.0s\n",
      "[CV] END criterion=entropy, max_depth=40, min_samples_leaf=10, min_samples_split=10; total time=   0.0s\n",
      "[CV] END criterion=entropy, max_depth=40, min_samples_leaf=10, min_samples_split=10; total time=   0.0s\n",
      "[CV] END criterion=entropy, max_depth=40, min_samples_leaf=10, min_samples_split=10; total time=   0.0s\n",
      "[CV] END criterion=entropy, max_depth=40, min_samples_leaf=10, min_samples_split=20; total time=   0.0s\n",
      "[CV] END criterion=entropy, max_depth=50, min_samples_leaf=10, min_samples_split=5; total time=   0.0s\n",
      "[CV] END criterion=entropy, max_depth=50, min_samples_leaf=10, min_samples_split=5; total time=   0.0s\n",
      "[CV] END criterion=entropy, max_depth=50, min_samples_leaf=10, min_samples_split=10; total time=   0.0s\n",
      "[CV] END criterion=entropy, max_depth=50, min_samples_leaf=10, min_samples_split=10; total time=   0.0s\n",
      "[CV] END criterion=entropy, max_depth=50, min_samples_leaf=10, min_samples_split=20; total time=   0.0s\n",
      "[CV] END criterion=entropy, max_depth=50, min_samples_leaf=10, min_samples_split=20; total time=   0.0s\n",
      "[CV] END ................learning_rate=0.01, n_estimators=30; total time=   0.3s\n",
      "[CV] END ...............learning_rate=0.01, n_estimators=150; total time=   0.1s\n",
      "[CV] END .................learning_rate=0.1, n_estimators=50; total time=   1.1s\n",
      "[CV] END .................learning_rate=0.1, n_estimators=50; total time=   1.2s\n",
      "[CV] END .................learning_rate=0.5, n_estimators=50; total time=   1.1s\n",
      "[CV] END .................learning_rate=0.5, n_estimators=50; total time=   1.2s\n",
      "[CV] END ...................learning_rate=1, n_estimators=30; total time=   0.3s\n",
      "[CV] END ...................learning_rate=1, n_estimators=30; total time=   0.1s\n",
      "[CV] END ...................learning_rate=1, n_estimators=30; total time=   0.4s\n",
      "[CV] END ...................learning_rate=1, n_estimators=30; total time=   0.6s\n",
      "[CV] END ...................learning_rate=1, n_estimators=50; total time=   0.9s\n",
      "[CV] END ...................learning_rate=1, n_estimators=50; total time=   0.7s\n",
      "[CV] END criterion=entropy, max_depth=10, min_samples_leaf=1, min_samples_split=2; total time=   0.0s\n",
      "[CV] END criterion=entropy, max_depth=10, min_samples_leaf=1, min_samples_split=2; total time=   0.0s\n",
      "[CV] END criterion=entropy, max_depth=10, min_samples_leaf=1, min_samples_split=2; total time=   0.0s\n",
      "[CV] END criterion=entropy, max_depth=10, min_samples_leaf=1, min_samples_split=2; total time=   0.0s\n",
      "[CV] END criterion=entropy, max_depth=10, min_samples_leaf=1, min_samples_split=2; total time=   0.0s\n",
      "[CV] END criterion=entropy, max_depth=10, min_samples_leaf=1, min_samples_split=5; total time=   0.0s\n",
      "[CV] END criterion=entropy, max_depth=10, min_samples_leaf=1, min_samples_split=5; total time=   0.0s\n",
      "[CV] END criterion=entropy, max_depth=10, min_samples_leaf=1, min_samples_split=5; total time=   0.0s\n",
      "[CV] END criterion=entropy, max_depth=10, min_samples_leaf=1, min_samples_split=5; total time=   0.0s\n",
      "[CV] END criterion=entropy, max_depth=10, min_samples_leaf=1, min_samples_split=5; total time=   0.0s\n",
      "[CV] END criterion=entropy, max_depth=10, min_samples_leaf=1, min_samples_split=10; total time=   0.0s\n",
      "[CV] END criterion=entropy, max_depth=10, min_samples_leaf=1, min_samples_split=10; total time=   0.0s\n",
      "[CV] END criterion=entropy, max_depth=20, min_samples_leaf=10, min_samples_split=2; total time=   0.0s\n",
      "[CV] END criterion=entropy, max_depth=20, min_samples_leaf=10, min_samples_split=2; total time=   0.0s\n",
      "[CV] END criterion=entropy, max_depth=20, min_samples_leaf=10, min_samples_split=2; total time=   0.0s\n",
      "[CV] END criterion=entropy, max_depth=20, min_samples_leaf=10, min_samples_split=2; total time=   0.0s\n",
      "[CV] END criterion=entropy, max_depth=20, min_samples_leaf=10, min_samples_split=2; total time=   0.0s\n",
      "[CV] END criterion=entropy, max_depth=20, min_samples_leaf=10, min_samples_split=5; total time=   0.1s\n",
      "[CV] END criterion=entropy, max_depth=20, min_samples_leaf=10, min_samples_split=5; total time=   0.0s\n",
      "[CV] END criterion=entropy, max_depth=20, min_samples_leaf=10, min_samples_split=5; total time=   0.0s\n",
      "[CV] END criterion=entropy, max_depth=20, min_samples_leaf=10, min_samples_split=5; total time=   0.0s\n",
      "[CV] END criterion=entropy, max_depth=20, min_samples_leaf=10, min_samples_split=5; total time=   0.0s\n",
      "[CV] END criterion=entropy, max_depth=20, min_samples_leaf=10, min_samples_split=10; total time=   0.0s\n",
      "[CV] END criterion=entropy, max_depth=20, min_samples_leaf=10, min_samples_split=10; total time=   0.0s\n",
      "[CV] END criterion=entropy, max_depth=20, min_samples_leaf=10, min_samples_split=10; total time=   0.0s\n",
      "[CV] END criterion=entropy, max_depth=20, min_samples_leaf=10, min_samples_split=10; total time=   0.0s\n",
      "[CV] END criterion=entropy, max_depth=20, min_samples_leaf=10, min_samples_split=10; total time=   0.0s\n",
      "[CV] END criterion=entropy, max_depth=20, min_samples_leaf=10, min_samples_split=20; total time=   0.0s\n",
      "[CV] END criterion=entropy, max_depth=30, min_samples_leaf=10, min_samples_split=20; total time=   0.0s\n",
      "[CV] END criterion=entropy, max_depth=30, min_samples_leaf=10, min_samples_split=20; total time=   0.0s\n",
      "[CV] END criterion=entropy, max_depth=30, min_samples_leaf=10, min_samples_split=20; total time=   0.0s\n",
      "[CV] END criterion=entropy, max_depth=30, min_samples_leaf=10, min_samples_split=20; total time=   0.0s\n",
      "[CV] END criterion=entropy, max_depth=40, min_samples_leaf=1, min_samples_split=2; total time=   0.0s\n",
      "[CV] END criterion=entropy, max_depth=40, min_samples_leaf=1, min_samples_split=2; total time=   0.0s\n",
      "[CV] END criterion=entropy, max_depth=40, min_samples_leaf=1, min_samples_split=2; total time=   0.0s\n",
      "[CV] END criterion=entropy, max_depth=40, min_samples_leaf=1, min_samples_split=2; total time=   0.0s\n",
      "[CV] END criterion=entropy, max_depth=40, min_samples_leaf=1, min_samples_split=2; total time=   0.0s\n",
      "[CV] END criterion=entropy, max_depth=40, min_samples_leaf=1, min_samples_split=5; total time=   0.0s\n",
      "[CV] END criterion=entropy, max_depth=40, min_samples_leaf=1, min_samples_split=5; total time=   0.0s\n",
      "[CV] END criterion=entropy, max_depth=40, min_samples_leaf=1, min_samples_split=5; total time=   0.0s\n",
      "[CV] END criterion=entropy, max_depth=40, min_samples_leaf=1, min_samples_split=5; total time=   0.0s\n",
      "[CV] END criterion=entropy, max_depth=40, min_samples_leaf=1, min_samples_split=5; total time=   0.0s\n",
      "[CV] END criterion=entropy, max_depth=40, min_samples_leaf=1, min_samples_split=10; total time=   0.0s\n",
      "[CV] END criterion=entropy, max_depth=40, min_samples_leaf=1, min_samples_split=10; total time=   0.0s\n",
      "[CV] END criterion=entropy, max_depth=50, min_samples_leaf=10, min_samples_split=20; total time=   0.0s\n",
      "[CV] END ................learning_rate=0.01, n_estimators=50; total time=   0.2s\n",
      "[CV] END ...............learning_rate=0.01, n_estimators=150; total time=   0.1s\n",
      "[CV] END .................learning_rate=0.1, n_estimators=30; total time=   0.6s\n",
      "[CV] END .................learning_rate=0.1, n_estimators=30; total time=   0.6s\n",
      "[CV] END ................learning_rate=0.1, n_estimators=150; total time=   3.5s\n",
      "[CV] END ................learning_rate=0.1, n_estimators=150; total time=   3.6s\n",
      "[CV] END ...................learning_rate=2, n_estimators=30; total time=   0.5s\n",
      "[CV] END ...................learning_rate=2, n_estimators=50; total time=   0.8s\n",
      "[CV] END ..................learning_rate=2, n_estimators=100; total time=   1.7s\n",
      "[CV] END ...................learning_rate=5, n_estimators=30; total time=   0.4s\n",
      "[CV] END ...................learning_rate=5, n_estimators=50; total time=   0.8s\n",
      "[CV] END ..................learning_rate=5, n_estimators=150; total time=   2.1s\n",
      "[CV] END criterion=gini, max_depth=None, min_samples_leaf=1, min_samples_split=2; total time=   0.0s\n",
      "[CV] END criterion=gini, max_depth=None, min_samples_leaf=1, min_samples_split=10; total time=   0.0s\n",
      "[CV] END criterion=gini, max_depth=None, min_samples_leaf=2, min_samples_split=2; total time=   0.0s\n",
      "[CV] END criterion=gini, max_depth=None, min_samples_leaf=2, min_samples_split=2; total time=   0.0s\n",
      "[CV] END criterion=gini, max_depth=None, min_samples_leaf=2, min_samples_split=20; total time=   0.0s\n",
      "[CV] END criterion=gini, max_depth=None, min_samples_leaf=2, min_samples_split=20; total time=   0.0s\n",
      "[CV] END criterion=gini, max_depth=None, min_samples_leaf=5, min_samples_split=10; total time=   0.0s\n",
      "[CV] END criterion=gini, max_depth=None, min_samples_leaf=5, min_samples_split=10; total time=   0.0s\n",
      "[CV] END criterion=gini, max_depth=10, min_samples_leaf=1, min_samples_split=2; total time=   0.0s\n",
      "[CV] END criterion=gini, max_depth=10, min_samples_leaf=1, min_samples_split=5; total time=   0.0s\n",
      "[CV] END criterion=gini, max_depth=10, min_samples_leaf=1, min_samples_split=5; total time=   0.0s\n",
      "[CV] END criterion=gini, max_depth=10, min_samples_leaf=1, min_samples_split=5; total time=   0.1s\n",
      "[CV] END criterion=gini, max_depth=20, min_samples_leaf=1, min_samples_split=2; total time=   0.0s\n",
      "[CV] END criterion=gini, max_depth=20, min_samples_leaf=1, min_samples_split=5; total time=   0.0s\n",
      "[CV] END criterion=gini, max_depth=20, min_samples_leaf=1, min_samples_split=5; total time=   0.0s\n",
      "[CV] END criterion=gini, max_depth=20, min_samples_leaf=1, min_samples_split=5; total time=   0.0s\n",
      "[CV] END criterion=gini, max_depth=20, min_samples_leaf=1, min_samples_split=5; total time=   0.0s\n",
      "[CV] END criterion=gini, max_depth=20, min_samples_leaf=1, min_samples_split=5; total time=   0.0s\n",
      "[CV] END criterion=gini, max_depth=20, min_samples_leaf=1, min_samples_split=10; total time=   0.0s\n",
      "[CV] END criterion=gini, max_depth=20, min_samples_leaf=1, min_samples_split=10; total time=   0.0s\n",
      "[CV] END criterion=gini, max_depth=30, min_samples_leaf=2, min_samples_split=20; total time=   0.0s\n",
      "[CV] END criterion=gini, max_depth=30, min_samples_leaf=2, min_samples_split=20; total time=   0.0s\n",
      "[CV] END criterion=gini, max_depth=30, min_samples_leaf=2, min_samples_split=20; total time=   0.0s\n",
      "[CV] END criterion=gini, max_depth=30, min_samples_leaf=2, min_samples_split=20; total time=   0.0s\n",
      "[CV] END criterion=gini, max_depth=30, min_samples_leaf=5, min_samples_split=2; total time=   0.0s\n",
      "[CV] END criterion=gini, max_depth=30, min_samples_leaf=5, min_samples_split=2; total time=   0.1s\n",
      "[CV] END criterion=gini, max_depth=30, min_samples_leaf=5, min_samples_split=2; total time=   0.0s\n",
      "[CV] END criterion=gini, max_depth=30, min_samples_leaf=5, min_samples_split=2; total time=   0.0s\n",
      "[CV] END criterion=gini, max_depth=40, min_samples_leaf=2, min_samples_split=5; total time=   0.0s\n",
      "[CV] END criterion=gini, max_depth=40, min_samples_leaf=2, min_samples_split=5; total time=   0.0s\n",
      "[CV] END criterion=gini, max_depth=40, min_samples_leaf=2, min_samples_split=10; total time=   0.0s\n",
      "[CV] END criterion=gini, max_depth=40, min_samples_leaf=2, min_samples_split=10; total time=   0.0s\n",
      "[CV] END criterion=gini, max_depth=40, min_samples_leaf=2, min_samples_split=10; total time=   0.0s\n",
      "[CV] END criterion=gini, max_depth=40, min_samples_leaf=2, min_samples_split=10; total time=   0.0s\n",
      "[CV] END criterion=gini, max_depth=40, min_samples_leaf=2, min_samples_split=10; total time=   0.0s\n",
      "[CV] END criterion=gini, max_depth=40, min_samples_leaf=2, min_samples_split=20; total time=   0.0s\n",
      "[CV] END criterion=gini, max_depth=40, min_samples_leaf=2, min_samples_split=20; total time=   0.0s\n",
      "[CV] END criterion=gini, max_depth=40, min_samples_leaf=2, min_samples_split=20; total time=   0.0s\n",
      "[CV] END criterion=gini, max_depth=40, min_samples_leaf=2, min_samples_split=20; total time=   0.0s\n",
      "[CV] END criterion=gini, max_depth=40, min_samples_leaf=2, min_samples_split=20; total time=   0.0s\n",
      "[CV] END criterion=gini, max_depth=40, min_samples_leaf=5, min_samples_split=2; total time=   0.0s\n",
      "[CV] END criterion=gini, max_depth=40, min_samples_leaf=5, min_samples_split=2; total time=   0.0s\n",
      "[CV] END criterion=gini, max_depth=40, min_samples_leaf=5, min_samples_split=2; total time=   0.0s\n",
      "[CV] END criterion=gini, max_depth=40, min_samples_leaf=5, min_samples_split=2; total time=   0.0s\n",
      "[CV] END criterion=entropy, max_depth=None, min_samples_leaf=10, min_samples_split=2; total time=   0.0s\n",
      "[CV] END criterion=entropy, max_depth=None, min_samples_leaf=10, min_samples_split=2; total time=   0.0s\n",
      "[CV] END criterion=entropy, max_depth=None, min_samples_leaf=10, min_samples_split=2; total time=   0.0s\n",
      "[CV] END criterion=entropy, max_depth=None, min_samples_leaf=10, min_samples_split=2; total time=   0.0s\n",
      "[CV] END criterion=entropy, max_depth=None, min_samples_leaf=10, min_samples_split=2; total time=   0.0s\n",
      "[CV] END criterion=entropy, max_depth=None, min_samples_leaf=10, min_samples_split=5; total time=   0.0s\n",
      "[CV] END criterion=entropy, max_depth=None, min_samples_leaf=10, min_samples_split=5; total time=   0.0s\n",
      "[CV] END criterion=entropy, max_depth=None, min_samples_leaf=10, min_samples_split=5; total time=   0.0s\n",
      "[CV] END criterion=entropy, max_depth=None, min_samples_leaf=10, min_samples_split=5; total time=   0.0s\n",
      "[CV] END criterion=entropy, max_depth=None, min_samples_leaf=10, min_samples_split=5; total time=   0.0s\n",
      "[CV] END criterion=entropy, max_depth=None, min_samples_leaf=10, min_samples_split=10; total time=   0.0s\n",
      "[CV] END criterion=entropy, max_depth=None, min_samples_leaf=10, min_samples_split=10; total time=   0.0s\n",
      "[CV] END criterion=entropy, max_depth=None, min_samples_leaf=10, min_samples_split=10; total time=   0.0s\n",
      "[CV] END criterion=entropy, max_depth=None, min_samples_leaf=10, min_samples_split=10; total time=   0.0s\n",
      "[CV] END criterion=entropy, max_depth=None, min_samples_leaf=10, min_samples_split=10; total time=   0.0s\n",
      "[CV] END criterion=entropy, max_depth=None, min_samples_leaf=10, min_samples_split=20; total time=   0.0s\n",
      "[CV] END criterion=entropy, max_depth=20, min_samples_leaf=1, min_samples_split=10; total time=   0.0s\n",
      "[CV] END criterion=entropy, max_depth=20, min_samples_leaf=1, min_samples_split=10; total time=   0.0s\n",
      "[CV] END criterion=entropy, max_depth=20, min_samples_leaf=1, min_samples_split=10; total time=   0.0s\n",
      "[CV] END criterion=entropy, max_depth=20, min_samples_leaf=1, min_samples_split=20; total time=   0.0s\n",
      "[CV] END criterion=entropy, max_depth=20, min_samples_leaf=1, min_samples_split=20; total time=   0.0s\n",
      "[CV] END criterion=entropy, max_depth=20, min_samples_leaf=1, min_samples_split=20; total time=   0.0s\n",
      "[CV] END criterion=entropy, max_depth=20, min_samples_leaf=1, min_samples_split=20; total time=   0.0s\n",
      "[CV] END criterion=entropy, max_depth=20, min_samples_leaf=1, min_samples_split=20; total time=   0.0s\n",
      "[CV] END criterion=entropy, max_depth=20, min_samples_leaf=2, min_samples_split=2; total time=   0.0s\n",
      "[CV] END criterion=entropy, max_depth=20, min_samples_leaf=2, min_samples_split=2; total time=   0.0s\n",
      "[CV] END criterion=entropy, max_depth=20, min_samples_leaf=2, min_samples_split=2; total time=   0.0s\n",
      "[CV] END criterion=entropy, max_depth=20, min_samples_leaf=2, min_samples_split=2; total time=   0.0s\n",
      "[CV] END criterion=entropy, max_depth=20, min_samples_leaf=2, min_samples_split=2; total time=   0.0s\n",
      "[CV] END criterion=entropy, max_depth=20, min_samples_leaf=2, min_samples_split=5; total time=   0.0s\n",
      "[CV] END criterion=entropy, max_depth=20, min_samples_leaf=2, min_samples_split=5; total time=   0.0s\n",
      "[CV] END criterion=entropy, max_depth=20, min_samples_leaf=2, min_samples_split=5; total time=   0.0s\n",
      "[CV] END criterion=entropy, max_depth=50, min_samples_leaf=2, min_samples_split=5; total time=   0.0s\n",
      "[CV] END criterion=entropy, max_depth=50, min_samples_leaf=2, min_samples_split=5; total time=   0.0s\n",
      "[CV] END criterion=entropy, max_depth=50, min_samples_leaf=2, min_samples_split=10; total time=   0.0s\n",
      "[CV] END criterion=entropy, max_depth=50, min_samples_leaf=2, min_samples_split=10; total time=   0.0s\n",
      "[CV] END criterion=entropy, max_depth=50, min_samples_leaf=2, min_samples_split=10; total time=   0.0s\n",
      "[CV] END criterion=entropy, max_depth=50, min_samples_leaf=2, min_samples_split=10; total time=   0.0s\n",
      "[CV] END criterion=entropy, max_depth=50, min_samples_leaf=2, min_samples_split=10; total time=   0.0s\n",
      "[CV] END criterion=entropy, max_depth=50, min_samples_leaf=2, min_samples_split=20; total time=   0.0s\n",
      "[CV] END criterion=entropy, max_depth=50, min_samples_leaf=2, min_samples_split=20; total time=   0.0s\n",
      "[CV] END criterion=entropy, max_depth=50, min_samples_leaf=2, min_samples_split=20; total time=   0.0s\n",
      "[CV] END criterion=entropy, max_depth=50, min_samples_leaf=2, min_samples_split=20; total time=   0.0s\n",
      "[CV] END criterion=entropy, max_depth=50, min_samples_leaf=2, min_samples_split=20; total time=   0.0s\n",
      "[CV] END criterion=entropy, max_depth=50, min_samples_leaf=5, min_samples_split=2; total time=   0.0s\n",
      "[CV] END criterion=entropy, max_depth=50, min_samples_leaf=5, min_samples_split=2; total time=   0.0s\n",
      "[CV] END criterion=entropy, max_depth=50, min_samples_leaf=5, min_samples_split=2; total time=   0.0s\n",
      "[CV] END criterion=entropy, max_depth=50, min_samples_leaf=5, min_samples_split=2; total time=   0.0s\n",
      "[CV] END ................learning_rate=0.01, n_estimators=30; total time=   0.3s\n",
      "[CV] END ...............learning_rate=0.01, n_estimators=150; total time=   0.0s\n",
      "[CV] END .................learning_rate=0.1, n_estimators=30; total time=   0.7s\n",
      "[CV] END .................learning_rate=0.1, n_estimators=30; total time=   0.7s\n",
      "[CV] END ................learning_rate=0.1, n_estimators=150; total time=   3.4s\n",
      "[CV] END ................learning_rate=0.1, n_estimators=150; total time=   3.5s\n",
      "[CV] END ...................learning_rate=2, n_estimators=50; total time=   0.9s\n",
      "[CV] END ..................learning_rate=2, n_estimators=100; total time=   1.6s\n",
      "[CV] END ...................learning_rate=5, n_estimators=30; total time=   0.5s\n",
      "[CV] END ...................learning_rate=5, n_estimators=50; total time=   0.7s\n",
      "[CV] END ..................learning_rate=5, n_estimators=100; total time=   1.5s\n",
      "[CV] END criterion=gini, max_depth=None, min_samples_leaf=1, min_samples_split=2; total time=   0.0s\n",
      "[CV] END criterion=gini, max_depth=None, min_samples_leaf=1, min_samples_split=5; total time=   0.0s\n",
      "[CV] END criterion=gini, max_depth=None, min_samples_leaf=1, min_samples_split=10; total time=   0.0s\n",
      "[CV] END criterion=gini, max_depth=None, min_samples_leaf=1, min_samples_split=20; total time=   0.0s\n",
      "Best parameters: {'criterion': 'gini', 'max_depth': 40, 'min_samples_leaf': 1, 'min_samples_split': 10}\n",
      "Best cross-validated score: 0.7715543151567197\n"
     ]
    }
   ],
   "source": [
    "from sklearn.model_selection import GridSearchCV\n",
    "\n",
    "param_grid = {\n",
    "    'max_depth': [None, 10, 20, 30, 40, 50],  # None means unlimited depth\n",
    "    'min_samples_split': [2, 5, 10, 20],  # The minimum number of samples required to split\n",
    "    'min_samples_leaf': [1, 2, 5, 10],  # The minimum number of samples required at a leaf node\n",
    "    'criterion': ['gini', 'entropy']  # The function to measure the quality of a split\n",
    "}\n",
    "\n",
    "grid_search = GridSearchCV(DecisionTreeClassifier(), param_grid, cv=5, n_jobs=-1, scoring='accuracy', verbose=2)\n",
    "\n",
    "grid_search.fit(X_train, y_train)\n",
    "\n",
    "print(\"Best parameters:\", grid_search.best_params_)\n",
    "print(\"Best cross-validated score:\", grid_search.best_score_)"
   ],
   "metadata": {
    "collapsed": false,
    "ExecuteTime": {
     "end_time": "2024-03-06T09:35:48.450986Z",
     "start_time": "2024-03-06T09:35:47.001102Z"
    }
   },
   "id": "baaca9df4220b93e",
   "execution_count": 66
  },
  {
   "cell_type": "code",
   "outputs": [
    {
     "data": {
      "text/plain": "DecisionTreeClassifier(min_samples_split=10)",
      "text/html": "<style>#sk-container-id-8 {color: black;}#sk-container-id-8 pre{padding: 0;}#sk-container-id-8 div.sk-toggleable {background-color: white;}#sk-container-id-8 label.sk-toggleable__label {cursor: pointer;display: block;width: 100%;margin-bottom: 0;padding: 0.3em;box-sizing: border-box;text-align: center;}#sk-container-id-8 label.sk-toggleable__label-arrow:before {content: \"▸\";float: left;margin-right: 0.25em;color: #696969;}#sk-container-id-8 label.sk-toggleable__label-arrow:hover:before {color: black;}#sk-container-id-8 div.sk-estimator:hover label.sk-toggleable__label-arrow:before {color: black;}#sk-container-id-8 div.sk-toggleable__content {max-height: 0;max-width: 0;overflow: hidden;text-align: left;background-color: #f0f8ff;}#sk-container-id-8 div.sk-toggleable__content pre {margin: 0.2em;color: black;border-radius: 0.25em;background-color: #f0f8ff;}#sk-container-id-8 input.sk-toggleable__control:checked~div.sk-toggleable__content {max-height: 200px;max-width: 100%;overflow: auto;}#sk-container-id-8 input.sk-toggleable__control:checked~label.sk-toggleable__label-arrow:before {content: \"▾\";}#sk-container-id-8 div.sk-estimator input.sk-toggleable__control:checked~label.sk-toggleable__label {background-color: #d4ebff;}#sk-container-id-8 div.sk-label input.sk-toggleable__control:checked~label.sk-toggleable__label {background-color: #d4ebff;}#sk-container-id-8 input.sk-hidden--visually {border: 0;clip: rect(1px 1px 1px 1px);clip: rect(1px, 1px, 1px, 1px);height: 1px;margin: -1px;overflow: hidden;padding: 0;position: absolute;width: 1px;}#sk-container-id-8 div.sk-estimator {font-family: monospace;background-color: #f0f8ff;border: 1px dotted black;border-radius: 0.25em;box-sizing: border-box;margin-bottom: 0.5em;}#sk-container-id-8 div.sk-estimator:hover {background-color: #d4ebff;}#sk-container-id-8 div.sk-parallel-item::after {content: \"\";width: 100%;border-bottom: 1px solid gray;flex-grow: 1;}#sk-container-id-8 div.sk-label:hover label.sk-toggleable__label {background-color: #d4ebff;}#sk-container-id-8 div.sk-serial::before {content: \"\";position: absolute;border-left: 1px solid gray;box-sizing: border-box;top: 0;bottom: 0;left: 50%;z-index: 0;}#sk-container-id-8 div.sk-serial {display: flex;flex-direction: column;align-items: center;background-color: white;padding-right: 0.2em;padding-left: 0.2em;position: relative;}#sk-container-id-8 div.sk-item {position: relative;z-index: 1;}#sk-container-id-8 div.sk-parallel {display: flex;align-items: stretch;justify-content: center;background-color: white;position: relative;}#sk-container-id-8 div.sk-item::before, #sk-container-id-8 div.sk-parallel-item::before {content: \"\";position: absolute;border-left: 1px solid gray;box-sizing: border-box;top: 0;bottom: 0;left: 50%;z-index: -1;}#sk-container-id-8 div.sk-parallel-item {display: flex;flex-direction: column;z-index: 1;position: relative;background-color: white;}#sk-container-id-8 div.sk-parallel-item:first-child::after {align-self: flex-end;width: 50%;}#sk-container-id-8 div.sk-parallel-item:last-child::after {align-self: flex-start;width: 50%;}#sk-container-id-8 div.sk-parallel-item:only-child::after {width: 0;}#sk-container-id-8 div.sk-dashed-wrapped {border: 1px dashed gray;margin: 0 0.4em 0.5em 0.4em;box-sizing: border-box;padding-bottom: 0.4em;background-color: white;}#sk-container-id-8 div.sk-label label {font-family: monospace;font-weight: bold;display: inline-block;line-height: 1.2em;}#sk-container-id-8 div.sk-label-container {text-align: center;}#sk-container-id-8 div.sk-container {/* jupyter's `normalize.less` sets `[hidden] { display: none; }` but bootstrap.min.css set `[hidden] { display: none !important; }` so we also need the `!important` here to be able to override the default hidden behavior on the sphinx rendered scikit-learn.org. See: https://github.com/scikit-learn/scikit-learn/issues/21755 */display: inline-block !important;position: relative;}#sk-container-id-8 div.sk-text-repr-fallback {display: none;}</style><div id=\"sk-container-id-8\" class=\"sk-top-container\"><div class=\"sk-text-repr-fallback\"><pre>DecisionTreeClassifier(min_samples_split=10)</pre><b>In a Jupyter environment, please rerun this cell to show the HTML representation or trust the notebook. <br />On GitHub, the HTML representation is unable to render, please try loading this page with nbviewer.org.</b></div><div class=\"sk-container\" hidden><div class=\"sk-item\"><div class=\"sk-estimator sk-toggleable\"><input class=\"sk-toggleable__control sk-hidden--visually\" id=\"sk-estimator-id-16\" type=\"checkbox\" checked><label for=\"sk-estimator-id-16\" class=\"sk-toggleable__label sk-toggleable__label-arrow\">DecisionTreeClassifier</label><div class=\"sk-toggleable__content\"><pre>DecisionTreeClassifier(min_samples_split=10)</pre></div></div></div></div></div>"
     },
     "execution_count": 67,
     "metadata": {},
     "output_type": "execute_result"
    }
   ],
   "source": [
    "model = DecisionTreeClassifier(\n",
    "    criterion='gini',\n",
    "    max_depth=None,\n",
    "    min_samples_leaf=1,\n",
    "    min_samples_split=10\n",
    ")\n",
    "model.fit(X_train, y_train)"
   ],
   "metadata": {
    "collapsed": false,
    "ExecuteTime": {
     "end_time": "2024-03-06T09:35:48.475155Z",
     "start_time": "2024-03-06T09:35:48.452386Z"
    }
   },
   "id": "de64a930653c088e",
   "execution_count": 67
  },
  {
   "cell_type": "code",
   "outputs": [
    {
     "name": "stdout",
     "output_type": "stream",
     "text": [
      "Accuracy: 80.95%\n",
      "              precision    recall  f1-score   support\n",
      "\n",
      "           0       0.76      0.83      0.80       131\n",
      "           1       0.85      0.79      0.82       163\n",
      "\n",
      "    accuracy                           0.81       294\n",
      "   macro avg       0.81      0.81      0.81       294\n",
      "weighted avg       0.81      0.81      0.81       294\n"
     ]
    }
   ],
   "source": [
    "y_pred = model.predict(X_test)\n",
    "print(f'Accuracy: {accuracy_score(y_test,y_pred) * 100:.2f}%')\n",
    "print(classification_report(y_test, y_pred))"
   ],
   "metadata": {
    "collapsed": false,
    "ExecuteTime": {
     "end_time": "2024-03-06T09:35:48.482068Z",
     "start_time": "2024-03-06T09:35:48.475876Z"
    }
   },
   "id": "9b45b313bb37ff75",
   "execution_count": 68
  },
  {
   "cell_type": "markdown",
   "source": [
    "### With AdaBoost"
   ],
   "metadata": {
    "collapsed": false
   },
   "id": "9ad92899116e2f61"
  },
  {
   "cell_type": "code",
   "outputs": [],
   "source": [
    "from sklearn.ensemble import AdaBoostClassifier"
   ],
   "metadata": {
    "collapsed": false,
    "ExecuteTime": {
     "end_time": "2024-03-06T09:35:48.485149Z",
     "start_time": "2024-03-06T09:35:48.483407Z"
    }
   },
   "id": "9665decd9614662a",
   "execution_count": 69
  },
  {
   "cell_type": "code",
   "outputs": [
    {
     "name": "stdout",
     "output_type": "stream",
     "text": [
      "Fitting 5 folds for each of 24 candidates, totalling 120 fits\n",
      "[CV] END criterion=entropy, max_depth=10, min_samples_leaf=5, min_samples_split=20; total time=   0.0s\n",
      "[CV] END criterion=entropy, max_depth=30, min_samples_leaf=2, min_samples_split=5; total time=   0.0s\n",
      "[CV] END criterion=entropy, max_depth=30, min_samples_leaf=2, min_samples_split=5; total time=   0.1s\n",
      "[CV] END criterion=entropy, max_depth=30, min_samples_leaf=2, min_samples_split=10; total time=   0.0s\n",
      "[CV] END criterion=entropy, max_depth=30, min_samples_leaf=2, min_samples_split=10; total time=   0.0s\n",
      "[CV] END criterion=entropy, max_depth=30, min_samples_leaf=2, min_samples_split=10; total time=   0.1s\n",
      "[CV] END criterion=entropy, max_depth=30, min_samples_leaf=2, min_samples_split=10; total time=   0.0s\n",
      "[CV] END criterion=entropy, max_depth=30, min_samples_leaf=2, min_samples_split=10; total time=   0.0s\n",
      "[CV] END criterion=entropy, max_depth=30, min_samples_leaf=2, min_samples_split=20; total time=   0.0s\n",
      "[CV] END criterion=entropy, max_depth=30, min_samples_leaf=2, min_samples_split=20; total time=   0.0s\n",
      "[CV] END criterion=entropy, max_depth=30, min_samples_leaf=2, min_samples_split=20; total time=   0.0s\n",
      "[CV] END criterion=entropy, max_depth=30, min_samples_leaf=2, min_samples_split=20; total time=   0.0s\n",
      "[CV] END criterion=entropy, max_depth=30, min_samples_leaf=2, min_samples_split=20; total time=   0.0s\n",
      "[CV] END criterion=entropy, max_depth=30, min_samples_leaf=5, min_samples_split=2; total time=   0.0s\n",
      "[CV] END criterion=entropy, max_depth=30, min_samples_leaf=5, min_samples_split=2; total time=   0.0s\n",
      "[CV] END criterion=entropy, max_depth=30, min_samples_leaf=5, min_samples_split=2; total time=   0.0s\n",
      "[CV] END criterion=entropy, max_depth=30, min_samples_leaf=5, min_samples_split=2; total time=   0.0s\n",
      "[CV] END criterion=entropy, max_depth=50, min_samples_leaf=2, min_samples_split=5; total time=   0.0s\n",
      "[CV] END criterion=entropy, max_depth=50, min_samples_leaf=2, min_samples_split=5; total time=   0.0s\n",
      "[CV] END criterion=entropy, max_depth=50, min_samples_leaf=2, min_samples_split=10; total time=   0.0s\n",
      "[CV] END criterion=entropy, max_depth=50, min_samples_leaf=2, min_samples_split=10; total time=   0.0s\n",
      "[CV] END criterion=entropy, max_depth=50, min_samples_leaf=2, min_samples_split=10; total time=   0.0s\n",
      "[CV] END criterion=entropy, max_depth=50, min_samples_leaf=2, min_samples_split=10; total time=   0.0s\n",
      "[CV] END criterion=entropy, max_depth=50, min_samples_leaf=2, min_samples_split=10; total time=   0.0s\n",
      "[CV] END criterion=entropy, max_depth=50, min_samples_leaf=2, min_samples_split=20; total time=   0.0s\n",
      "[CV] END criterion=entropy, max_depth=50, min_samples_leaf=2, min_samples_split=20; total time=   0.0s\n",
      "[CV] END criterion=entropy, max_depth=50, min_samples_leaf=2, min_samples_split=20; total time=   0.0s\n",
      "[CV] END criterion=entropy, max_depth=50, min_samples_leaf=2, min_samples_split=20; total time=   0.0s\n",
      "[CV] END criterion=entropy, max_depth=50, min_samples_leaf=2, min_samples_split=20; total time=   0.0s\n",
      "[CV] END criterion=entropy, max_depth=50, min_samples_leaf=5, min_samples_split=2; total time=   0.0s\n",
      "[CV] END criterion=entropy, max_depth=50, min_samples_leaf=5, min_samples_split=2; total time=   0.0s\n",
      "[CV] END criterion=entropy, max_depth=50, min_samples_leaf=5, min_samples_split=2; total time=   0.0s\n",
      "[CV] END criterion=entropy, max_depth=50, min_samples_leaf=5, min_samples_split=2; total time=   0.0s\n",
      "[CV] END ................learning_rate=0.01, n_estimators=30; total time=   0.1s\n",
      "[CV] END ...............learning_rate=0.01, n_estimators=100; total time=   2.0s\n",
      "[CV] END .................learning_rate=0.5, n_estimators=30; total time=   0.7s\n",
      "[CV] END .................learning_rate=0.5, n_estimators=50; total time=   1.1s\n",
      "[CV] END ................learning_rate=0.5, n_estimators=100; total time=   2.4s\n",
      "[CV] END ................learning_rate=0.5, n_estimators=150; total time=   3.5s\n",
      "[CV] END ..................learning_rate=2, n_estimators=100; total time=   1.8s\n",
      "[CV] END ...................learning_rate=5, n_estimators=30; total time=   0.5s\n",
      "[CV] END ...................learning_rate=5, n_estimators=50; total time=   0.9s\n",
      "[CV] END ..................learning_rate=5, n_estimators=150; total time=   2.2s\n",
      "[CV] END criterion=gini, max_depth=None, min_samples_leaf=1, min_samples_split=5; total time=   0.0s\n",
      "[CV] END criterion=gini, max_depth=None, min_samples_leaf=1, min_samples_split=10; total time=   0.0s\n",
      "[CV] END criterion=gini, max_depth=None, min_samples_leaf=1, min_samples_split=20; total time=   0.0s\n",
      "[CV] END criterion=gini, max_depth=None, min_samples_leaf=2, min_samples_split=10; total time=   0.0s\n",
      "[CV] END criterion=gini, max_depth=None, min_samples_leaf=2, min_samples_split=10; total time=   0.0s\n",
      "[CV] END criterion=gini, max_depth=None, min_samples_leaf=10, min_samples_split=2; total time=   0.0s\n",
      "[CV] END criterion=gini, max_depth=None, min_samples_leaf=10, min_samples_split=5; total time=   0.0s\n",
      "[CV] END criterion=gini, max_depth=None, min_samples_leaf=10, min_samples_split=5; total time=   0.0s\n",
      "[CV] END criterion=gini, max_depth=None, min_samples_leaf=10, min_samples_split=5; total time=   0.0s\n",
      "[CV] END criterion=gini, max_depth=10, min_samples_leaf=2, min_samples_split=20; total time=   0.0s\n",
      "[CV] END criterion=gini, max_depth=10, min_samples_leaf=2, min_samples_split=20; total time=   0.0s\n",
      "[CV] END criterion=gini, max_depth=10, min_samples_leaf=2, min_samples_split=20; total time=   0.0s\n",
      "[CV] END criterion=gini, max_depth=10, min_samples_leaf=2, min_samples_split=20; total time=   0.0s\n",
      "[CV] END criterion=gini, max_depth=10, min_samples_leaf=10, min_samples_split=5; total time=   0.0s\n",
      "[CV] END criterion=gini, max_depth=10, min_samples_leaf=10, min_samples_split=5; total time=   0.0s\n",
      "[CV] END criterion=gini, max_depth=10, min_samples_leaf=10, min_samples_split=10; total time=   0.0s\n",
      "[CV] END criterion=gini, max_depth=10, min_samples_leaf=10, min_samples_split=10; total time=   0.0s\n",
      "[CV] END criterion=gini, max_depth=10, min_samples_leaf=10, min_samples_split=10; total time=   0.0s\n",
      "[CV] END criterion=gini, max_depth=10, min_samples_leaf=10, min_samples_split=10; total time=   0.0s\n",
      "[CV] END criterion=gini, max_depth=10, min_samples_leaf=10, min_samples_split=10; total time=   0.0s\n",
      "[CV] END criterion=gini, max_depth=10, min_samples_leaf=10, min_samples_split=20; total time=   0.0s\n",
      "[CV] END criterion=gini, max_depth=20, min_samples_leaf=10, min_samples_split=2; total time=   0.0s\n",
      "[CV] END criterion=gini, max_depth=20, min_samples_leaf=10, min_samples_split=2; total time=   0.0s\n",
      "[CV] END criterion=gini, max_depth=20, min_samples_leaf=10, min_samples_split=2; total time=   0.0s\n",
      "[CV] END criterion=gini, max_depth=20, min_samples_leaf=10, min_samples_split=2; total time=   0.0s\n",
      "[CV] END criterion=gini, max_depth=20, min_samples_leaf=10, min_samples_split=2; total time=   0.0s\n",
      "[CV] END criterion=gini, max_depth=20, min_samples_leaf=10, min_samples_split=5; total time=   0.0s\n",
      "[CV] END criterion=gini, max_depth=20, min_samples_leaf=10, min_samples_split=5; total time=   0.0s\n",
      "[CV] END criterion=gini, max_depth=20, min_samples_leaf=10, min_samples_split=5; total time=   0.0s\n",
      "[CV] END criterion=gini, max_depth=30, min_samples_leaf=10, min_samples_split=20; total time=   0.0s\n",
      "[CV] END criterion=gini, max_depth=30, min_samples_leaf=10, min_samples_split=20; total time=   0.0s\n",
      "[CV] END criterion=gini, max_depth=30, min_samples_leaf=10, min_samples_split=20; total time=   0.0s\n",
      "[CV] END criterion=gini, max_depth=30, min_samples_leaf=10, min_samples_split=20; total time=   0.0s\n",
      "[CV] END criterion=gini, max_depth=40, min_samples_leaf=1, min_samples_split=2; total time=   0.0s\n",
      "[CV] END criterion=gini, max_depth=40, min_samples_leaf=1, min_samples_split=2; total time=   0.0s\n",
      "[CV] END criterion=gini, max_depth=40, min_samples_leaf=1, min_samples_split=2; total time=   0.1s\n",
      "[CV] END criterion=gini, max_depth=40, min_samples_leaf=1, min_samples_split=2; total time=   0.0s\n",
      "[CV] END criterion=gini, max_depth=40, min_samples_leaf=1, min_samples_split=2; total time=   0.0s\n",
      "[CV] END criterion=gini, max_depth=40, min_samples_leaf=1, min_samples_split=5; total time=   0.0s\n",
      "[CV] END criterion=gini, max_depth=40, min_samples_leaf=1, min_samples_split=5; total time=   0.0s\n",
      "[CV] END criterion=gini, max_depth=40, min_samples_leaf=1, min_samples_split=5; total time=   0.0s\n",
      "[CV] END criterion=gini, max_depth=40, min_samples_leaf=1, min_samples_split=5; total time=   0.0s\n",
      "[CV] END criterion=gini, max_depth=40, min_samples_leaf=1, min_samples_split=5; total time=   0.0s\n",
      "[CV] END criterion=gini, max_depth=40, min_samples_leaf=1, min_samples_split=10; total time=   0.0s\n",
      "[CV] END criterion=gini, max_depth=40, min_samples_leaf=1, min_samples_split=10; total time=   0.0s\n",
      "[CV] END criterion=entropy, max_depth=None, min_samples_leaf=1, min_samples_split=10; total time=   0.0s\n",
      "[CV] END criterion=entropy, max_depth=None, min_samples_leaf=1, min_samples_split=10; total time=   0.0s\n",
      "[CV] END criterion=entropy, max_depth=None, min_samples_leaf=1, min_samples_split=10; total time=   0.0s\n",
      "[CV] END criterion=entropy, max_depth=None, min_samples_leaf=1, min_samples_split=20; total time=   0.0s\n",
      "[CV] END criterion=entropy, max_depth=None, min_samples_leaf=1, min_samples_split=20; total time=   0.0s\n",
      "[CV] END criterion=entropy, max_depth=None, min_samples_leaf=1, min_samples_split=20; total time=   0.0s\n",
      "[CV] END criterion=entropy, max_depth=None, min_samples_leaf=1, min_samples_split=20; total time=   0.0s\n",
      "[CV] END criterion=entropy, max_depth=None, min_samples_leaf=1, min_samples_split=20; total time=   0.0s\n",
      "[CV] END criterion=entropy, max_depth=None, min_samples_leaf=2, min_samples_split=2; total time=   0.0s\n",
      "[CV] END criterion=entropy, max_depth=None, min_samples_leaf=2, min_samples_split=2; total time=   0.0s\n",
      "[CV] END criterion=entropy, max_depth=None, min_samples_leaf=2, min_samples_split=2; total time=   0.0s\n",
      "[CV] END criterion=entropy, max_depth=None, min_samples_leaf=2, min_samples_split=2; total time=   0.0s\n",
      "[CV] END criterion=entropy, max_depth=None, min_samples_leaf=2, min_samples_split=2; total time=   0.0s\n",
      "[CV] END criterion=entropy, max_depth=None, min_samples_leaf=2, min_samples_split=5; total time=   0.0s\n",
      "[CV] END criterion=entropy, max_depth=None, min_samples_leaf=2, min_samples_split=5; total time=   0.0s\n",
      "[CV] END criterion=entropy, max_depth=None, min_samples_leaf=2, min_samples_split=5; total time=   0.0s\n",
      "[CV] END criterion=entropy, max_depth=20, min_samples_leaf=5, min_samples_split=2; total time=   0.0s\n",
      "[CV] END criterion=entropy, max_depth=20, min_samples_leaf=5, min_samples_split=5; total time=   0.0s\n",
      "[CV] END criterion=entropy, max_depth=20, min_samples_leaf=5, min_samples_split=5; total time=   0.0s\n",
      "[CV] END criterion=entropy, max_depth=20, min_samples_leaf=5, min_samples_split=5; total time=   0.0s\n",
      "[CV] END criterion=entropy, max_depth=20, min_samples_leaf=5, min_samples_split=5; total time=   0.0s\n",
      "[CV] END criterion=entropy, max_depth=20, min_samples_leaf=5, min_samples_split=5; total time=   0.0s\n",
      "[CV] END criterion=entropy, max_depth=20, min_samples_leaf=5, min_samples_split=10; total time=   0.0s\n",
      "[CV] END criterion=entropy, max_depth=20, min_samples_leaf=5, min_samples_split=10; total time=   0.0s\n",
      "[CV] END criterion=entropy, max_depth=20, min_samples_leaf=5, min_samples_split=10; total time=   0.0s\n",
      "[CV] END criterion=entropy, max_depth=20, min_samples_leaf=5, min_samples_split=10; total time=   0.0s\n",
      "[CV] END criterion=entropy, max_depth=20, min_samples_leaf=5, min_samples_split=10; total time=   0.0s\n",
      "[CV] END criterion=entropy, max_depth=20, min_samples_leaf=5, min_samples_split=20; total time=   0.0s\n",
      "[CV] END criterion=entropy, max_depth=20, min_samples_leaf=5, min_samples_split=20; total time=   0.0s\n",
      "[CV] END criterion=entropy, max_depth=20, min_samples_leaf=5, min_samples_split=20; total time=   0.0s\n",
      "[CV] END criterion=entropy, max_depth=20, min_samples_leaf=5, min_samples_split=20; total time=   0.0s\n",
      "[CV] END criterion=entropy, max_depth=20, min_samples_leaf=5, min_samples_split=20; total time=   0.0s\n",
      "[CV] END criterion=entropy, max_depth=40, min_samples_leaf=1, min_samples_split=10; total time=   0.0s\n",
      "[CV] END criterion=entropy, max_depth=40, min_samples_leaf=1, min_samples_split=10; total time=   0.0s\n",
      "[CV] END criterion=entropy, max_depth=40, min_samples_leaf=1, min_samples_split=10; total time=   0.0s\n",
      "[CV] END criterion=entropy, max_depth=40, min_samples_leaf=1, min_samples_split=20; total time=   0.0s\n",
      "[CV] END criterion=entropy, max_depth=40, min_samples_leaf=1, min_samples_split=20; total time=   0.0s\n",
      "[CV] END criterion=entropy, max_depth=40, min_samples_leaf=1, min_samples_split=20; total time=   0.0s\n",
      "[CV] END criterion=entropy, max_depth=40, min_samples_leaf=1, min_samples_split=20; total time=   0.0s\n",
      "[CV] END criterion=entropy, max_depth=40, min_samples_leaf=1, min_samples_split=20; total time=   0.0s\n",
      "[CV] END criterion=entropy, max_depth=40, min_samples_leaf=2, min_samples_split=2; total time=   0.0s\n",
      "[CV] END criterion=entropy, max_depth=40, min_samples_leaf=2, min_samples_split=2; total time=   0.0s\n",
      "[CV] END criterion=entropy, max_depth=40, min_samples_leaf=2, min_samples_split=2; total time=   0.0s\n",
      "[CV] END criterion=entropy, max_depth=40, min_samples_leaf=2, min_samples_split=2; total time=   0.0s\n",
      "[CV] END criterion=entropy, max_depth=40, min_samples_leaf=2, min_samples_split=2; total time=   0.0s\n",
      "[CV] END criterion=entropy, max_depth=40, min_samples_leaf=2, min_samples_split=5; total time=   0.0s\n",
      "[CV] END criterion=entropy, max_depth=40, min_samples_leaf=2, min_samples_split=5; total time=   0.0s\n",
      "[CV] END criterion=entropy, max_depth=40, min_samples_leaf=2, min_samples_split=5; total time=   0.0s\n",
      "[CV] END ................learning_rate=0.01, n_estimators=30; total time=   0.1s\n",
      "[CV] END ...............learning_rate=0.01, n_estimators=100; total time=   2.0s\n",
      "[CV] END .................learning_rate=0.5, n_estimators=30; total time=   0.7s\n",
      "[CV] END .................learning_rate=0.5, n_estimators=30; total time=   0.4s\n",
      "[CV] END ................learning_rate=0.5, n_estimators=100; total time=   2.4s\n",
      "[CV] END ................learning_rate=0.5, n_estimators=100; total time=   2.3s\n",
      "[CV] END ...................learning_rate=2, n_estimators=30; total time=   0.5s\n",
      "[CV] END ...................learning_rate=2, n_estimators=30; total time=   0.6s\n",
      "[CV] END ...................learning_rate=2, n_estimators=50; total time=   0.9s\n",
      "[CV] END ..................learning_rate=2, n_estimators=150; total time=   2.5s\n",
      "[CV] END ..................learning_rate=5, n_estimators=150; total time=   2.1s\n",
      "[CV] END criterion=gini, max_depth=None, min_samples_leaf=5, min_samples_split=2; total time=   0.0s\n",
      "[CV] END criterion=gini, max_depth=None, min_samples_leaf=5, min_samples_split=5; total time=   0.0s\n",
      "[CV] END criterion=gini, max_depth=None, min_samples_leaf=5, min_samples_split=10; total time=   0.0s\n",
      "[CV] END criterion=gini, max_depth=None, min_samples_leaf=5, min_samples_split=20; total time=   0.0s\n",
      "[CV] END criterion=gini, max_depth=10, min_samples_leaf=1, min_samples_split=5; total time=   0.0s\n",
      "[CV] END criterion=gini, max_depth=10, min_samples_leaf=1, min_samples_split=5; total time=   0.0s\n",
      "[CV] END criterion=gini, max_depth=10, min_samples_leaf=1, min_samples_split=10; total time=   0.0s\n",
      "[CV] END criterion=gini, max_depth=10, min_samples_leaf=1, min_samples_split=10; total time=   0.0s\n",
      "[CV] END criterion=gini, max_depth=10, min_samples_leaf=10, min_samples_split=5; total time=   0.0s\n",
      "[CV] END criterion=gini, max_depth=10, min_samples_leaf=10, min_samples_split=5; total time=   0.0s\n",
      "[CV] END criterion=gini, max_depth=10, min_samples_leaf=10, min_samples_split=10; total time=   0.0s\n",
      "[CV] END criterion=gini, max_depth=10, min_samples_leaf=10, min_samples_split=10; total time=   0.0s\n",
      "[CV] END criterion=gini, max_depth=10, min_samples_leaf=10, min_samples_split=10; total time=   0.0s\n",
      "[CV] END criterion=gini, max_depth=10, min_samples_leaf=10, min_samples_split=10; total time=   0.0s\n",
      "[CV] END criterion=gini, max_depth=10, min_samples_leaf=10, min_samples_split=10; total time=   0.0s\n",
      "[CV] END criterion=gini, max_depth=10, min_samples_leaf=10, min_samples_split=20; total time=   0.0s\n",
      "[CV] END criterion=gini, max_depth=20, min_samples_leaf=10, min_samples_split=2; total time=   0.0s\n",
      "[CV] END criterion=entropy, max_depth=None, min_samples_leaf=1, min_samples_split=10; total time=   0.0s\n",
      "[CV] END criterion=entropy, max_depth=None, min_samples_leaf=1, min_samples_split=10; total time=   0.0s\n",
      "[CV] END criterion=entropy, max_depth=10, min_samples_leaf=10, min_samples_split=20; total time=   0.0s\n",
      "[CV] END criterion=entropy, max_depth=10, min_samples_leaf=10, min_samples_split=20; total time=   0.0s\n",
      "[CV] END criterion=entropy, max_depth=10, min_samples_leaf=10, min_samples_split=20; total time=   0.0s\n",
      "[CV] END criterion=entropy, max_depth=10, min_samples_leaf=10, min_samples_split=20; total time=   0.0s\n",
      "[CV] END criterion=entropy, max_depth=20, min_samples_leaf=1, min_samples_split=2; total time=   0.0s\n",
      "[CV] END criterion=entropy, max_depth=20, min_samples_leaf=1, min_samples_split=2; total time=   0.0s\n",
      "[CV] END criterion=entropy, max_depth=20, min_samples_leaf=1, min_samples_split=2; total time=   0.0s\n",
      "[CV] END criterion=entropy, max_depth=20, min_samples_leaf=1, min_samples_split=2; total time=   0.1s\n",
      "[CV] END criterion=entropy, max_depth=20, min_samples_leaf=1, min_samples_split=2; total time=   0.0s\n",
      "[CV] END criterion=entropy, max_depth=20, min_samples_leaf=1, min_samples_split=5; total time=   0.0s\n",
      "[CV] END criterion=entropy, max_depth=20, min_samples_leaf=1, min_samples_split=5; total time=   0.0s\n",
      "[CV] END criterion=entropy, max_depth=20, min_samples_leaf=1, min_samples_split=5; total time=   0.0s\n",
      "[CV] END criterion=entropy, max_depth=20, min_samples_leaf=1, min_samples_split=5; total time=   0.0s\n",
      "[CV] END criterion=entropy, max_depth=20, min_samples_leaf=1, min_samples_split=5; total time=   0.0s\n",
      "[CV] END criterion=entropy, max_depth=20, min_samples_leaf=1, min_samples_split=10; total time=   0.0s\n",
      "[CV] END criterion=entropy, max_depth=20, min_samples_leaf=1, min_samples_split=10; total time=   0.0s\n",
      "[CV] END criterion=entropy, max_depth=50, min_samples_leaf=1, min_samples_split=10; total time=   0.0s\n",
      "[CV] END criterion=entropy, max_depth=50, min_samples_leaf=1, min_samples_split=10; total time=   0.0s\n",
      "[CV] END criterion=entropy, max_depth=50, min_samples_leaf=1, min_samples_split=10; total time=   0.0s\n",
      "[CV] END criterion=entropy, max_depth=50, min_samples_leaf=1, min_samples_split=20; total time=   0.0s\n",
      "[CV] END criterion=entropy, max_depth=50, min_samples_leaf=1, min_samples_split=20; total time=   0.0s\n",
      "[CV] END criterion=entropy, max_depth=50, min_samples_leaf=1, min_samples_split=20; total time=   0.0s\n",
      "[CV] END criterion=entropy, max_depth=50, min_samples_leaf=1, min_samples_split=20; total time=   0.0s\n",
      "[CV] END criterion=entropy, max_depth=50, min_samples_leaf=1, min_samples_split=20; total time=   0.0s\n",
      "[CV] END criterion=entropy, max_depth=50, min_samples_leaf=2, min_samples_split=2; total time=   0.0s\n",
      "[CV] END criterion=entropy, max_depth=50, min_samples_leaf=2, min_samples_split=2; total time=   0.0s\n",
      "[CV] END criterion=entropy, max_depth=50, min_samples_leaf=2, min_samples_split=2; total time=   0.0s\n",
      "[CV] END criterion=entropy, max_depth=50, min_samples_leaf=2, min_samples_split=2; total time=   0.0s\n",
      "[CV] END criterion=entropy, max_depth=50, min_samples_leaf=2, min_samples_split=2; total time=   0.0s\n",
      "[CV] END criterion=entropy, max_depth=50, min_samples_leaf=2, min_samples_split=5; total time=   0.0s\n",
      "[CV] END criterion=entropy, max_depth=50, min_samples_leaf=2, min_samples_split=5; total time=   0.0s\n",
      "[CV] END criterion=entropy, max_depth=50, min_samples_leaf=2, min_samples_split=5; total time=   0.0s\n",
      "[CV] END ................learning_rate=0.01, n_estimators=50; total time=   0.1s\n",
      "[CV] END ...............learning_rate=0.01, n_estimators=100; total time=   0.1s\n",
      "[CV] END ...............learning_rate=0.01, n_estimators=150; total time=   3.0s\n",
      "[CV] END ................learning_rate=0.5, n_estimators=100; total time=   2.5s\n",
      "[CV] END ................learning_rate=0.5, n_estimators=100; total time=   2.3s\n",
      "[CV] END ..................learning_rate=1, n_estimators=150; total time=   0.5s\n",
      "[CV] END ..................learning_rate=1, n_estimators=150; total time=   0.3s\n",
      "[CV] END ...................learning_rate=2, n_estimators=30; total time=   0.5s\n",
      "[CV] END ...................learning_rate=2, n_estimators=50; total time=   0.8s\n",
      "[CV] END ..................learning_rate=2, n_estimators=150; total time=   2.7s\n",
      "[CV] END ..................learning_rate=5, n_estimators=100; total time=   1.6s\n",
      "[CV] END criterion=gini, max_depth=None, min_samples_leaf=1, min_samples_split=2; total time=   0.0s\n",
      "[CV] END criterion=gini, max_depth=None, min_samples_leaf=1, min_samples_split=10; total time=   0.0s\n",
      "[CV] END criterion=gini, max_depth=None, min_samples_leaf=1, min_samples_split=20; total time=   0.0s\n",
      "[CV] END criterion=gini, max_depth=None, min_samples_leaf=2, min_samples_split=10; total time=   0.0s\n",
      "[CV] END criterion=gini, max_depth=None, min_samples_leaf=2, min_samples_split=20; total time=   0.0s\n",
      "[CV] END criterion=gini, max_depth=None, min_samples_leaf=5, min_samples_split=5; total time=   0.0s\n",
      "[CV] END criterion=gini, max_depth=None, min_samples_leaf=5, min_samples_split=5; total time=   0.1s\n",
      "[CV] END criterion=gini, max_depth=10, min_samples_leaf=1, min_samples_split=5; total time=   0.0s\n",
      "[CV] END criterion=gini, max_depth=10, min_samples_leaf=1, min_samples_split=5; total time=   0.0s\n",
      "[CV] END criterion=gini, max_depth=10, min_samples_leaf=1, min_samples_split=10; total time=   0.0s\n",
      "[CV] END criterion=gini, max_depth=10, min_samples_leaf=1, min_samples_split=10; total time=   0.0s\n",
      "[CV] END criterion=gini, max_depth=10, min_samples_leaf=10, min_samples_split=20; total time=   0.0s\n",
      "[CV] END criterion=gini, max_depth=10, min_samples_leaf=10, min_samples_split=20; total time=   0.0s\n",
      "[CV] END criterion=gini, max_depth=10, min_samples_leaf=10, min_samples_split=20; total time=   0.0s\n",
      "[CV] END criterion=gini, max_depth=10, min_samples_leaf=10, min_samples_split=20; total time=   0.0s\n",
      "[CV] END criterion=gini, max_depth=20, min_samples_leaf=1, min_samples_split=2; total time=   0.0s\n",
      "[CV] END criterion=gini, max_depth=20, min_samples_leaf=1, min_samples_split=2; total time=   0.0s\n",
      "[CV] END criterion=gini, max_depth=20, min_samples_leaf=1, min_samples_split=2; total time=   0.0s\n",
      "[CV] END criterion=gini, max_depth=20, min_samples_leaf=1, min_samples_split=2; total time=   0.0s\n",
      "[CV] END criterion=gini, max_depth=30, min_samples_leaf=1, min_samples_split=2; total time=   0.0s\n",
      "[CV] END criterion=gini, max_depth=30, min_samples_leaf=1, min_samples_split=5; total time=   0.0s\n",
      "[CV] END criterion=gini, max_depth=30, min_samples_leaf=1, min_samples_split=5; total time=   0.0s\n",
      "[CV] END criterion=gini, max_depth=30, min_samples_leaf=1, min_samples_split=5; total time=   0.0s\n",
      "[CV] END criterion=gini, max_depth=30, min_samples_leaf=1, min_samples_split=5; total time=   0.0s\n",
      "[CV] END criterion=gini, max_depth=30, min_samples_leaf=1, min_samples_split=5; total time=   0.0s\n",
      "[CV] END criterion=gini, max_depth=30, min_samples_leaf=1, min_samples_split=10; total time=   0.1s\n",
      "[CV] END criterion=gini, max_depth=30, min_samples_leaf=1, min_samples_split=10; total time=   0.0s\n",
      "[CV] END criterion=gini, max_depth=40, min_samples_leaf=5, min_samples_split=2; total time=   0.0s\n",
      "[CV] END criterion=gini, max_depth=40, min_samples_leaf=5, min_samples_split=5; total time=   0.0s\n",
      "[CV] END criterion=gini, max_depth=40, min_samples_leaf=5, min_samples_split=5; total time=   0.0s\n",
      "[CV] END criterion=gini, max_depth=40, min_samples_leaf=5, min_samples_split=5; total time=   0.0s\n",
      "[CV] END criterion=gini, max_depth=40, min_samples_leaf=5, min_samples_split=5; total time=   0.0s\n",
      "[CV] END criterion=gini, max_depth=40, min_samples_leaf=5, min_samples_split=5; total time=   0.0s\n",
      "[CV] END criterion=gini, max_depth=40, min_samples_leaf=5, min_samples_split=10; total time=   0.0s\n",
      "[CV] END criterion=gini, max_depth=40, min_samples_leaf=5, min_samples_split=10; total time=   0.0s\n",
      "[CV] END criterion=gini, max_depth=40, min_samples_leaf=5, min_samples_split=10; total time=   0.0s\n",
      "[CV] END criterion=gini, max_depth=40, min_samples_leaf=5, min_samples_split=10; total time=   0.0s\n",
      "[CV] END criterion=gini, max_depth=40, min_samples_leaf=5, min_samples_split=10; total time=   0.0s\n",
      "[CV] END criterion=gini, max_depth=40, min_samples_leaf=5, min_samples_split=20; total time=   0.0s\n",
      "[CV] END criterion=gini, max_depth=40, min_samples_leaf=5, min_samples_split=20; total time=   0.0s\n",
      "[CV] END criterion=gini, max_depth=40, min_samples_leaf=5, min_samples_split=20; total time=   0.0s\n",
      "[CV] END criterion=gini, max_depth=40, min_samples_leaf=5, min_samples_split=20; total time=   0.0s\n",
      "[CV] END criterion=gini, max_depth=40, min_samples_leaf=5, min_samples_split=20; total time=   0.0s\n",
      "[CV] END criterion=entropy, max_depth=None, min_samples_leaf=2, min_samples_split=5; total time=   0.0s\n",
      "[CV] END criterion=entropy, max_depth=None, min_samples_leaf=2, min_samples_split=5; total time=   0.0s\n",
      "[CV] END criterion=entropy, max_depth=None, min_samples_leaf=2, min_samples_split=10; total time=   0.0s\n",
      "[CV] END criterion=entropy, max_depth=None, min_samples_leaf=2, min_samples_split=10; total time=   0.0s\n",
      "[CV] END criterion=entropy, max_depth=None, min_samples_leaf=2, min_samples_split=10; total time=   0.0s\n",
      "[CV] END criterion=entropy, max_depth=None, min_samples_leaf=2, min_samples_split=10; total time=   0.0s\n",
      "[CV] END criterion=entropy, max_depth=None, min_samples_leaf=2, min_samples_split=10; total time=   0.0s\n",
      "[CV] END criterion=entropy, max_depth=None, min_samples_leaf=2, min_samples_split=20; total time=   0.0s\n",
      "[CV] END criterion=entropy, max_depth=None, min_samples_leaf=2, min_samples_split=20; total time=   0.0s\n",
      "[CV] END criterion=entropy, max_depth=None, min_samples_leaf=2, min_samples_split=20; total time=   0.0s\n",
      "[CV] END criterion=entropy, max_depth=None, min_samples_leaf=2, min_samples_split=20; total time=   0.0s\n",
      "[CV] END criterion=entropy, max_depth=None, min_samples_leaf=2, min_samples_split=20; total time=   0.0s\n",
      "[CV] END criterion=entropy, max_depth=None, min_samples_leaf=5, min_samples_split=2; total time=   0.0s\n",
      "[CV] END criterion=entropy, max_depth=None, min_samples_leaf=5, min_samples_split=2; total time=   0.0s\n",
      "[CV] END criterion=entropy, max_depth=None, min_samples_leaf=5, min_samples_split=2; total time=   0.0s\n",
      "[CV] END criterion=entropy, max_depth=None, min_samples_leaf=5, min_samples_split=2; total time=   0.0s\n",
      "[CV] END criterion=entropy, max_depth=20, min_samples_leaf=10, min_samples_split=2; total time=   0.0s\n",
      "[CV] END criterion=entropy, max_depth=20, min_samples_leaf=10, min_samples_split=2; total time=   0.0s\n",
      "[CV] END criterion=entropy, max_depth=20, min_samples_leaf=10, min_samples_split=2; total time=   0.0s\n",
      "[CV] END criterion=entropy, max_depth=20, min_samples_leaf=10, min_samples_split=2; total time=   0.0s\n",
      "[CV] END criterion=entropy, max_depth=20, min_samples_leaf=10, min_samples_split=2; total time=   0.0s\n",
      "[CV] END criterion=entropy, max_depth=20, min_samples_leaf=10, min_samples_split=5; total time=   0.0s\n",
      "[CV] END criterion=entropy, max_depth=20, min_samples_leaf=10, min_samples_split=5; total time=   0.0s\n",
      "[CV] END criterion=entropy, max_depth=20, min_samples_leaf=10, min_samples_split=5; total time=   0.0s\n",
      "[CV] END criterion=entropy, max_depth=20, min_samples_leaf=10, min_samples_split=5; total time=   0.0s\n",
      "[CV] END criterion=entropy, max_depth=20, min_samples_leaf=10, min_samples_split=5; total time=   0.0s\n",
      "[CV] END criterion=entropy, max_depth=20, min_samples_leaf=10, min_samples_split=10; total time=   0.0s\n",
      "[CV] END criterion=entropy, max_depth=20, min_samples_leaf=10, min_samples_split=10; total time=   0.0s\n",
      "[CV] END criterion=entropy, max_depth=20, min_samples_leaf=10, min_samples_split=10; total time=   0.0s\n",
      "[CV] END criterion=entropy, max_depth=20, min_samples_leaf=10, min_samples_split=10; total time=   0.0s\n",
      "[CV] END criterion=entropy, max_depth=20, min_samples_leaf=10, min_samples_split=10; total time=   0.0s\n",
      "[CV] END criterion=entropy, max_depth=20, min_samples_leaf=10, min_samples_split=20; total time=   0.0s\n",
      "[CV] END criterion=entropy, max_depth=30, min_samples_leaf=10, min_samples_split=20; total time=   0.0s\n",
      "[CV] END criterion=entropy, max_depth=30, min_samples_leaf=10, min_samples_split=20; total time=   0.0s\n",
      "[CV] END criterion=entropy, max_depth=30, min_samples_leaf=10, min_samples_split=20; total time=   0.0s\n",
      "[CV] END criterion=entropy, max_depth=30, min_samples_leaf=10, min_samples_split=20; total time=   0.0s\n",
      "[CV] END criterion=entropy, max_depth=40, min_samples_leaf=1, min_samples_split=2; total time=   0.0s\n",
      "[CV] END criterion=entropy, max_depth=40, min_samples_leaf=1, min_samples_split=2; total time=   0.0s\n",
      "[CV] END criterion=entropy, max_depth=40, min_samples_leaf=1, min_samples_split=2; total time=   0.0s\n",
      "[CV] END criterion=entropy, max_depth=40, min_samples_leaf=1, min_samples_split=2; total time=   0.0s\n",
      "[CV] END criterion=entropy, max_depth=40, min_samples_leaf=1, min_samples_split=2; total time=   0.0s\n",
      "[CV] END criterion=entropy, max_depth=40, min_samples_leaf=1, min_samples_split=5; total time=   0.0s\n",
      "[CV] END criterion=entropy, max_depth=40, min_samples_leaf=1, min_samples_split=5; total time=   0.0s\n",
      "[CV] END criterion=entropy, max_depth=40, min_samples_leaf=1, min_samples_split=5; total time=   0.0s\n",
      "[CV] END criterion=entropy, max_depth=40, min_samples_leaf=1, min_samples_split=5; total time=   0.0s\n",
      "[CV] END criterion=entropy, max_depth=40, min_samples_leaf=1, min_samples_split=5; total time=   0.0s\n",
      "[CV] END criterion=entropy, max_depth=40, min_samples_leaf=1, min_samples_split=10; total time=   0.0s\n",
      "[CV] END criterion=entropy, max_depth=40, min_samples_leaf=1, min_samples_split=10; total time=   0.0s\n",
      "[CV] END ................learning_rate=0.01, n_estimators=50; total time=   1.0s\n",
      "[CV] END ................learning_rate=0.1, n_estimators=100; total time=   2.4s\n",
      "[CV] END ................learning_rate=0.1, n_estimators=150; total time=   3.5s\n",
      "[CV] END ..................learning_rate=1, n_estimators=100; total time=   1.9s\n",
      "[CV] END ..................learning_rate=1, n_estimators=100; total time=   1.8s\n",
      "[CV] END ..................learning_rate=2, n_estimators=150; total time=   2.3s\n",
      "[CV] END ..................learning_rate=5, n_estimators=150; total time=   2.0s\n",
      "[CV] END criterion=gini, max_depth=None, min_samples_leaf=2, min_samples_split=10; total time=   0.0s\n",
      "[CV] END criterion=gini, max_depth=None, min_samples_leaf=2, min_samples_split=10; total time=   0.0s\n",
      "[CV] END criterion=gini, max_depth=None, min_samples_leaf=10, min_samples_split=2; total time=   0.0s\n",
      "[CV] END criterion=gini, max_depth=None, min_samples_leaf=10, min_samples_split=2; total time=   0.0s\n",
      "[CV] END criterion=gini, max_depth=None, min_samples_leaf=10, min_samples_split=2; total time=   0.0s\n",
      "[CV] END criterion=gini, max_depth=None, min_samples_leaf=10, min_samples_split=2; total time=   0.0s\n",
      "[CV] END criterion=gini, max_depth=10, min_samples_leaf=2, min_samples_split=2; total time=   0.0s\n",
      "[CV] END criterion=gini, max_depth=10, min_samples_leaf=2, min_samples_split=2; total time=   0.0s\n",
      "[CV] END criterion=gini, max_depth=10, min_samples_leaf=2, min_samples_split=2; total time=   0.0s\n",
      "[CV] END criterion=gini, max_depth=10, min_samples_leaf=2, min_samples_split=2; total time=   0.0s\n",
      "[CV] END criterion=gini, max_depth=10, min_samples_leaf=5, min_samples_split=20; total time=   0.0s\n",
      "[CV] END criterion=gini, max_depth=10, min_samples_leaf=5, min_samples_split=20; total time=   0.0s\n",
      "[CV] END criterion=gini, max_depth=10, min_samples_leaf=5, min_samples_split=20; total time=   0.0s\n",
      "[CV] END criterion=gini, max_depth=10, min_samples_leaf=5, min_samples_split=20; total time=   0.0s\n",
      "[CV] END criterion=gini, max_depth=20, min_samples_leaf=2, min_samples_split=5; total time=   0.0s\n",
      "[CV] END criterion=gini, max_depth=20, min_samples_leaf=2, min_samples_split=5; total time=   0.0s\n",
      "[CV] END criterion=gini, max_depth=20, min_samples_leaf=2, min_samples_split=10; total time=   0.0s\n",
      "[CV] END criterion=gini, max_depth=20, min_samples_leaf=2, min_samples_split=10; total time=   0.0s\n",
      "[CV] END criterion=gini, max_depth=20, min_samples_leaf=2, min_samples_split=10; total time=   0.0s\n",
      "[CV] END criterion=gini, max_depth=20, min_samples_leaf=2, min_samples_split=10; total time=   0.0s\n",
      "[CV] END criterion=gini, max_depth=20, min_samples_leaf=2, min_samples_split=10; total time=   0.0s\n",
      "Best parameters: {'learning_rate': 2, 'n_estimators': 150}\n",
      "Best cross-validated score: 0.8390296264491198\n"
     ]
    }
   ],
   "source": [
    "param_grid = {\n",
    "    'n_estimators': [30,50,100,150],\n",
    "    'learning_rate': [0.01,0.1, 0.5, 1, 2, 5]\n",
    "}\n",
    "\n",
    "grid_search = GridSearchCV(AdaBoostClassifier(\n",
    "    estimator=DecisionTreeClassifier(\n",
    "        criterion='gini',\n",
    "        max_depth=30,\n",
    "        min_samples_leaf=1,\n",
    "        min_samples_split=5\n",
    "    )\n",
    "), param_grid, cv=5, n_jobs=-1, scoring='accuracy', verbose=2)\n",
    "\n",
    "grid_search.fit(X_train, y_train)\n",
    "\n",
    "print(\"Best parameters:\", grid_search.best_params_)\n",
    "print(\"Best cross-validated score:\", grid_search.best_score_)"
   ],
   "metadata": {
    "collapsed": false,
    "ExecuteTime": {
     "end_time": "2024-03-06T09:36:05.355724Z",
     "start_time": "2024-03-06T09:35:48.485924Z"
    }
   },
   "id": "e7da0977075301d2",
   "execution_count": 70
  },
  {
   "cell_type": "code",
   "outputs": [
    {
     "data": {
      "text/plain": "AdaBoostClassifier(estimator=DecisionTreeClassifier(max_depth=30,\n                                                    min_samples_split=5),\n                   learning_rate=2, n_estimators=100)",
      "text/html": "<style>#sk-container-id-9 {color: black;}#sk-container-id-9 pre{padding: 0;}#sk-container-id-9 div.sk-toggleable {background-color: white;}#sk-container-id-9 label.sk-toggleable__label {cursor: pointer;display: block;width: 100%;margin-bottom: 0;padding: 0.3em;box-sizing: border-box;text-align: center;}#sk-container-id-9 label.sk-toggleable__label-arrow:before {content: \"▸\";float: left;margin-right: 0.25em;color: #696969;}#sk-container-id-9 label.sk-toggleable__label-arrow:hover:before {color: black;}#sk-container-id-9 div.sk-estimator:hover label.sk-toggleable__label-arrow:before {color: black;}#sk-container-id-9 div.sk-toggleable__content {max-height: 0;max-width: 0;overflow: hidden;text-align: left;background-color: #f0f8ff;}#sk-container-id-9 div.sk-toggleable__content pre {margin: 0.2em;color: black;border-radius: 0.25em;background-color: #f0f8ff;}#sk-container-id-9 input.sk-toggleable__control:checked~div.sk-toggleable__content {max-height: 200px;max-width: 100%;overflow: auto;}#sk-container-id-9 input.sk-toggleable__control:checked~label.sk-toggleable__label-arrow:before {content: \"▾\";}#sk-container-id-9 div.sk-estimator input.sk-toggleable__control:checked~label.sk-toggleable__label {background-color: #d4ebff;}#sk-container-id-9 div.sk-label input.sk-toggleable__control:checked~label.sk-toggleable__label {background-color: #d4ebff;}#sk-container-id-9 input.sk-hidden--visually {border: 0;clip: rect(1px 1px 1px 1px);clip: rect(1px, 1px, 1px, 1px);height: 1px;margin: -1px;overflow: hidden;padding: 0;position: absolute;width: 1px;}#sk-container-id-9 div.sk-estimator {font-family: monospace;background-color: #f0f8ff;border: 1px dotted black;border-radius: 0.25em;box-sizing: border-box;margin-bottom: 0.5em;}#sk-container-id-9 div.sk-estimator:hover {background-color: #d4ebff;}#sk-container-id-9 div.sk-parallel-item::after {content: \"\";width: 100%;border-bottom: 1px solid gray;flex-grow: 1;}#sk-container-id-9 div.sk-label:hover label.sk-toggleable__label {background-color: #d4ebff;}#sk-container-id-9 div.sk-serial::before {content: \"\";position: absolute;border-left: 1px solid gray;box-sizing: border-box;top: 0;bottom: 0;left: 50%;z-index: 0;}#sk-container-id-9 div.sk-serial {display: flex;flex-direction: column;align-items: center;background-color: white;padding-right: 0.2em;padding-left: 0.2em;position: relative;}#sk-container-id-9 div.sk-item {position: relative;z-index: 1;}#sk-container-id-9 div.sk-parallel {display: flex;align-items: stretch;justify-content: center;background-color: white;position: relative;}#sk-container-id-9 div.sk-item::before, #sk-container-id-9 div.sk-parallel-item::before {content: \"\";position: absolute;border-left: 1px solid gray;box-sizing: border-box;top: 0;bottom: 0;left: 50%;z-index: -1;}#sk-container-id-9 div.sk-parallel-item {display: flex;flex-direction: column;z-index: 1;position: relative;background-color: white;}#sk-container-id-9 div.sk-parallel-item:first-child::after {align-self: flex-end;width: 50%;}#sk-container-id-9 div.sk-parallel-item:last-child::after {align-self: flex-start;width: 50%;}#sk-container-id-9 div.sk-parallel-item:only-child::after {width: 0;}#sk-container-id-9 div.sk-dashed-wrapped {border: 1px dashed gray;margin: 0 0.4em 0.5em 0.4em;box-sizing: border-box;padding-bottom: 0.4em;background-color: white;}#sk-container-id-9 div.sk-label label {font-family: monospace;font-weight: bold;display: inline-block;line-height: 1.2em;}#sk-container-id-9 div.sk-label-container {text-align: center;}#sk-container-id-9 div.sk-container {/* jupyter's `normalize.less` sets `[hidden] { display: none; }` but bootstrap.min.css set `[hidden] { display: none !important; }` so we also need the `!important` here to be able to override the default hidden behavior on the sphinx rendered scikit-learn.org. See: https://github.com/scikit-learn/scikit-learn/issues/21755 */display: inline-block !important;position: relative;}#sk-container-id-9 div.sk-text-repr-fallback {display: none;}</style><div id=\"sk-container-id-9\" class=\"sk-top-container\"><div class=\"sk-text-repr-fallback\"><pre>AdaBoostClassifier(estimator=DecisionTreeClassifier(max_depth=30,\n                                                    min_samples_split=5),\n                   learning_rate=2, n_estimators=100)</pre><b>In a Jupyter environment, please rerun this cell to show the HTML representation or trust the notebook. <br />On GitHub, the HTML representation is unable to render, please try loading this page with nbviewer.org.</b></div><div class=\"sk-container\" hidden><div class=\"sk-item sk-dashed-wrapped\"><div class=\"sk-label-container\"><div class=\"sk-label sk-toggleable\"><input class=\"sk-toggleable__control sk-hidden--visually\" id=\"sk-estimator-id-17\" type=\"checkbox\" ><label for=\"sk-estimator-id-17\" class=\"sk-toggleable__label sk-toggleable__label-arrow\">AdaBoostClassifier</label><div class=\"sk-toggleable__content\"><pre>AdaBoostClassifier(estimator=DecisionTreeClassifier(max_depth=30,\n                                                    min_samples_split=5),\n                   learning_rate=2, n_estimators=100)</pre></div></div></div><div class=\"sk-parallel\"><div class=\"sk-parallel-item\"><div class=\"sk-item\"><div class=\"sk-label-container\"><div class=\"sk-label sk-toggleable\"><input class=\"sk-toggleable__control sk-hidden--visually\" id=\"sk-estimator-id-18\" type=\"checkbox\" ><label for=\"sk-estimator-id-18\" class=\"sk-toggleable__label sk-toggleable__label-arrow\">estimator: DecisionTreeClassifier</label><div class=\"sk-toggleable__content\"><pre>DecisionTreeClassifier(max_depth=30, min_samples_split=5)</pre></div></div></div><div class=\"sk-serial\"><div class=\"sk-item\"><div class=\"sk-estimator sk-toggleable\"><input class=\"sk-toggleable__control sk-hidden--visually\" id=\"sk-estimator-id-19\" type=\"checkbox\" ><label for=\"sk-estimator-id-19\" class=\"sk-toggleable__label sk-toggleable__label-arrow\">DecisionTreeClassifier</label><div class=\"sk-toggleable__content\"><pre>DecisionTreeClassifier(max_depth=30, min_samples_split=5)</pre></div></div></div></div></div></div></div></div></div></div>"
     },
     "execution_count": 71,
     "metadata": {},
     "output_type": "execute_result"
    }
   ],
   "source": [
    "ada_model = AdaBoostClassifier(\n",
    "    estimator=DecisionTreeClassifier(\n",
    "        criterion='gini',\n",
    "        max_depth=30,\n",
    "        min_samples_leaf=1,\n",
    "        min_samples_split=5\n",
    "    ),\n",
    "    n_estimators=100,\n",
    "    learning_rate=2\n",
    ")\n",
    "ada_model.fit(X_train, y_train)"
   ],
   "metadata": {
    "collapsed": false,
    "ExecuteTime": {
     "end_time": "2024-03-06T09:36:07.073243Z",
     "start_time": "2024-03-06T09:36:05.356509Z"
    }
   },
   "id": "51c8ec7f9c554c21",
   "execution_count": 71
  },
  {
   "cell_type": "code",
   "outputs": [
    {
     "name": "stdout",
     "output_type": "stream",
     "text": [
      "Accuracy: 87.41%\n",
      "              precision    recall  f1-score   support\n",
      "\n",
      "           0       0.83      0.90      0.86       131\n",
      "           1       0.91      0.85      0.88       163\n",
      "\n",
      "    accuracy                           0.87       294\n",
      "   macro avg       0.87      0.88      0.87       294\n",
      "weighted avg       0.88      0.87      0.87       294\n"
     ]
    }
   ],
   "source": [
    "y_pred = ada_model.predict(X_test)\n",
    "print(f'Accuracy: {accuracy_score(y_test,y_pred) * 100:.2f}%')\n",
    "print(classification_report(y_test, y_pred))"
   ],
   "metadata": {
    "collapsed": false,
    "ExecuteTime": {
     "end_time": "2024-03-06T09:36:07.089337Z",
     "start_time": "2024-03-06T09:36:07.073942Z"
    }
   },
   "id": "c0913b6b39f07edf",
   "execution_count": 72
  },
  {
   "cell_type": "code",
   "outputs": [
    {
     "data": {
      "text/plain": "<Figure size 1000x700 with 2 Axes>",
      "image/png": "[encoded data removed]"
     },
     "metadata": {},
     "output_type": "display_data"
    }
   ],
   "source": [
    "from sklearn.metrics import confusion_matrix\n",
    "import seaborn as sns\n",
    "import matplotlib.pyplot as plt\n",
    "\n",
    "\n",
    "# Compute the normalized confusion matrix\n",
    "cm_normalized = confusion_matrix(y_test, y_pred, normalize='true')\n",
    "\n",
    "# Convert to percentage\n",
    "cm_percentage = cm_normalized * 100\n",
    "\n",
    "# Visualize the confusion matrix as percentages\n",
    "plt.figure(figsize=(10,7))\n",
    "sns.heatmap(cm_percentage, annot=True, fmt=\".2f\", cmap=\"Blues\", xticklabels=['Non-Functional', 'Functional'], yticklabels=['Non-Functional', 'Functional'])\n",
    "plt.title('Confusion Matrix (Percentage)')\n",
    "plt.xlabel('Predicted Label')\n",
    "plt.ylabel('True Label')\n",
    "plt.show()\n"
   ],
   "metadata": {
    "collapsed": false,
    "ExecuteTime": {
     "end_time": "2024-03-06T09:36:07.186609Z",
     "start_time": "2024-03-06T09:36:07.090009Z"
    }
   },
   "id": "920fcf8f39b86270",
   "execution_count": 73
  },
  {
   "cell_type": "code",
   "outputs": [],
   "source": [
    "def predict_req(req, expected, model, vectorizer):\n",
    "    df = pd.DataFrame([req], columns=['Requirement'])\n",
    "    X = [' '.join(req_to_words(req)) for req in df['Requirement']]\n",
    "    X = vectorizer.transform(X)\n",
    "\n",
    "    prediction = model.predict(X)\n",
    "    predicted_label = 'Functional' if prediction[0] == 1 else 'Non-Functional'\n",
    "    success = predicted_label == expected\n",
    "\n",
    "    return predicted_label, success\n"
   ],
   "metadata": {
    "collapsed": false,
    "ExecuteTime": {
     "end_time": "2024-03-06T09:36:07.190247Z",
     "start_time": "2024-03-06T09:36:07.187661Z"
    }
   },
   "id": "3c0f00d3bafa287c",
   "execution_count": 74
  },
  {
   "cell_type": "code",
   "outputs": [],
   "source": [
    "def summarize_predictions(examples, model, vectorizer):\n",
    "    results = []\n",
    "    for req, expected_label in examples:\n",
    "        predicted_label, success = predict_req(req, expected_label, model, vectorizer)\n",
    "        results.append({\n",
    "            'Requirement': req,\n",
    "            'Expected Label': expected_label,\n",
    "            'Predicted Label': predicted_label,\n",
    "            'Success': success\n",
    "        })\n",
    "    return pd.DataFrame(results)"
   ],
   "metadata": {
    "collapsed": false,
    "ExecuteTime": {
     "end_time": "2024-03-06T09:36:07.194876Z",
     "start_time": "2024-03-06T09:36:07.192564Z"
    }
   },
   "id": "b4cd2a936cec1c2a",
   "execution_count": 75
  },
  {
   "cell_type": "code",
   "outputs": [],
   "source": [
    "examples = [\n",
    "    (\"The system shall provide a login form that accepts a username and password.\", 'Functional'),\n",
    "    (\"The application must ensure that response times are less than 2 seconds under normal load conditions.\", 'Non-Functional'),\n",
    "    (\"All user passwords shall be encrypted before saving to the database.\", 'Functional'),\n",
    "    (\"The software should be compatible with the Windows 10 operating system.\", 'Non-Functional'),\n",
    "    (\"The interface shall refresh when new data is available.\", 'Functional'),\n",
    "    (\"The product shall comply with international accessibility standards.\", 'Non-Functional'),\n",
    "    (\"Database backup shall occur every 24 hours automatically.\", 'Functional'),\n",
    "    (\"The system shall support a minimum of 500 concurrent user connections.\", 'Functional'),\n",
    "    (\"The system’s mean time to failure shall be at least 10,000 hours.\", 'Non-Functional'),\n",
    "    (\"Users must be able to complete the primary workflow in less than three minutes.\", 'Non-Functional'),\n",
    "    (\"User settings must be retained for at least one year without login.\", 'Non-Functional'),\n",
    "    (\"The system must support multi-language interfaces.\", 'Functional'),\n",
    "    (\"Ensure data integrity during transaction processing.\", 'Functional'),\n",
    "    (\"The application should load the user dashboard within 3 seconds.\", 'Non-Functional'),\n",
    "    (\"Support data export to CSV and PDF formats.\", 'Functional'),\n",
    "    (\"Must be compatible with both iOS and Android operating systems.\", 'Non-Functional'),\n",
    "    (\"Implement two-factor authentication for user logins.\", 'Functional'),\n",
    "    (\"The application must be available 99.9% of the time.\", 'Non-Functional'),\n",
    "    (\"Automatically log out users after 30 minutes of inactivity.\", 'Functional'),\n",
    "    (\"The system must scale to support up to 10,000 users simultaneously.\", 'Non-Functional'),\n",
    "    (\"Provide a way to recover forgotten passwords securely.\", 'Functional'),\n",
    "    (\"The system must encrypt sensitive data both at rest and in transit.\", 'Non-Functional'),\n",
    "    (\"Support for user roles including admin, editor, and viewer.\", 'Functional'),\n",
    "    (\"Ensure the application interface adheres to the latest web accessibility guidelines.\", 'Non-Functional'),\n",
    "    (\"The software must be installable on both Windows and MacOS.\", 'Non-Functional'),\n",
    "    (\"Offer a search function that returns results within 2 seconds.\", 'Functional'),\n",
    "    (\"The mobile app should use no more than 50MB of data per hour of activity.\", 'Non-Functional'),\n",
    "    (\"The platform must integrate seamlessly with third-party email services.\", 'Functional'),\n",
    "    (\"User feedback must be addressed and incorporated within two release cycles.\", 'Non-Functional'),\n",
    "    (\"Provide detailed logging of user actions to support auditing requirements.\", 'Functional')\n",
    "]\n"
   ],
   "metadata": {
    "collapsed": false,
    "ExecuteTime": {
     "end_time": "2024-03-06T09:36:07.198897Z",
     "start_time": "2024-03-06T09:36:07.195775Z"
    }
   },
   "id": "41c45e69b8a286dd",
   "execution_count": 76
  },
  {
   "cell_type": "code",
   "outputs": [
    {
     "data": {
      "text/plain": "                                          Requirement  Expected Label  \\\n0   The system shall provide a login form that acc...      Functional   \n1   The application must ensure that response time...  Non-Functional   \n2   All user passwords shall be encrypted before s...      Functional   \n3   The software should be compatible with the Win...  Non-Functional   \n4   The interface shall refresh when new data is a...      Functional   \n5   The product shall comply with international ac...  Non-Functional   \n6   Database backup shall occur every 24 hours aut...      Functional   \n7   The system shall support a minimum of 500 conc...      Functional   \n8   The system’s mean time to failure shall be at ...  Non-Functional   \n9   Users must be able to complete the primary wor...  Non-Functional   \n10  User settings must be retained for at least on...  Non-Functional   \n11  The system must support multi-language interfa...      Functional   \n12  Ensure data integrity during transaction proce...      Functional   \n13  The application should load the user dashboard...  Non-Functional   \n14        Support data export to CSV and PDF formats.      Functional   \n15  Must be compatible with both iOS and Android o...  Non-Functional   \n16  Implement two-factor authentication for user l...      Functional   \n17  The application must be available 99.9% of the...  Non-Functional   \n18  Automatically log out users after 30 minutes o...      Functional   \n19  The system must scale to support up to 10,000 ...  Non-Functional   \n20  Provide a way to recover forgotten passwords s...      Functional   \n21  The system must encrypt sensitive data both at...  Non-Functional   \n22  Support for user roles including admin, editor...      Functional   \n23  Ensure the application interface adheres to th...  Non-Functional   \n24  The software must be installable on both Windo...  Non-Functional   \n25  Offer a search function that returns results w...      Functional   \n26  The mobile app should use no more than 50MB of...  Non-Functional   \n27  The platform must integrate seamlessly with th...      Functional   \n28  User feedback must be addressed and incorporat...  Non-Functional   \n29  Provide detailed logging of user actions to su...      Functional   \n\n   Predicted Label  Success  \n0   Non-Functional    False  \n1   Non-Functional     True  \n2       Functional     True  \n3   Non-Functional     True  \n4   Non-Functional    False  \n5   Non-Functional     True  \n6   Non-Functional    False  \n7   Non-Functional    False  \n8   Non-Functional     True  \n9   Non-Functional     True  \n10  Non-Functional     True  \n11  Non-Functional    False  \n12  Non-Functional    False  \n13      Functional    False  \n14  Non-Functional    False  \n15  Non-Functional     True  \n16      Functional     True  \n17  Non-Functional     True  \n18      Functional     True  \n19  Non-Functional     True  \n20  Non-Functional    False  \n21  Non-Functional     True  \n22      Functional     True  \n23  Non-Functional     True  \n24  Non-Functional     True  \n25      Functional     True  \n26      Functional    False  \n27  Non-Functional    False  \n28  Non-Functional     True  \n29  Non-Functional    False  ",
      "text/html": "<div>\n<style scoped>\n    .dataframe tbody tr th:only-of-type {\n        vertical-align: middle;\n    }\n\n    .dataframe tbody tr th {\n        vertical-align: top;\n    }\n\n    .dataframe thead th {\n        text-align: right;\n    }\n</style>\n<table border=\"1\" class=\"dataframe\">\n  <thead>\n    <tr style=\"text-align: right;\">\n      <th></th>\n      <th>Requirement</th>\n      <th>Expected Label</th>\n      <th>Predicted Label</th>\n      <th>Success</th>\n    </tr>\n  </thead>\n  <tbody>\n    <tr>\n      <th>0</th>\n      <td>The system shall provide a login form that acc...</td>\n      <td>Functional</td>\n      <td>Non-Functional</td>\n      <td>False</td>\n    </tr>\n    <tr>\n      <th>1</th>\n      <td>The application must ensure that response time...</td>\n      <td>Non-Functional</td>\n      <td>Non-Functional</td>\n      <td>True</td>\n    </tr>\n    <tr>\n      <th>2</th>\n      <td>All user passwords shall be encrypted before s...</td>\n      <td>Functional</td>\n      <td>Functional</td>\n      <td>True</td>\n    </tr>\n    <tr>\n      <th>3</th>\n      <td>The software should be compatible with the Win...</td>\n      <td>Non-Functional</td>\n      <td>Non-Functional</td>\n      <td>True</td>\n    </tr>\n    <tr>\n      <th>4</th>\n      <td>The interface shall refresh when new data is a...</td>\n      <td>Functional</td>\n      <td>Non-Functional</td>\n      <td>False</td>\n    </tr>\n    <tr>\n      <th>5</th>\n      <td>The product shall comply with international ac...</td>\n      <td>Non-Functional</td>\n      <td>Non-Functional</td>\n      <td>True</td>\n    </tr>\n    <tr>\n      <th>6</th>\n      <td>Database backup shall occur every 24 hours aut...</td>\n      <td>Functional</td>\n      <td>Non-Functional</td>\n      <td>False</td>\n    </tr>\n    <tr>\n      <th>7</th>\n      <td>The system shall support a minimum of 500 conc...</td>\n      <td>Functional</td>\n      <td>Non-Functional</td>\n      <td>False</td>\n    </tr>\n    <tr>\n      <th>8</th>\n      <td>The system’s mean time to failure shall be at ...</td>\n      <td>Non-Functional</td>\n      <td>Non-Functional</td>\n      <td>True</td>\n    </tr>\n    <tr>\n      <th>9</th>\n      <td>Users must be able to complete the primary wor...</td>\n      <td>Non-Functional</td>\n      <td>Non-Functional</td>\n      <td>True</td>\n    </tr>\n    <tr>\n      <th>10</th>\n      <td>User settings must be retained for at least on...</td>\n      <td>Non-Functional</td>\n      <td>Non-Functional</td>\n      <td>True</td>\n    </tr>\n    <tr>\n      <th>11</th>\n      <td>The system must support multi-language interfa...</td>\n      <td>Functional</td>\n      <td>Non-Functional</td>\n      <td>False</td>\n    </tr>\n    <tr>\n      <th>12</th>\n      <td>Ensure data integrity during transaction proce...</td>\n      <td>Functional</td>\n      <td>Non-Functional</td>\n      <td>False</td>\n    </tr>\n    <tr>\n      <th>13</th>\n      <td>The application should load the user dashboard...</td>\n      <td>Non-Functional</td>\n      <td>Functional</td>\n      <td>False</td>\n    </tr>\n    <tr>\n      <th>14</th>\n      <td>Support data export to CSV and PDF formats.</td>\n      <td>Functional</td>\n      <td>Non-Functional</td>\n      <td>False</td>\n    </tr>\n    <tr>\n      <th>15</th>\n      <td>Must be compatible with both iOS and Android o...</td>\n      <td>Non-Functional</td>\n      <td>Non-Functional</td>\n      <td>True</td>\n    </tr>\n    <tr>\n      <th>16</th>\n      <td>Implement two-factor authentication for user l...</td>\n      <td>Functional</td>\n      <td>Functional</td>\n      <td>True</td>\n    </tr>\n    <tr>\n      <th>17</th>\n      <td>The application must be available 99.9% of the...</td>\n      <td>Non-Functional</td>\n      <td>Non-Functional</td>\n      <td>True</td>\n    </tr>\n    <tr>\n      <th>18</th>\n      <td>Automatically log out users after 30 minutes o...</td>\n      <td>Functional</td>\n      <td>Functional</td>\n      <td>True</td>\n    </tr>\n    <tr>\n      <th>19</th>\n      <td>The system must scale to support up to 10,000 ...</td>\n      <td>Non-Functional</td>\n      <td>Non-Functional</td>\n      <td>True</td>\n    </tr>\n    <tr>\n      <th>20</th>\n      <td>Provide a way to recover forgotten passwords s...</td>\n      <td>Functional</td>\n      <td>Non-Functional</td>\n      <td>False</td>\n    </tr>\n    <tr>\n      <th>21</th>\n      <td>The system must encrypt sensitive data both at...</td>\n      <td>Non-Functional</td>\n      <td>Non-Functional</td>\n      <td>True</td>\n    </tr>\n    <tr>\n      <th>22</th>\n      <td>Support for user roles including admin, editor...</td>\n      <td>Functional</td>\n      <td>Functional</td>\n      <td>True</td>\n    </tr>\n    <tr>\n      <th>23</th>\n      <td>Ensure the application interface adheres to th...</td>\n      <td>Non-Functional</td>\n      <td>Non-Functional</td>\n      <td>True</td>\n    </tr>\n    <tr>\n      <th>24</th>\n      <td>The software must be installable on both Windo...</td>\n      <td>Non-Functional</td>\n      <td>Non-Functional</td>\n      <td>True</td>\n    </tr>\n    <tr>\n      <th>25</th>\n      <td>Offer a search function that returns results w...</td>\n      <td>Functional</td>\n      <td>Functional</td>\n      <td>True</td>\n    </tr>\n    <tr>\n      <th>26</th>\n      <td>The mobile app should use no more than 50MB of...</td>\n      <td>Non-Functional</td>\n      <td>Functional</td>\n      <td>False</td>\n    </tr>\n    <tr>\n      <th>27</th>\n      <td>The platform must integrate seamlessly with th...</td>\n      <td>Functional</td>\n      <td>Non-Functional</td>\n      <td>False</td>\n    </tr>\n    <tr>\n      <th>28</th>\n      <td>User feedback must be addressed and incorporat...</td>\n      <td>Non-Functional</td>\n      <td>Non-Functional</td>\n      <td>True</td>\n    </tr>\n    <tr>\n      <th>29</th>\n      <td>Provide detailed logging of user actions to su...</td>\n      <td>Functional</td>\n      <td>Non-Functional</td>\n      <td>False</td>\n    </tr>\n  </tbody>\n</table>\n</div>"
     },
     "execution_count": 77,
     "metadata": {},
     "output_type": "execute_result"
    }
   ],
   "source": [
    "summary = summarize_predictions(examples, ada_model, vectorizer)\n",
    "summary"
   ],
   "metadata": {
    "collapsed": false,
    "ExecuteTime": {
     "end_time": "2024-03-06T09:36:07.399495Z",
     "start_time": "2024-03-06T09:36:07.199658Z"
    }
   },
   "id": "f06d87db662003c4",
   "execution_count": 77
  },
  {
   "cell_type": "code",
   "outputs": [
    {
     "data": {
      "application/vnd.plotly.v1+json": {
       "data": [
        {
         "domain": {
          "x": [
           0.0,
           1.0
          ],
          "y": [
           0.0,
           1.0
          ]
         },
         "hovertemplate": "Success=%{label}<extra></extra>",
         "labels": [
          false,
          true,
          true,
          true,
          false,
          true,
          false,
          false,
          true,
          true,
          true,
          false,
          false,
          false,
          false,
          true,
          true,
          true,
          true,
          true,
          false,
          true,
          true,
          true,
          true,
          true,
          false,
          false,
          true,
          false
         ],
         "legendgroup": "",
         "name": "",
         "showlegend": true,
         "type": "pie"
        }
       ],
       "layout": {
        "template": {
         "data": {
          "histogram2dcontour": [
           {
            "type": "histogram2dcontour",
            "colorbar": {
             "outlinewidth": 0,
             "ticks": ""
            },
            "colorscale": [
             [
              0.0,
              "#0d0887"
             ],
             [
              0.1111111111111111,
              "#46039f"
             ],
             [
              0.2222222222222222,
              "#7201a8"
             ],
             [
              0.3333333333333333,
              "#9c179e"
             ],
             [
              0.4444444444444444,
              "#bd3786"
             ],
             [
              0.5555555555555556,
              "#d8576b"
             ],
             [
              0.6666666666666666,
              "#ed7953"
             ],
             [
              0.7777777777777778,
              "#fb9f3a"
             ],
             [
              0.8888888888888888,
              "#fdca26"
             ],
             [
              1.0,
              "#f0f921"
             ]
            ]
           }
          ],
          "choropleth": [
           {
            "type": "choropleth",
            "colorbar": {
             "outlinewidth": 0,
             "ticks": ""
            }
           }
          ],
          "histogram2d": [
           {
            "type": "histogram2d",
            "colorbar": {
             "outlinewidth": 0,
             "ticks": ""
            },
            "colorscale": [
             [
              0.0,
              "#0d0887"
             ],
             [
              0.1111111111111111,
              "#46039f"
             ],
             [
              0.2222222222222222,
              "#7201a8"
             ],
             [
              0.3333333333333333,
              "#9c179e"
             ],
             [
              0.4444444444444444,
              "#bd3786"
             ],
             [
              0.5555555555555556,
              "#d8576b"
             ],
             [
              0.6666666666666666,
              "#ed7953"
             ],
             [
              0.7777777777777778,
              "#fb9f3a"
             ],
             [
              0.8888888888888888,
              "#fdca26"
             ],
             [
              1.0,
              "#f0f921"
             ]
            ]
           }
          ],
          "heatmap": [
           {
            "type": "heatmap",
            "colorbar": {
             "outlinewidth": 0,
             "ticks": ""
            },
            "colorscale": [
             [
              0.0,
              "#0d0887"
             ],
             [
              0.1111111111111111,
              "#46039f"
             ],
             [
              0.2222222222222222,
              "#7201a8"
             ],
             [
              0.3333333333333333,
              "#9c179e"
             ],
             [
              0.4444444444444444,
              "#bd3786"
             ],
             [
              0.5555555555555556,
              "#d8576b"
             ],
             [
              0.6666666666666666,
              "#ed7953"
             ],
             [
              0.7777777777777778,
              "#fb9f3a"
             ],
             [
              0.8888888888888888,
              "#fdca26"
             ],
             [
              1.0,
              "#f0f921"
             ]
            ]
           }
          ],
          "heatmapgl": [
           {
            "type": "heatmapgl",
            "colorbar": {
             "outlinewidth": 0,
             "ticks": ""
            },
            "colorscale": [
             [
              0.0,
              "#0d0887"
             ],
             [
              0.1111111111111111,
              "#46039f"
             ],
             [
              0.2222222222222222,
              "#7201a8"
             ],
             [
              0.3333333333333333,
              "#9c179e"
             ],
             [
              0.4444444444444444,
              "#bd3786"
             ],
             [
              0.5555555555555556,
              "#d8576b"
             ],
             [
              0.6666666666666666,
              "#ed7953"
             ],
             [
              0.7777777777777778,
              "#fb9f3a"
             ],
             [
              0.8888888888888888,
              "#fdca26"
             ],
             [
              1.0,
              "#f0f921"
             ]
            ]
           }
          ],
          "contourcarpet": [
           {
            "type": "contourcarpet",
            "colorbar": {
             "outlinewidth": 0,
             "ticks": ""
            }
           }
          ],
          "contour": [
           {
            "type": "contour",
            "colorbar": {
             "outlinewidth": 0,
             "ticks": ""
            },
            "colorscale": [
             [
              0.0,
              "#0d0887"
             ],
             [
              0.1111111111111111,
              "#46039f"
             ],
             [
              0.2222222222222222,
              "#7201a8"
             ],
             [
              0.3333333333333333,
              "#9c179e"
             ],
             [
              0.4444444444444444,
              "#bd3786"
             ],
             [
              0.5555555555555556,
              "#d8576b"
             ],
             [
              0.6666666666666666,
              "#ed7953"
             ],
             [
              0.7777777777777778,
              "#fb9f3a"
             ],
             [
              0.8888888888888888,
              "#fdca26"
             ],
             [
              1.0,
              "#f0f921"
             ]
            ]
           }
          ],
          "surface": [
           {
            "type": "surface",
            "colorbar": {
             "outlinewidth": 0,
             "ticks": ""
            },
            "colorscale": [
             [
              0.0,
              "#0d0887"
             ],
             [
              0.1111111111111111,
              "#46039f"
             ],
             [
              0.2222222222222222,
              "#7201a8"
             ],
             [
              0.3333333333333333,
              "#9c179e"
             ],
             [
              0.4444444444444444,
              "#bd3786"
             ],
             [
              0.5555555555555556,
              "#d8576b"
             ],
             [
              0.6666666666666666,
              "#ed7953"
             ],
             [
              0.7777777777777778,
              "#fb9f3a"
             ],
             [
              0.8888888888888888,
              "#fdca26"
             ],
             [
              1.0,
              "#f0f921"
             ]
            ]
           }
          ],
          "mesh3d": [
           {
            "type": "mesh3d",
            "colorbar": {
             "outlinewidth": 0,
             "ticks": ""
            }
           }
          ],
          "scatter": [
           {
            "fillpattern": {
             "fillmode": "overlay",
             "size": 10,
             "solidity": 0.2
            },
            "type": "scatter"
           }
          ],
          "parcoords": [
           {
            "type": "parcoords",
            "line": {
             "colorbar": {
              "outlinewidth": 0,
              "ticks": ""
             }
            }
           }
          ],
          "scatterpolargl": [
           {
            "type": "scatterpolargl",
            "marker": {
             "colorbar": {
              "outlinewidth": 0,
              "ticks": ""
             }
            }
           }
          ],
          "bar": [
           {
            "error_x": {
             "color": "#2a3f5f"
            },
            "error_y": {
             "color": "#2a3f5f"
            },
            "marker": {
             "line": {
              "color": "#E5ECF6",
              "width": 0.5
             },
             "pattern": {
              "fillmode": "overlay",
              "size": 10,
              "solidity": 0.2
             }
            },
            "type": "bar"
           }
          ],
          "scattergeo": [
           {
            "type": "scattergeo",
            "marker": {
             "colorbar": {
              "outlinewidth": 0,
              "ticks": ""
             }
            }
           }
          ],
          "scatterpolar": [
           {
            "type": "scatterpolar",
            "marker": {
             "colorbar": {
              "outlinewidth": 0,
              "ticks": ""
             }
            }
           }
          ],
          "histogram": [
           {
            "marker": {
             "pattern": {
              "fillmode": "overlay",
              "size": 10,
              "solidity": 0.2
             }
            },
            "type": "histogram"
           }
          ],
          "scattergl": [
           {
            "type": "scattergl",
            "marker": {
             "colorbar": {
              "outlinewidth": 0,
              "ticks": ""
             }
            }
           }
          ],
          "scatter3d": [
           {
            "type": "scatter3d",
            "line": {
             "colorbar": {
              "outlinewidth": 0,
              "ticks": ""
             }
            },
            "marker": {
             "colorbar": {
              "outlinewidth": 0,
              "ticks": ""
             }
            }
           }
          ],
          "scattermapbox": [
           {
            "type": "scattermapbox",
            "marker": {
             "colorbar": {
              "outlinewidth": 0,
              "ticks": ""
             }
            }
           }
          ],
          "scatterternary": [
           {
            "type": "scatterternary",
            "marker": {
             "colorbar": {
              "outlinewidth": 0,
              "ticks": ""
             }
            }
           }
          ],
          "scattercarpet": [
           {
            "type": "scattercarpet",
            "marker": {
             "colorbar": {
              "outlinewidth": 0,
              "ticks": ""
             }
            }
           }
          ],
          "carpet": [
           {
            "aaxis": {
             "endlinecolor": "#2a3f5f",
             "gridcolor": "white",
             "linecolor": "white",
             "minorgridcolor": "white",
             "startlinecolor": "#2a3f5f"
            },
            "baxis": {
             "endlinecolor": "#2a3f5f",
             "gridcolor": "white",
             "linecolor": "white",
             "minorgridcolor": "white",
             "startlinecolor": "#2a3f5f"
            },
            "type": "carpet"
           }
          ],
          "table": [
           {
            "cells": {
             "fill": {
              "color": "#EBF0F8"
             },
             "line": {
              "color": "white"
             }
            },
            "header": {
             "fill": {
              "color": "#C8D4E3"
             },
             "line": {
              "color": "white"
             }
            },
            "type": "table"
           }
          ],
          "barpolar": [
           {
            "marker": {
             "line": {
              "color": "#E5ECF6",
              "width": 0.5
             },
             "pattern": {
              "fillmode": "overlay",
              "size": 10,
              "solidity": 0.2
             }
            },
            "type": "barpolar"
           }
          ],
          "pie": [
           {
            "automargin": true,
            "type": "pie"
           }
          ]
         },
         "layout": {
          "autotypenumbers": "strict",
          "colorway": [
           "#636efa",
           "#EF553B",
           "#00cc96",
           "#ab63fa",
           "#FFA15A",
           "#19d3f3",
           "#FF6692",
           "#B6E880",
           "#FF97FF",
           "#FECB52"
          ],
          "font": {
           "color": "#2a3f5f"
          },
          "hovermode": "closest",
          "hoverlabel": {
           "align": "left"
          },
          "paper_bgcolor": "white",
          "plot_bgcolor": "#E5ECF6",
          "polar": {
           "bgcolor": "#E5ECF6",
           "angularaxis": {
            "gridcolor": "white",
            "linecolor": "white",
            "ticks": ""
           },
           "radialaxis": {
            "gridcolor": "white",
            "linecolor": "white",
            "ticks": ""
           }
          },
          "ternary": {
           "bgcolor": "#E5ECF6",
           "aaxis": {
            "gridcolor": "white",
            "linecolor": "white",
            "ticks": ""
           },
           "baxis": {
            "gridcolor": "white",
            "linecolor": "white",
            "ticks": ""
           },
           "caxis": {
            "gridcolor": "white",
            "linecolor": "white",
            "ticks": ""
           }
          },
          "coloraxis": {
           "colorbar": {
            "outlinewidth": 0,
            "ticks": ""
           }
          },
          "colorscale": {
           "sequential": [
            [
             0.0,
             "#0d0887"
            ],
            [
             0.1111111111111111,
             "#46039f"
            ],
            [
             0.2222222222222222,
             "#7201a8"
            ],
            [
             0.3333333333333333,
             "#9c179e"
            ],
            [
             0.4444444444444444,
             "#bd3786"
            ],
            [
             0.5555555555555556,
             "#d8576b"
            ],
            [
             0.6666666666666666,
             "#ed7953"
            ],
            [
             0.7777777777777778,
             "#fb9f3a"
            ],
            [
             0.8888888888888888,
             "#fdca26"
            ],
            [
             1.0,
             "#f0f921"
            ]
           ],
           "sequentialminus": [
            [
             0.0,
             "#0d0887"
            ],
            [
             0.1111111111111111,
             "#46039f"
            ],
            [
             0.2222222222222222,
             "#7201a8"
            ],
            [
             0.3333333333333333,
             "#9c179e"
            ],
            [
             0.4444444444444444,
             "#bd3786"
            ],
            [
             0.5555555555555556,
             "#d8576b"
            ],
            [
             0.6666666666666666,
             "#ed7953"
            ],
            [
             0.7777777777777778,
             "#fb9f3a"
            ],
            [
             0.8888888888888888,
             "#fdca26"
            ],
            [
             1.0,
             "#f0f921"
            ]
           ],
           "diverging": [
            [
             0,
             "#8e0152"
            ],
            [
             0.1,
             "#c51b7d"
            ],
            [
             0.2,
             "#de77ae"
            ],
            [
             0.3,
             "#f1b6da"
            ],
            [
             0.4,
             "#fde0ef"
            ],
            [
             0.5,
             "#f7f7f7"
            ],
            [
             0.6,
             "#e6f5d0"
            ],
            [
             0.7,
             "#b8e186"
            ],
            [
             0.8,
             "#7fbc41"
            ],
            [
             0.9,
             "#4d9221"
            ],
            [
             1,
             "#276419"
            ]
           ]
          },
          "xaxis": {
           "gridcolor": "white",
           "linecolor": "white",
           "ticks": "",
           "title": {
            "standoff": 15
           },
           "zerolinecolor": "white",
           "automargin": true,
           "zerolinewidth": 2
          },
          "yaxis": {
           "gridcolor": "white",
           "linecolor": "white",
           "ticks": "",
           "title": {
            "standoff": 15
           },
           "zerolinecolor": "white",
           "automargin": true,
           "zerolinewidth": 2
          },
          "scene": {
           "xaxis": {
            "backgroundcolor": "#E5ECF6",
            "gridcolor": "white",
            "linecolor": "white",
            "showbackground": true,
            "ticks": "",
            "zerolinecolor": "white",
            "gridwidth": 2
           },
           "yaxis": {
            "backgroundcolor": "#E5ECF6",
            "gridcolor": "white",
            "linecolor": "white",
            "showbackground": true,
            "ticks": "",
            "zerolinecolor": "white",
            "gridwidth": 2
           },
           "zaxis": {
            "backgroundcolor": "#E5ECF6",
            "gridcolor": "white",
            "linecolor": "white",
            "showbackground": true,
            "ticks": "",
            "zerolinecolor": "white",
            "gridwidth": 2
           }
          },
          "shapedefaults": {
           "line": {
            "color": "#2a3f5f"
           }
          },
          "annotationdefaults": {
           "arrowcolor": "#2a3f5f",
           "arrowhead": 0,
           "arrowwidth": 1
          },
          "geo": {
           "bgcolor": "white",
           "landcolor": "#E5ECF6",
           "subunitcolor": "white",
           "showland": true,
           "showlakes": true,
           "lakecolor": "white"
          },
          "title": {
           "x": 0.05
          },
          "mapbox": {
           "style": "light"
          }
         }
        },
        "legend": {
         "tracegroupgap": 0
        },
        "title": {
         "text": "Success of the model on my examples"
        }
       },
       "config": {
        "plotlyServerURL": "https://plot.ly"
       }
      },
      "text/html": "<div>                            <div id=\"f57985ba-d01d-4ae7-83b9-26f496bdbe1c\" class=\"plotly-graph-div\" style=\"height:525px; width:100%;\"></div>            <script type=\"text/javascript\">                require([\"plotly\"], function(Plotly) {                    window.PLOTLYENV=window.PLOTLYENV || {};                                    if (document.getElementById(\"f57985ba-d01d-4ae7-83b9-26f496bdbe1c\")) {                    Plotly.newPlot(                        \"f57985ba-d01d-4ae7-83b9-26f496bdbe1c\",                        [{\"domain\":{\"x\":[0.0,1.0],\"y\":[0.0,1.0]},\"hovertemplate\":\"Success=%{label}\\u003cextra\\u003e\\u003c\\u002fextra\\u003e\",\"labels\":[false,true,true,true,false,true,false,false,true,true,true,false,false,false,false,true,true,true,true,true,false,true,true,true,true,true,false,false,true,false],\"legendgroup\":\"\",\"name\":\"\",\"showlegend\":true,\"type\":\"pie\"}],                        {\"template\":{\"data\":{\"histogram2dcontour\":[{\"type\":\"histogram2dcontour\",\"colorbar\":{\"outlinewidth\":0,\"ticks\":\"\"},\"colorscale\":[[0.0,\"#0d0887\"],[0.1111111111111111,\"#46039f\"],[0.2222222222222222,\"#7201a8\"],[0.3333333333333333,\"#9c179e\"],[0.4444444444444444,\"#bd3786\"],[0.5555555555555556,\"#d8576b\"],[0.6666666666666666,\"#ed7953\"],[0.7777777777777778,\"#fb9f3a\"],[0.8888888888888888,\"#fdca26\"],[1.0,\"#f0f921\"]]}],\"choropleth\":[{\"type\":\"choropleth\",\"colorbar\":{\"outlinewidth\":0,\"ticks\":\"\"}}],\"histogram2d\":[{\"type\":\"histogram2d\",\"colorbar\":{\"outlinewidth\":0,\"ticks\":\"\"},\"colorscale\":[[0.0,\"#0d0887\"],[0.1111111111111111,\"#46039f\"],[0.2222222222222222,\"#7201a8\"],[0.3333333333333333,\"#9c179e\"],[0.4444444444444444,\"#bd3786\"],[0.5555555555555556,\"#d8576b\"],[0.6666666666666666,\"#ed7953\"],[0.7777777777777778,\"#fb9f3a\"],[0.8888888888888888,\"#fdca26\"],[1.0,\"#f0f921\"]]}],\"heatmap\":[{\"type\":\"heatmap\",\"colorbar\":{\"outlinewidth\":0,\"ticks\":\"\"},\"colorscale\":[[0.0,\"#0d0887\"],[0.1111111111111111,\"#46039f\"],[0.2222222222222222,\"#7201a8\"],[0.3333333333333333,\"#9c179e\"],[0.4444444444444444,\"#bd3786\"],[0.5555555555555556,\"#d8576b\"],[0.6666666666666666,\"#ed7953\"],[0.7777777777777778,\"#fb9f3a\"],[0.8888888888888888,\"#fdca26\"],[1.0,\"#f0f921\"]]}],\"heatmapgl\":[{\"type\":\"heatmapgl\",\"colorbar\":{\"outlinewidth\":0,\"ticks\":\"\"},\"colorscale\":[[0.0,\"#0d0887\"],[0.1111111111111111,\"#46039f\"],[0.2222222222222222,\"#7201a8\"],[0.3333333333333333,\"#9c179e\"],[0.4444444444444444,\"#bd3786\"],[0.5555555555555556,\"#d8576b\"],[0.6666666666666666,\"#ed7953\"],[0.7777777777777778,\"#fb9f3a\"],[0.8888888888888888,\"#fdca26\"],[1.0,\"#f0f921\"]]}],\"contourcarpet\":[{\"type\":\"contourcarpet\",\"colorbar\":{\"outlinewidth\":0,\"ticks\":\"\"}}],\"contour\":[{\"type\":\"contour\",\"colorbar\":{\"outlinewidth\":0,\"ticks\":\"\"},\"colorscale\":[[0.0,\"#0d0887\"],[0.1111111111111111,\"#46039f\"],[0.2222222222222222,\"#7201a8\"],[0.3333333333333333,\"#9c179e\"],[0.4444444444444444,\"#bd3786\"],[0.5555555555555556,\"#d8576b\"],[0.6666666666666666,\"#ed7953\"],[0.7777777777777778,\"#fb9f3a\"],[0.8888888888888888,\"#fdca26\"],[1.0,\"#f0f921\"]]}],\"surface\":[{\"type\":\"surface\",\"colorbar\":{\"outlinewidth\":0,\"ticks\":\"\"},\"colorscale\":[[0.0,\"#0d0887\"],[0.1111111111111111,\"#46039f\"],[0.2222222222222222,\"#7201a8\"],[0.3333333333333333,\"#9c179e\"],[0.4444444444444444,\"#bd3786\"],[0.5555555555555556,\"#d8576b\"],[0.6666666666666666,\"#ed7953\"],[0.7777777777777778,\"#fb9f3a\"],[0.8888888888888888,\"#fdca26\"],[1.0,\"#f0f921\"]]}],\"mesh3d\":[{\"type\":\"mesh3d\",\"colorbar\":{\"outlinewidth\":0,\"ticks\":\"\"}}],\"scatter\":[{\"fillpattern\":{\"fillmode\":\"overlay\",\"size\":10,\"solidity\":0.2},\"type\":\"scatter\"}],\"parcoords\":[{\"type\":\"parcoords\",\"line\":{\"colorbar\":{\"outlinewidth\":0,\"ticks\":\"\"}}}],\"scatterpolargl\":[{\"type\":\"scatterpolargl\",\"marker\":{\"colorbar\":{\"outlinewidth\":0,\"ticks\":\"\"}}}],\"bar\":[{\"error_x\":{\"color\":\"#2a3f5f\"},\"error_y\":{\"color\":\"#2a3f5f\"},\"marker\":{\"line\":{\"color\":\"#E5ECF6\",\"width\":0.5},\"pattern\":{\"fillmode\":\"overlay\",\"size\":10,\"solidity\":0.2}},\"type\":\"bar\"}],\"scattergeo\":[{\"type\":\"scattergeo\",\"marker\":{\"colorbar\":{\"outlinewidth\":0,\"ticks\":\"\"}}}],\"scatterpolar\":[{\"type\":\"scatterpolar\",\"marker\":{\"colorbar\":{\"outlinewidth\":0,\"ticks\":\"\"}}}],\"histogram\":[{\"marker\":{\"pattern\":{\"fillmode\":\"overlay\",\"size\":10,\"solidity\":0.2}},\"type\":\"histogram\"}],\"scattergl\":[{\"type\":\"scattergl\",\"marker\":{\"colorbar\":{\"outlinewidth\":0,\"ticks\":\"\"}}}],\"scatter3d\":[{\"type\":\"scatter3d\",\"line\":{\"colorbar\":{\"outlinewidth\":0,\"ticks\":\"\"}},\"marker\":{\"colorbar\":{\"outlinewidth\":0,\"ticks\":\"\"}}}],\"scattermapbox\":[{\"type\":\"scattermapbox\",\"marker\":{\"colorbar\":{\"outlinewidth\":0,\"ticks\":\"\"}}}],\"scatterternary\":[{\"type\":\"scatterternary\",\"marker\":{\"colorbar\":{\"outlinewidth\":0,\"ticks\":\"\"}}}],\"scattercarpet\":[{\"type\":\"scattercarpet\",\"marker\":{\"colorbar\":{\"outlinewidth\":0,\"ticks\":\"\"}}}],\"carpet\":[{\"aaxis\":{\"endlinecolor\":\"#2a3f5f\",\"gridcolor\":\"white\",\"linecolor\":\"white\",\"minorgridcolor\":\"white\",\"startlinecolor\":\"#2a3f5f\"},\"baxis\":{\"endlinecolor\":\"#2a3f5f\",\"gridcolor\":\"white\",\"linecolor\":\"white\",\"minorgridcolor\":\"white\",\"startlinecolor\":\"#2a3f5f\"},\"type\":\"carpet\"}],\"table\":[{\"cells\":{\"fill\":{\"color\":\"#EBF0F8\"},\"line\":{\"color\":\"white\"}},\"header\":{\"fill\":{\"color\":\"#C8D4E3\"},\"line\":{\"color\":\"white\"}},\"type\":\"table\"}],\"barpolar\":[{\"marker\":{\"line\":{\"color\":\"#E5ECF6\",\"width\":0.5},\"pattern\":{\"fillmode\":\"overlay\",\"size\":10,\"solidity\":0.2}},\"type\":\"barpolar\"}],\"pie\":[{\"automargin\":true,\"type\":\"pie\"}]},\"layout\":{\"autotypenumbers\":\"strict\",\"colorway\":[\"#636efa\",\"#EF553B\",\"#00cc96\",\"#ab63fa\",\"#FFA15A\",\"#19d3f3\",\"#FF6692\",\"#B6E880\",\"#FF97FF\",\"#FECB52\"],\"font\":{\"color\":\"#2a3f5f\"},\"hovermode\":\"closest\",\"hoverlabel\":{\"align\":\"left\"},\"paper_bgcolor\":\"white\",\"plot_bgcolor\":\"#E5ECF6\",\"polar\":{\"bgcolor\":\"#E5ECF6\",\"angularaxis\":{\"gridcolor\":\"white\",\"linecolor\":\"white\",\"ticks\":\"\"},\"radialaxis\":{\"gridcolor\":\"white\",\"linecolor\":\"white\",\"ticks\":\"\"}},\"ternary\":{\"bgcolor\":\"#E5ECF6\",\"aaxis\":{\"gridcolor\":\"white\",\"linecolor\":\"white\",\"ticks\":\"\"},\"baxis\":{\"gridcolor\":\"white\",\"linecolor\":\"white\",\"ticks\":\"\"},\"caxis\":{\"gridcolor\":\"white\",\"linecolor\":\"white\",\"ticks\":\"\"}},\"coloraxis\":{\"colorbar\":{\"outlinewidth\":0,\"ticks\":\"\"}},\"colorscale\":{\"sequential\":[[0.0,\"#0d0887\"],[0.1111111111111111,\"#46039f\"],[0.2222222222222222,\"#7201a8\"],[0.3333333333333333,\"#9c179e\"],[0.4444444444444444,\"#bd3786\"],[0.5555555555555556,\"#d8576b\"],[0.6666666666666666,\"#ed7953\"],[0.7777777777777778,\"#fb9f3a\"],[0.8888888888888888,\"#fdca26\"],[1.0,\"#f0f921\"]],\"sequentialminus\":[[0.0,\"#0d0887\"],[0.1111111111111111,\"#46039f\"],[0.2222222222222222,\"#7201a8\"],[0.3333333333333333,\"#9c179e\"],[0.4444444444444444,\"#bd3786\"],[0.5555555555555556,\"#d8576b\"],[0.6666666666666666,\"#ed7953\"],[0.7777777777777778,\"#fb9f3a\"],[0.8888888888888888,\"#fdca26\"],[1.0,\"#f0f921\"]],\"diverging\":[[0,\"#8e0152\"],[0.1,\"#c51b7d\"],[0.2,\"#de77ae\"],[0.3,\"#f1b6da\"],[0.4,\"#fde0ef\"],[0.5,\"#f7f7f7\"],[0.6,\"#e6f5d0\"],[0.7,\"#b8e186\"],[0.8,\"#7fbc41\"],[0.9,\"#4d9221\"],[1,\"#276419\"]]},\"xaxis\":{\"gridcolor\":\"white\",\"linecolor\":\"white\",\"ticks\":\"\",\"title\":{\"standoff\":15},\"zerolinecolor\":\"white\",\"automargin\":true,\"zerolinewidth\":2},\"yaxis\":{\"gridcolor\":\"white\",\"linecolor\":\"white\",\"ticks\":\"\",\"title\":{\"standoff\":15},\"zerolinecolor\":\"white\",\"automargin\":true,\"zerolinewidth\":2},\"scene\":{\"xaxis\":{\"backgroundcolor\":\"#E5ECF6\",\"gridcolor\":\"white\",\"linecolor\":\"white\",\"showbackground\":true,\"ticks\":\"\",\"zerolinecolor\":\"white\",\"gridwidth\":2},\"yaxis\":{\"backgroundcolor\":\"#E5ECF6\",\"gridcolor\":\"white\",\"linecolor\":\"white\",\"showbackground\":true,\"ticks\":\"\",\"zerolinecolor\":\"white\",\"gridwidth\":2},\"zaxis\":{\"backgroundcolor\":\"#E5ECF6\",\"gridcolor\":\"white\",\"linecolor\":\"white\",\"showbackground\":true,\"ticks\":\"\",\"zerolinecolor\":\"white\",\"gridwidth\":2}},\"shapedefaults\":{\"line\":{\"color\":\"#2a3f5f\"}},\"annotationdefaults\":{\"arrowcolor\":\"#2a3f5f\",\"arrowhead\":0,\"arrowwidth\":1},\"geo\":{\"bgcolor\":\"white\",\"landcolor\":\"#E5ECF6\",\"subunitcolor\":\"white\",\"showland\":true,\"showlakes\":true,\"lakecolor\":\"white\"},\"title\":{\"x\":0.05},\"mapbox\":{\"style\":\"light\"}}},\"legend\":{\"tracegroupgap\":0},\"title\":{\"text\":\"Success of the model on my examples\"}},                        {\"responsive\": true}                    ).then(function(){\n                            \nvar gd = document.getElementById('f57985ba-d01d-4ae7-83b9-26f496bdbe1c');\nvar x = new MutationObserver(function (mutations, observer) {{\n        var display = window.getComputedStyle(gd).display;\n        if (!display || display === 'none') {{\n            console.log([gd, 'removed!']);\n            Plotly.purge(gd);\n            observer.disconnect();\n        }}\n}});\n\n// Listen for the removal of the full notebook cells\nvar notebookContainer = gd.closest('#notebook-container');\nif (notebookContainer) {{\n    x.observe(notebookContainer, {childList: true});\n}}\n\n// Listen for the clearing of the current output cell\nvar outputEl = gd.closest('.output');\nif (outputEl) {{\n    x.observe(outputEl, {childList: true});\n}}\n\n                        })                };                });            </script>        </div>"
     },
     "metadata": {},
     "output_type": "display_data"
    }
   ],
   "source": [
    "import plotly.express as px\n",
    "\n",
    "fig = px.pie(summary, names='Success', title ='Success of the model on my examples')\n",
    "fig.show()"
   ],
   "metadata": {
    "collapsed": false,
    "ExecuteTime": {
     "end_time": "2024-03-06T09:36:07.416781Z",
     "start_time": "2024-03-06T09:36:07.400218Z"
    }
   },
   "id": "c6880c06826f0d41",
   "execution_count": 78
  }
 ],
 "metadata": {
  "kernelspec": {
   "display_name": "Python 3",
   "language": "python",
   "name": "python3"
  },
  "language_info": {
   "codemirror_mode": {
    "name": "ipython",
    "version": 2
   },
   "file_extension": ".py",
   "mimetype": "text/x-python",
   "name": "python",
   "nbconvert_exporter": "python",
   "pygments_lexer": "ipython2",
   "version": "2.7.6"
  }
 },
 "nbformat": 4,
 "nbformat_minor": 5
}
