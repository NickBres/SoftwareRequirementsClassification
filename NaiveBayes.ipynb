{
 "cells": [
  {
   "cell_type": "markdown",
   "source": [
    "# Software Requirements Classification\n",
    "## Naive Bayes"
   ],
   "metadata": {
    "collapsed": false
   },
   "id": "6ade17064eb0420"
  },
  {
   "cell_type": "code",
   "execution_count": 46,
   "id": "initial_id",
   "metadata": {
    "collapsed": true,
    "ExecuteTime": {
     "end_time": "2024-03-13T16:09:00.926778Z",
     "start_time": "2024-03-13T16:09:00.918319Z"
    }
   },
   "outputs": [],
   "source": [
    "import pandas as pd\n",
    "\n",
    "df = pd.read_csv('software_requirements_extended.csv')\n",
    "df['Type'] = df['Type'].apply(lambda x: 1 if x == 'FR' or x == 'F' else 0)"
   ]
  },
  {
   "cell_type": "code",
   "outputs": [
    {
     "name": "stderr",
     "output_type": "stream",
     "text": [
      "[nltk_data] Downloading package wordnet to\n",
      "[nltk_data]     /Users/nickbres/nltk_data...\n",
      "[nltk_data]   Package wordnet is already up-to-date!\n",
      "[nltk_data] Downloading package omw-1.4 to\n",
      "[nltk_data]     /Users/nickbres/nltk_data...\n",
      "[nltk_data]   Package omw-1.4 is already up-to-date!\n"
     ]
    }
   ],
   "source": [
    "import re\n",
    "import nltk\n",
    "from nltk.corpus import stopwords\n",
    "from nltk.stem import WordNetLemmatizer\n",
    "from nltk.stem.porter import *\n",
    "nltk.download('wordnet')\n",
    "nltk.download('omw-1.4')\n",
    "from nltk.stem.porter import *"
   ],
   "metadata": {
    "collapsed": false,
    "ExecuteTime": {
     "end_time": "2024-03-13T16:09:00.954091Z",
     "start_time": "2024-03-13T16:09:00.950877Z"
    }
   },
   "id": "bc7088ff68da7159",
   "execution_count": 47
  },
  {
   "cell_type": "code",
   "outputs": [],
   "source": [
    "# Pre-load stopwords to improve efficiency\n",
    "STOPWORDS = set(stopwords.words(\"english\"))\n",
    "\n",
    "# Expanded pattern to potentially keep useful punctuation or additional cleaning\n",
    "pattern_without_numbers = re.compile(r\"[^a-zA-Z]\")\n",
    "pattern_with_numbers = re.compile(r\"[^\\w\\d]\")\n",
    "\n",
    "def req_to_words(req, delete_stopwords, with_numbers, normalize_numbers,lemmatize = False,stemming = False,):\n",
    "    \"\"\"Convert requirement text into a sequence of 'clean' words\"\"\"\n",
    "    # Convert to lower case\n",
    "    text = req.lower()\n",
    "\n",
    "    if with_numbers:\n",
    "        pattern = pattern_with_numbers\n",
    "    else:\n",
    "        pattern = pattern_without_numbers\n",
    "\n",
    "    if with_numbers and normalize_numbers:\n",
    "        text = re.sub(r'\\b\\d+\\b', 'num', text)\n",
    "\n",
    "    # Remove unwanted characters\n",
    "    text = re.sub(pattern, \" \", text)\n",
    "\n",
    "    # Tokenize\n",
    "    words = text.split()\n",
    "\n",
    "    # Remove stopwords\n",
    "    if delete_stopwords:\n",
    "        words = [w for w in words if w not in STOPWORDS]\n",
    "\n",
    "    # Apply lemmatization or stemming\n",
    "    if lemmatize:\n",
    "        words = [ WordNetLemmatizer().lemmatize(w) for w in words]\n",
    "    elif stemming: # Stemming\n",
    "        words = [PorterStemmer().stem(w) for w in words]\n",
    "\n",
    "    # join the words back into one string\n",
    "    clean_req = \" \".join(words)\n",
    "\n",
    "    return clean_req"
   ],
   "metadata": {
    "collapsed": false,
    "ExecuteTime": {
     "end_time": "2024-03-13T16:09:00.960068Z",
     "start_time": "2024-03-13T16:09:00.955155Z"
    }
   },
   "id": "aa124ba029a14f99",
   "execution_count": 48
  },
  {
   "cell_type": "code",
   "outputs": [],
   "source": [
    "from sklearn.model_selection import train_test_split\n",
    "from sklearn.feature_extraction.text import TfidfVectorizer\n",
    "from sklearn.naive_bayes import MultinomialNB\n",
    "from sklearn.metrics import accuracy_score, classification_report"
   ],
   "metadata": {
    "collapsed": false,
    "ExecuteTime": {
     "end_time": "2024-03-13T16:09:00.963225Z",
     "start_time": "2024-03-13T16:09:00.961141Z"
    }
   },
   "id": "af54518b06662008",
   "execution_count": 49
  },
  {
   "cell_type": "markdown",
   "source": [
    "### Model"
   ],
   "metadata": {
    "collapsed": false
   },
   "id": "47f6294c9b77910b"
  },
  {
   "cell_type": "code",
   "outputs": [],
   "source": [
    "from sklearn.model_selection import GridSearchCV\n",
    "\n",
    "def find_best_hyperparameters(X,y):\n",
    "    # Define the parameter grid to search\n",
    "    param_grid = {\n",
    "        'alpha': [0.001, 0.01, 0.1, 1.0, 10.0, 100.0]\n",
    "    }\n",
    "    \n",
    "    # Set up the grid search with cross-validation\n",
    "    grid_search = GridSearchCV(MultinomialNB(), param_grid, cv=5, verbose=2, n_jobs=-1, scoring='accuracy')\n",
    "    \n",
    "    \n",
    "    # Fit the grid search to the data\n",
    "    grid_search.fit(X, y)\n",
    "    \n",
    "    # print(\"Best parameters:\", grid_search.best_params_)\n",
    "    # print(\"Best cross-validated score:\", grid_search.best_score_)\n",
    "    return grid_search.best_params_, grid_search.best_score_"
   ],
   "metadata": {
    "collapsed": false,
    "ExecuteTime": {
     "end_time": "2024-03-13T16:09:00.966580Z",
     "start_time": "2024-03-13T16:09:00.964275Z"
    }
   },
   "id": "c69bb91dcf7e328e",
   "execution_count": 50
  },
  {
   "cell_type": "code",
   "outputs": [],
   "source": [
    "import matplotlib.pyplot as plt\n",
    "from sklearn.metrics import confusion_matrix\n",
    "import seaborn as sns\n",
    "\n",
    "def draw_confusion_matrix(y_test, y_pred):\n",
    "    # Compute the normalized confusion matrix\n",
    "    cm_normalized = confusion_matrix(y_test, y_pred, normalize='true')\n",
    "\n",
    "    # Convert to percentage\n",
    "    cm_percentage = cm_normalized * 100\n",
    "\n",
    "    # Visualize the confusion matrix as percentages\n",
    "    plt.figure(figsize=(10,7))\n",
    "    sns.heatmap(cm_percentage, annot=True, fmt=\".2f\", cmap=\"Blues\", xticklabels=['Non-Functional', 'Functional'], yticklabels=['Non-Functional', 'Functional'])\n",
    "    plt.title('Confusion Matrix (Percentage)')\n",
    "    plt.xlabel('Predicted Label')\n",
    "    plt.ylabel('True Label')\n",
    "    plt.show()"
   ],
   "metadata": {
    "collapsed": false,
    "ExecuteTime": {
     "end_time": "2024-03-13T16:09:00.970372Z",
     "start_time": "2024-03-13T16:09:00.967684Z"
    }
   },
   "id": "550cc84e935ee3b3",
   "execution_count": 51
  },
  {
   "cell_type": "code",
   "outputs": [],
   "source": [
    "def run_experiment(df, preprocessing_params,isVisualize = True):\n",
    "    \"\"\"\n",
    "    Run an experiment to train a logistic regression model with the best hyperparameters found using grid search.\n",
    "    Evaluates the model using cross-validation and on a test set, and displays the model's important features and confusion matrix.\n",
    "\n",
    "    Parameters:\n",
    "    - df: DataFrame containing the dataset.\n",
    "    - preprocessing_params: Dictionary containing preprocessing parameters (lemmatize, delete_stopwords, normalize_numbers, etc.).\n",
    "    - ngram_range: Tuple indicating the range of n-grams to be used in vectorization.\n",
    "    \"\"\"\n",
    "    # Extract preprocessing parameters\n",
    "    lemmatize = preprocessing_params.get('lemmatize', False)\n",
    "    stemming = preprocessing_params.get('stemming', False)\n",
    "    delete_stopwords = preprocessing_params.get('delete_stopwords', True)\n",
    "    with_numbers = preprocessing_params.get('with_numbers', True)\n",
    "    normalize_numbers = preprocessing_params.get('normalize_numbers', True)\n",
    "\n",
    "    # Prepare the data\n",
    "    y = df['Type']\n",
    "    # Preprocess the requirements to convert them into 'clean' words\n",
    "    X = [req_to_words(req, lemmatize=lemmatize,stemming= stemming, delete_stopwords=delete_stopwords, with_numbers=with_numbers, normalize_numbers=normalize_numbers) for req in df['Requirement']]\n",
    "\n",
    "\n",
    "    # Split the data\n",
    "    X_train, X_test, y_train, y_test = train_test_split(X, y, test_size=0.3, random_state=42)\n",
    "\n",
    "    # Vectorize the text\n",
    "    vectorizer = TfidfVectorizer()\n",
    "    X_train = vectorizer.fit_transform(X_train)\n",
    "    X_test = vectorizer.transform(X_test)\n",
    "\n",
    "    # Find the best model parameters\n",
    "    best_params,best_cross = find_best_hyperparameters(X_train, y_train)\n",
    "\n",
    "    # Create the best estimator\n",
    "    best_estimator = MultinomialNB(**best_params)\n",
    "\n",
    "    # Train the best estimator on the full training set\n",
    "    best_estimator.fit(X_train, y_train)\n",
    "\n",
    "    # Evaluate on the test set\n",
    "    y_pred = best_estimator.predict(X_test)\n",
    "    test_accuracy = accuracy_score(y_test, y_pred)\n",
    "    if isVisualize:\n",
    "        print(f'Accuracy: {test_accuracy * 100:.2f}%')\n",
    "\n",
    "        # Detailed performance report\n",
    "        print(classification_report(y_test, y_pred))\n",
    "\n",
    "        # Additional evaluations\n",
    "        draw_confusion_matrix(y_test, y_pred)\n",
    "\n",
    "    return best_estimator, vectorizer, best_cross"
   ],
   "metadata": {
    "collapsed": false,
    "ExecuteTime": {
     "end_time": "2024-03-13T16:09:00.976327Z",
     "start_time": "2024-03-13T16:09:00.972300Z"
    }
   },
   "id": "c00d78b368d5ca6",
   "execution_count": 52
  },
  {
   "cell_type": "markdown",
   "source": [
    "### Experimenting"
   ],
   "metadata": {
    "collapsed": false
   },
   "id": "15617e637c0d20ec"
  },
  {
   "cell_type": "code",
   "outputs": [
    {
     "name": "stdout",
     "output_type": "stream",
     "text": [
      "Fitting 5 folds for each of 6 candidates, totalling 30 fits\n",
      "Accuracy: 87.07%\n",
      "              precision    recall  f1-score   support\n",
      "\n",
      "           0       0.84      0.87      0.86       131\n",
      "           1       0.89      0.87      0.88       163\n",
      "\n",
      "    accuracy                           0.87       294\n",
      "   macro avg       0.87      0.87      0.87       294\n",
      "weighted avg       0.87      0.87      0.87       294\n"
     ]
    },
    {
     "data": {
      "text/plain": "<Figure size 1000x700 with 2 Axes>",
      "image/png": "[encoded data removed]"
     },
     "metadata": {},
     "output_type": "display_data"
    }
   ],
   "source": [
    "preprocessing_params = {\n",
    "    'lemmatize': False, # use lemmatization false by default\n",
    "    'stemming': False, # use stemming false by default\n",
    "    'delete_stopwords': True, # delete stopwords like 'the', 'and', etc.\n",
    "    'with_numbers': False, # keep numbers or not\n",
    "    'normalize_numbers': False # normalize numbers to a single token (will only work if with_numbers is True)\n",
    "}\n",
    "model, vectorizer, cross = run_experiment(df, preprocessing_params)\n"
   ],
   "metadata": {
    "collapsed": false,
    "ExecuteTime": {
     "end_time": "2024-03-13T16:09:02.313679Z",
     "start_time": "2024-03-13T16:09:00.980774Z"
    }
   },
   "id": "e0fcd4b5e214e7e5",
   "execution_count": 53
  },
  {
   "cell_type": "code",
   "outputs": [],
   "source": [
    "from itertools import product\n",
    "\n",
    "def find_best_cleaning_params(df):\n",
    "    \"\"\"\n",
    "    Try all combinations of cleaning parameters and return the combination\n",
    "    with the highest cross-validation score.\n",
    "    \"\"\"\n",
    "    best_score = 0\n",
    "    best_params = {}\n",
    "\n",
    "    # Generate all possible combinations of boolean values for the parameters\n",
    "    # There are five parameters, so there are 2^5 = 32 possible combinations\n",
    "    for lemmatize, stemming, delete_stopwords, with_numbers, normalize_numbers in product([True, False], repeat=5):\n",
    "\n",
    "        # Skip invalid combinations where we attempt to normalize numbers when they are not included\n",
    "        if normalize_numbers and not with_numbers:\n",
    "            continue\n",
    "\n",
    "        # Set up the preprocessing parameters\n",
    "        preprocessing_params = {\n",
    "            'lemmatize': lemmatize,\n",
    "            'stemming': stemming,\n",
    "            'delete_stopwords': delete_stopwords,\n",
    "            'with_numbers': with_numbers,\n",
    "            'normalize_numbers': normalize_numbers\n",
    "        }\n",
    "\n",
    "        # Run the experiment with the current combination of parameters\n",
    "        _, _, best_cross = run_experiment(df, preprocessing_params, isVisualize = False)\n",
    "\n",
    "        # Update best score and parameters if current score is higher\n",
    "        if best_cross > best_score:\n",
    "            best_score = best_cross\n",
    "            best_params = preprocessing_params\n",
    "\n",
    "    return best_params, best_score"
   ],
   "metadata": {
    "collapsed": false,
    "ExecuteTime": {
     "end_time": "2024-03-13T16:09:02.340423Z",
     "start_time": "2024-03-13T16:09:02.330970Z"
    }
   },
   "id": "3c4b0c81fc5c6aea",
   "execution_count": 54
  },
  {
   "cell_type": "code",
   "outputs": [
    {
     "name": "stdout",
     "output_type": "stream",
     "text": [
      "Fitting 5 folds for each of 6 candidates, totalling 30 fits\n",
      "Fitting 5 folds for each of 6 candidates, totalling 30 fits\n",
      "Fitting 5 folds for each of 6 candidates, totalling 30 fits\n",
      "Fitting 5 folds for each of 6 candidates, totalling 30 fits\n",
      "Fitting 5 folds for each of 6 candidates, totalling 30 fits\n",
      "Fitting 5 folds for each of 6 candidates, totalling 30 fits\n",
      "Fitting 5 folds for each of 6 candidates, totalling 30 fits\n",
      "Fitting 5 folds for each of 6 candidates, totalling 30 fits\n",
      "Fitting 5 folds for each of 6 candidates, totalling 30 fits\n",
      "Fitting 5 folds for each of 6 candidates, totalling 30 fits\n",
      "Fitting 5 folds for each of 6 candidates, totalling 30 fits\n",
      "Fitting 5 folds for each of 6 candidates, totalling 30 fits\n",
      "Fitting 5 folds for each of 6 candidates, totalling 30 fits\n",
      "Fitting 5 folds for each of 6 candidates, totalling 30 fits\n",
      "Fitting 5 folds for each of 6 candidates, totalling 30 fits\n",
      "Fitting 5 folds for each of 6 candidates, totalling 30 fits\n",
      "Fitting 5 folds for each of 6 candidates, totalling 30 fits\n",
      "Fitting 5 folds for each of 6 candidates, totalling 30 fits\n",
      "Fitting 5 folds for each of 6 candidates, totalling 30 fits\n",
      "Fitting 5 folds for each of 6 candidates, totalling 30 fits\n",
      "Fitting 5 folds for each of 6 candidates, totalling 30 fits\n",
      "Fitting 5 folds for each of 6 candidates, totalling 30 fits\n",
      "Fitting 5 folds for each of 6 candidates, totalling 30 fits\n",
      "Fitting 5 folds for each of 6 candidates, totalling 30 fits\n",
      "Best parameters: {'lemmatize': False, 'stemming': False, 'delete_stopwords': False, 'with_numbers': True, 'normalize_numbers': False}\n",
      "Best cross-validation score: 0.875611850579648\n"
     ]
    }
   ],
   "source": [
    "best_params, best_score = find_best_cleaning_params(df)\n",
    "print(\"Best parameters:\", best_params)\n",
    "print(\"Best cross-validation score:\", best_score)"
   ],
   "metadata": {
    "collapsed": false,
    "ExecuteTime": {
     "end_time": "2024-03-13T16:09:04.629321Z",
     "start_time": "2024-03-13T16:09:02.342366Z"
    }
   },
   "id": "f8df089a12e28c7a",
   "execution_count": 55
  },
  {
   "cell_type": "code",
   "outputs": [],
   "source": [
    "def predict_req(req, expected, model, vectorizer):\n",
    "    df = pd.DataFrame([req], columns=['Requirement'])\n",
    "    X = [' '.join(req_to_words(req)) for req in df['Requirement']]\n",
    "    X = vectorizer.transform(X)\n",
    "\n",
    "    prediction = model.predict(X)\n",
    "    predicted_label = 'Functional' if prediction[0] == 1 else 'Non-Functional'\n",
    "    success = predicted_label == expected\n",
    "\n",
    "    return predicted_label, success\n"
   ],
   "metadata": {
    "collapsed": false,
    "ExecuteTime": {
     "end_time": "2024-03-13T16:09:04.633961Z",
     "start_time": "2024-03-13T16:09:04.630753Z"
    }
   },
   "id": "81d3988b4d2a4ebb",
   "execution_count": 56
  },
  {
   "cell_type": "code",
   "outputs": [],
   "source": [
    "def summarize_predictions(examples, model, vectorizer):\n",
    "    results = []\n",
    "    for req, expected_label in examples:\n",
    "        predicted_label, success = predict_req(req, expected_label, model, vectorizer)\n",
    "        results.append({\n",
    "            'Requirement': req,\n",
    "            'Expected Label': expected_label,\n",
    "            'Predicted Label': predicted_label,\n",
    "            'Success': success\n",
    "        })\n",
    "    return pd.DataFrame(results)"
   ],
   "metadata": {
    "collapsed": false,
    "ExecuteTime": {
     "end_time": "2024-03-13T16:09:04.637220Z",
     "start_time": "2024-03-13T16:09:04.634769Z"
    }
   },
   "id": "256d6249821ec43d",
   "execution_count": 57
  },
  {
   "cell_type": "code",
   "outputs": [],
   "source": [
    "examples = [\n",
    "    (\"The system shall provide a login form that accepts a username and password.\", 'Functional'),\n",
    "    (\"The application must ensure that response times are less than 2 seconds under normal load conditions.\", 'Non-Functional'),\n",
    "    (\"All user passwords shall be encrypted before saving to the database.\", 'Functional'),\n",
    "    (\"The software should be compatible with the Windows 10 operating system.\", 'Non-Functional'),\n",
    "    (\"The interface shall refresh when new data is available.\", 'Functional'),\n",
    "    (\"The product shall comply with international accessibility standards.\", 'Non-Functional'),\n",
    "    (\"Database backup shall occur every 24 hours automatically.\", 'Functional'),\n",
    "    (\"The system shall support a minimum of 500 concurrent user connections.\", 'Functional'),\n",
    "    (\"The system’s mean time to failure shall be at least 10,000 hours.\", 'Non-Functional'),\n",
    "    (\"Users must be able to complete the primary workflow in less than three minutes.\", 'Non-Functional'),\n",
    "    (\"User settings must be retained for at least one year without login.\", 'Non-Functional'),\n",
    "    (\"The system must support multi-language interfaces.\", 'Functional'),\n",
    "    (\"Ensure data integrity during transaction processing.\", 'Functional'),\n",
    "    (\"The application should load the user dashboard within 3 seconds.\", 'Non-Functional'),\n",
    "    (\"Support data export to CSV and PDF formats.\", 'Functional'),\n",
    "    (\"Must be compatible with both iOS and Android operating systems.\", 'Non-Functional'),\n",
    "    (\"Implement two-factor authentication for user logins.\", 'Functional'),\n",
    "    (\"The application must be available 99.9% of the time.\", 'Non-Functional'),\n",
    "    (\"Automatically log out users after 30 minutes of inactivity.\", 'Functional'),\n",
    "    (\"The system must scale to support up to 10,000 users simultaneously.\", 'Non-Functional'),\n",
    "    (\"Provide a way to recover forgotten passwords securely.\", 'Functional'),\n",
    "    (\"The system must encrypt sensitive data both at rest and in transit.\", 'Non-Functional'),\n",
    "    (\"Support for user roles including admin, editor, and viewer.\", 'Functional'),\n",
    "    (\"Ensure the application interface adheres to the latest web accessibility guidelines.\", 'Non-Functional'),\n",
    "    (\"The software must be installable on both Windows and MacOS.\", 'Non-Functional'),\n",
    "    (\"Offer a search function that returns results within 2 seconds.\", 'Functional'),\n",
    "    (\"The mobile app should use no more than 50MB of data per hour of activity.\", 'Non-Functional'),\n",
    "    (\"The platform must integrate seamlessly with third-party email services.\", 'Functional'),\n",
    "    (\"User feedback must be addressed and incorporated within two release cycles.\", 'Non-Functional'),\n",
    "    (\"Provide detailed logging of user actions to support auditing requirements.\", 'Functional')\n",
    "]\n"
   ],
   "metadata": {
    "collapsed": false,
    "ExecuteTime": {
     "end_time": "2024-03-13T16:09:04.641279Z",
     "start_time": "2024-03-13T16:09:04.637997Z"
    }
   },
   "id": "b3de2fa22f1894d",
   "execution_count": 58
  },
  {
   "cell_type": "code",
   "outputs": [
    {
     "ename": "TypeError",
     "evalue": "req_to_words() missing 3 required positional arguments: 'delete_stopwords', 'with_numbers', and 'normalize_numbers'",
     "output_type": "error",
     "traceback": [
      "\u001B[0;31m---------------------------------------------------------------------------\u001B[0m",
      "\u001B[0;31mTypeError\u001B[0m                                 Traceback (most recent call last)",
      "Cell \u001B[0;32mIn[59], line 1\u001B[0m\n\u001B[0;32m----> 1\u001B[0m summary \u001B[38;5;241m=\u001B[39m \u001B[43msummarize_predictions\u001B[49m\u001B[43m(\u001B[49m\u001B[43mexamples\u001B[49m\u001B[43m,\u001B[49m\u001B[43m \u001B[49m\u001B[43mmodel\u001B[49m\u001B[43m,\u001B[49m\u001B[43m \u001B[49m\u001B[43mvectorizer\u001B[49m\u001B[43m)\u001B[49m\n\u001B[1;32m      2\u001B[0m summary\n",
      "Cell \u001B[0;32mIn[57], line 4\u001B[0m, in \u001B[0;36msummarize_predictions\u001B[0;34m(examples, model, vectorizer)\u001B[0m\n\u001B[1;32m      2\u001B[0m results \u001B[38;5;241m=\u001B[39m []\n\u001B[1;32m      3\u001B[0m \u001B[38;5;28;01mfor\u001B[39;00m req, expected_label \u001B[38;5;129;01min\u001B[39;00m examples:\n\u001B[0;32m----> 4\u001B[0m     predicted_label, success \u001B[38;5;241m=\u001B[39m \u001B[43mpredict_req\u001B[49m\u001B[43m(\u001B[49m\u001B[43mreq\u001B[49m\u001B[43m,\u001B[49m\u001B[43m \u001B[49m\u001B[43mexpected_label\u001B[49m\u001B[43m,\u001B[49m\u001B[43m \u001B[49m\u001B[43mmodel\u001B[49m\u001B[43m,\u001B[49m\u001B[43m \u001B[49m\u001B[43mvectorizer\u001B[49m\u001B[43m)\u001B[49m\n\u001B[1;32m      5\u001B[0m     results\u001B[38;5;241m.\u001B[39mappend({\n\u001B[1;32m      6\u001B[0m         \u001B[38;5;124m'\u001B[39m\u001B[38;5;124mRequirement\u001B[39m\u001B[38;5;124m'\u001B[39m: req,\n\u001B[1;32m      7\u001B[0m         \u001B[38;5;124m'\u001B[39m\u001B[38;5;124mExpected Label\u001B[39m\u001B[38;5;124m'\u001B[39m: expected_label,\n\u001B[1;32m      8\u001B[0m         \u001B[38;5;124m'\u001B[39m\u001B[38;5;124mPredicted Label\u001B[39m\u001B[38;5;124m'\u001B[39m: predicted_label,\n\u001B[1;32m      9\u001B[0m         \u001B[38;5;124m'\u001B[39m\u001B[38;5;124mSuccess\u001B[39m\u001B[38;5;124m'\u001B[39m: success\n\u001B[1;32m     10\u001B[0m     })\n\u001B[1;32m     11\u001B[0m \u001B[38;5;28;01mreturn\u001B[39;00m pd\u001B[38;5;241m.\u001B[39mDataFrame(results)\n",
      "Cell \u001B[0;32mIn[56], line 3\u001B[0m, in \u001B[0;36mpredict_req\u001B[0;34m(req, expected, model, vectorizer)\u001B[0m\n\u001B[1;32m      1\u001B[0m \u001B[38;5;28;01mdef\u001B[39;00m \u001B[38;5;21mpredict_req\u001B[39m(req, expected, model, vectorizer):\n\u001B[1;32m      2\u001B[0m     df \u001B[38;5;241m=\u001B[39m pd\u001B[38;5;241m.\u001B[39mDataFrame([req], columns\u001B[38;5;241m=\u001B[39m[\u001B[38;5;124m'\u001B[39m\u001B[38;5;124mRequirement\u001B[39m\u001B[38;5;124m'\u001B[39m])\n\u001B[0;32m----> 3\u001B[0m     X \u001B[38;5;241m=\u001B[39m [\u001B[38;5;124m'\u001B[39m\u001B[38;5;124m \u001B[39m\u001B[38;5;124m'\u001B[39m\u001B[38;5;241m.\u001B[39mjoin(req_to_words(req)) \u001B[38;5;28;01mfor\u001B[39;00m req \u001B[38;5;129;01min\u001B[39;00m df[\u001B[38;5;124m'\u001B[39m\u001B[38;5;124mRequirement\u001B[39m\u001B[38;5;124m'\u001B[39m]]\n\u001B[1;32m      4\u001B[0m     X \u001B[38;5;241m=\u001B[39m vectorizer\u001B[38;5;241m.\u001B[39mtransform(X)\n\u001B[1;32m      6\u001B[0m     prediction \u001B[38;5;241m=\u001B[39m model\u001B[38;5;241m.\u001B[39mpredict(X)\n",
      "Cell \u001B[0;32mIn[56], line 3\u001B[0m, in \u001B[0;36m<listcomp>\u001B[0;34m(.0)\u001B[0m\n\u001B[1;32m      1\u001B[0m \u001B[38;5;28;01mdef\u001B[39;00m \u001B[38;5;21mpredict_req\u001B[39m(req, expected, model, vectorizer):\n\u001B[1;32m      2\u001B[0m     df \u001B[38;5;241m=\u001B[39m pd\u001B[38;5;241m.\u001B[39mDataFrame([req], columns\u001B[38;5;241m=\u001B[39m[\u001B[38;5;124m'\u001B[39m\u001B[38;5;124mRequirement\u001B[39m\u001B[38;5;124m'\u001B[39m])\n\u001B[0;32m----> 3\u001B[0m     X \u001B[38;5;241m=\u001B[39m [\u001B[38;5;124m'\u001B[39m\u001B[38;5;124m \u001B[39m\u001B[38;5;124m'\u001B[39m\u001B[38;5;241m.\u001B[39mjoin(\u001B[43mreq_to_words\u001B[49m\u001B[43m(\u001B[49m\u001B[43mreq\u001B[49m\u001B[43m)\u001B[49m) \u001B[38;5;28;01mfor\u001B[39;00m req \u001B[38;5;129;01min\u001B[39;00m df[\u001B[38;5;124m'\u001B[39m\u001B[38;5;124mRequirement\u001B[39m\u001B[38;5;124m'\u001B[39m]]\n\u001B[1;32m      4\u001B[0m     X \u001B[38;5;241m=\u001B[39m vectorizer\u001B[38;5;241m.\u001B[39mtransform(X)\n\u001B[1;32m      6\u001B[0m     prediction \u001B[38;5;241m=\u001B[39m model\u001B[38;5;241m.\u001B[39mpredict(X)\n",
      "\u001B[0;31mTypeError\u001B[0m: req_to_words() missing 3 required positional arguments: 'delete_stopwords', 'with_numbers', and 'normalize_numbers'"
     ]
    }
   ],
   "source": [
    "summary = summarize_predictions(examples, model, vectorizer)\n",
    "summary"
   ],
   "metadata": {
    "collapsed": false,
    "ExecuteTime": {
     "end_time": "2024-03-13T16:09:04.674889Z",
     "start_time": "2024-03-13T16:09:04.642011Z"
    }
   },
   "id": "9542326119a52e95",
   "execution_count": 59
  },
  {
   "cell_type": "code",
   "outputs": [],
   "source": [
    "import plotly.express as px\n",
    "\n",
    "fig = px.pie(summary, names='Success', title ='Success of the model on my examples')\n",
    "fig.show()"
   ],
   "metadata": {
    "collapsed": false
   },
   "id": "7c757e1b9e755543",
   "execution_count": null
  }
 ],
 "metadata": {
  "kernelspec": {
   "display_name": "Python 3",
   "language": "python",
   "name": "python3"
  },
  "language_info": {
   "codemirror_mode": {
    "name": "ipython",
    "version": 2
   },
   "file_extension": ".py",
   "mimetype": "text/x-python",
   "name": "python",
   "nbconvert_exporter": "python",
   "pygments_lexer": "ipython2",
   "version": "2.7.6"
  }
 },
 "nbformat": 4,
 "nbformat_minor": 5
}
